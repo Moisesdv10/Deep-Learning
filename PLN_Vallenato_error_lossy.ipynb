{
  "nbformat": 4,
  "nbformat_minor": 0,
  "metadata": {
    "colab": {
      "name": "PLN_Vallenato_error_lossy.ipynb",
      "provenance": [],
      "collapsed_sections": []
    },
    "kernelspec": {
      "name": "python3",
      "display_name": "Python 3"
    },
    "language_info": {
      "name": "python"
    },
    "accelerator": "GPU"
  },
  "cells": [
    {
      "cell_type": "markdown",
      "metadata": {
        "id": "pDMUSHUNg_LA"
      },
      "source": [
        "#Moisés David Villalba Contreras\n",
        "* Ingeniería de sistemas\n",
        "* Deep Learning"
      ]
    },
    {
      "cell_type": "markdown",
      "metadata": {
        "id": "Hk7MLpZpa0Ij"
      },
      "source": [
        "#PLN Canciones de vallenato"
      ]
    },
    {
      "cell_type": "markdown",
      "metadata": {
        "id": "DP26_SErbApD"
      },
      "source": [
        "##Instalando librerias CUDA"
      ]
    },
    {
      "cell_type": "code",
      "metadata": {
        "colab": {
          "base_uri": "https://localhost:8080/"
        },
        "id": "osMX0grdZjP3",
        "outputId": "a446ea32-06a5-408f-9fda-db95544520f0"
      },
      "source": [
        "#!pip list\n",
        "!nvcc --version  #Version de CUDA en la maquina virtual"
      ],
      "execution_count": 1,
      "outputs": [
        {
          "output_type": "stream",
          "name": "stdout",
          "text": [
            "nvcc: NVIDIA (R) Cuda compiler driver\n",
            "Copyright (c) 2005-2020 NVIDIA Corporation\n",
            "Built on Mon_Oct_12_20:09:46_PDT_2020\n",
            "Cuda compilation tools, release 11.1, V11.1.105\n",
            "Build cuda_11.1.TC455_06.29190527_0\n"
          ]
        }
      ]
    },
    {
      "cell_type": "markdown",
      "metadata": {
        "id": "bnfu3LfKcklo"
      },
      "source": [
        "##P0. Importar librerías"
      ]
    },
    {
      "cell_type": "code",
      "metadata": {
        "id": "ihfXth4kcr3p"
      },
      "source": [
        "import tensorflow as tf\n",
        "import timeit               #para medir tiempos\n",
        "import numpy as np\n",
        "import pandas as pd \n",
        "import os\n",
        "import time\n",
        "import sys"
      ],
      "execution_count": 2,
      "outputs": []
    },
    {
      "cell_type": "markdown",
      "metadata": {
        "id": "WYVxC9f_c8xI"
      },
      "source": [
        "###P0.1 Uso de GPU para entrenar en tensorflow\n"
      ]
    },
    {
      "cell_type": "code",
      "metadata": {
        "colab": {
          "base_uri": "https://localhost:8080/"
        },
        "id": "SP2aKTE9dBgO",
        "outputId": "51b084c4-7693-4057-8320-83d46da2198e"
      },
      "source": [
        "print(\"Tensorflow Version: \", tf.__version__)\n",
        "print(\"Dispositivos disponibles para entrenar: \", tf.config.list_physical_devices())\n",
        "device_name = tf.test.gpu_device_name()\n",
        "if device_name != '/device:GPU:0':\n",
        "  raise SystemError('GPU device not found')\n",
        "print('Encontrada la GPU: {}'.format(device_name))"
      ],
      "execution_count": 3,
      "outputs": [
        {
          "output_type": "stream",
          "name": "stdout",
          "text": [
            "Tensorflow Version:  2.7.0\n",
            "Dispositivos disponibles para entrenar:  [PhysicalDevice(name='/physical_device:CPU:0', device_type='CPU'), PhysicalDevice(name='/physical_device:GPU:0', device_type='GPU')]\n",
            "Encontrada la GPU: /device:GPU:0\n"
          ]
        }
      ]
    },
    {
      "cell_type": "markdown",
      "metadata": {
        "id": "5QuLm5MEdix8"
      },
      "source": [
        "###P0.2 probando rendimiento de CPU vs GPU"
      ]
    },
    {
      "cell_type": "code",
      "metadata": {
        "id": "eEEHWHp2dBc4"
      },
      "source": [
        "def cpu():\n",
        "  with tf.device('/cpu:0'):\n",
        "    random_image_cpu = tf.random.normal((100, 100, 100, 3))\n",
        "    net_cpu = tf.keras.layers.Conv2D(32, 7)(random_image_cpu)\n",
        "    return tf.math.reduce_sum(net_cpu)\n",
        "\n",
        "def gpu():\n",
        "  with tf.device('/device:GPU:0'):\n",
        "    random_image_gpu = tf.random.normal((100, 100, 100, 3))\n",
        "    net_gpu = tf.keras.layers.Conv2D(32, 7)(random_image_gpu)\n",
        "    return tf.math.reduce_sum(net_gpu)   "
      ],
      "execution_count": 4,
      "outputs": []
    },
    {
      "cell_type": "code",
      "metadata": {
        "colab": {
          "base_uri": "https://localhost:8080/"
        },
        "id": "WpYpkdUVeFTQ",
        "outputId": "58f7a50a-2d8f-4c69-d85d-3fc411856873"
      },
      "source": [
        "cpu()  #ejecutamos entrenamiento con CPU\n",
        "gpu()  #ejecutamos entrenamiento con GPU\n",
        "# Run the op several times.\n",
        "print('TIEMPO (seg) para entrenar una red convolucional de 32x7x7x3 filtros sobre un randomico de 100x100x100x3 imagenes '\n",
        "      '(batch x height x width x channel). suma de 10 epochs.')\n",
        "print('CPU (s):')\n",
        "cpu_time = timeit.timeit('cpu()', number=10, setup=\"from __main__ import cpu\")\n",
        "print(cpu_time)\n",
        "print('GPU (s):')\n",
        "gpu_time = timeit.timeit('gpu()', number=10, setup=\"from __main__ import gpu\")\n",
        "print(gpu_time)\n",
        "print('GPU speedup over CPU: {}x'.format(int(cpu_time/gpu_time)))"
      ],
      "execution_count": 5,
      "outputs": [
        {
          "output_type": "stream",
          "name": "stdout",
          "text": [
            "TIEMPO (seg) para entrenar una red convolucional de 32x7x7x3 filtros sobre un randomico de 100x100x100x3 imagenes (batch x height x width x channel). suma de 10 epochs.\n",
            "CPU (s):\n",
            "3.6904790179999907\n",
            "GPU (s):\n",
            "0.05349419699999203\n",
            "GPU speedup over CPU: 68x\n"
          ]
        }
      ]
    },
    {
      "cell_type": "markdown",
      "metadata": {
        "id": "ToBRJcaMeJ5z"
      },
      "source": [
        "###P0.3 Dejando activo la GPU"
      ]
    },
    {
      "cell_type": "code",
      "metadata": {
        "colab": {
          "base_uri": "https://localhost:8080/"
        },
        "id": "NgMDt-00eI_-",
        "outputId": "ffbe0d0c-589d-42d6-c0f1-a0c786a52af9"
      },
      "source": [
        "tf.device('/device:GPU:0') #activando la GPU "
      ],
      "execution_count": 6,
      "outputs": [
        {
          "output_type": "execute_result",
          "data": {
            "text/plain": [
              "<tensorflow.python.eager.context._EagerDeviceContext at 0x7f714070b8c0>"
            ]
          },
          "metadata": {},
          "execution_count": 6
        }
      ]
    },
    {
      "cell_type": "markdown",
      "metadata": {
        "id": "i_oYm--zeRa8"
      },
      "source": [
        "##P0. Descarga y preprocesado de los datos"
      ]
    },
    {
      "cell_type": "code",
      "metadata": {
        "id": "Gzve8EwVeSXu",
        "colab": {
          "base_uri": "https://localhost:8080/"
        },
        "outputId": "672393cb-a2cf-4cc9-8305-a9db1fc019c4"
      },
      "source": [
        "fileDL= tf.keras.utils.get_file('Solo_Letras_PLN_Vallenato.txt','https://raw.githubusercontent.com/Moisesdv10/Deep-Learning/main/Proyecto_Final/Solo_Letras_PLN_Vallenato.txt')\n",
        "texto = open(fileDL, 'rb').read().decode(encoding='utf-8')"
      ],
      "execution_count": 7,
      "outputs": [
        {
          "output_type": "stream",
          "name": "stdout",
          "text": [
            "Downloading data from https://raw.githubusercontent.com/Moisesdv10/Deep-Learning/main/Proyecto_Final/Solo_Letras_PLN_Vallenato.txt\n",
            "188416/182264 [===============================] - 0s 0us/step\n",
            "196608/182264 [================================] - 0s 0us/step\n"
          ]
        }
      ]
    },
    {
      "cell_type": "markdown",
      "metadata": {
        "id": "eKVtib1xeil3"
      },
      "source": [
        "###P0.1 limpiar/normalizar el texto\n",
        "\n",
        "---\n",
        "*   pasar todo a minusculas\n",
        "*   convertir tildes a vocales sin tilde\n",
        "*   eliminar caracteres especiales (*#!()%=\n",
        "*   eliminar saltos de linea y tab (identación)"
      ]
    },
    {
      "cell_type": "code",
      "metadata": {
        "colab": {
          "base_uri": "https://localhost:8080/"
        },
        "id": "Zy3O0XxQej0z",
        "outputId": "a2d1e4b3-0778-45a9-999b-894581ff7799"
      },
      "source": [
        "import re\n",
        "from unicodedata import normalize\n",
        "#pasa todo a minuscula\n",
        "texto     = texto.lower()\n",
        "#reemplazar tildes por letras similares sin tildes\n",
        "transfor  = dict.fromkeys(map(ord, u'\\u0301\\u0308'), None)\n",
        "texto     = normalize('NFKC', normalize('NFKD', texto).translate(transfor))\n",
        "#quitar saltos de linea\n",
        "texto      = texto.strip()\n",
        "texto      = re.sub('\\r|\\n', ' ',texto)\n",
        "#quitar espacios dobles\n",
        "texto      = re.sub(' +', ' ', texto)\n",
        "#quitando caracteres especiales\n",
        "texto = re.sub(r\"[^a-zA-Z0-9ñ]+\",\" \",texto)\n",
        "print(texto)"
      ],
      "execution_count": 8,
      "outputs": [
        {
          "output_type": "stream",
          "name": "stdout",
          "text": [
            "no podras ahora cuentame tu que haces por aqui no digas que ese otro no te hizo feliz porque en mi tiempo solo de ti me olvide y ahora estoy junto a ella y me enamore mis amigos me dicen preguntas por mi ayer tu me tenias y hoy quieres volver no pierdas mas tu tiempo este amor se murio no seas tan ilusa que hoy me marcho yo no vengas a decirme que me amas mujer no te creo una palabra lo sabes muy bien flores versos y cartas mucho te obsequie y aun asi para ti suficiente no fue y ahora muy claramente te voy a decir cuando quieras besarme pues ya no podras estare en otra parte siendo muy feliz te estrellaras de frente pues no te amo mas alguien me brindara lo que tanto pedi y a ti te ignorare sin mirar hacia atras como me vas a amar si ni te amas a ti no me vas a engañar tiempo te dedique y descarta que a ti algun dia volvere hoy te digo que el tonto por fin se canso abro los ojos y miro con claridad tus desplantes un dia se iban a acabar y hoy te digo que el fin acaba de empezar me ire con quien me ama sin pensar en ti te dejo y pues rencores no voy a sentir ojala tus monedas te hagan feliz porque tu solo adoras lo que es material y ahora muy claramente te voy a decir cuando quieras besarme pues ya no podras estare en otra parte siendo muy feliz te estrellaras de frente pues no te amo mas alguien me brindara lo que un dia pedi y a ti te ignorare sin mirar hacia atras como me vas a amar si ni te amas a ti no me vas a engañar tiempo te dedique y descarta que a ti algun dia volvere solo para ti mi amor esta cancion es solo para ti te quiero mi vida yo siento que te he querido y te quiero mas es algo que necesito para vivir mi vida no seria vida si tu no estas todo lo veo mas bonito solo por ti pero no comprendo porque tu dudas de mi todavia no alcanzo a entender porque piensas asi y tu debes pensar cuando estamos juntos lo que sentimos lo que vivimos mi amor es algo tan bonito eso es tan bello que es muy dificil que lo olvidemos por dios yo no se que pasara ay amor si tu no estas yo soy un hombre feliz y esto te lo debo a ti yo que mas puedo pedir yo no se que pasara ay amor si tu no estas lo mejor que me ha pasado en toda mi vida ha sido tenerte a ti como compañera me has dado cosas tan bellas cosas tan lindas que vivo y doy mi vida solo por ellas y porque tratas de dudar de este amor feliz si mi vida ha sido y sera todo para ti y tu debes pensar cuando estamos juntos lo que sentimos lo que vivimos mi amor es algo tan bonito eso es tan bello que es muy dificil que lo olvidemos por dios yo no se que pasara ay amor si tu no estas yo soy un hombre feliz y esto te lo debo a ti yo que mas puedo pedir yo no se que pasara ay amor si tu no estas orgullosa cuando yo te recuerdo morenita no puedo explicar lo que me da yo siento que me da una rasquiñita la emocion no la puedo soportar yo siento que me da una rasquiñita la emocion no la puedo soportar cuando llevo tres dias que no te veo me cae un desespero que es peor mientras no se me cumplan los deseos no me puede pasar aquel dolor mientras no se me cumplan los deseos no me puede pasar aquel dolor lo que ocurre es que el hombre que quiere nunca puede ocultar el cariño lo que ocurre es que el hombre que quiere nunca puede ocultar el cariño en gran parte ese orgullo que tienes te aseguro que cuentas conmigo en gran parte ese orgullo que tienes te aseguro que cuentas conmigo morenita mia ven aca no me vayas a decir que no morenita mia ven aca no me vayas a decir que no ven por dios mi negra ten piedad que este dolor no lo soporto yo ven por dios mi negra ten piedad que este dolor no lo soporto yo ay virgen del carmen dame vida dame salud que lo demas lo resuelvo yo solo se que te meten cuentecitos pa que tu te comportes mal conmigo cuando yo te veo llena de caprichos me regreso a la casa pensativo cuando yo te veo llena de caprichos me regreso a la casa pensativo y en el mismo momento me regreso con deseo de pedirte explicacion como yo soy el hombre que te aprecio no deseo recibir desilusion como yo soy el hombre que te aprecio no deseo recibir desilusion lo que ocurre es que el hombre que quiere nunca puede ocultar el cariño lo que ocurre es que el hombre que quiere nunca puede ocultar el cariño en gran parte ese orgullo que tienes te aconsejo que vengas conmigo en gran parte ese orgullo que tienes te aconsejo que vengas conmigo morenita mia ven aca no me vayas a decir que no morenita mia ven aca no me vayas a decir que no ven por dios mi negra ten piedad que este dolor no lo soporto yo ven por dios mi negra ten piedad que este dolor no lo soporto yo tu cumpleaños ay vamos a entonar una cancion pa que cantemos vamos a festejar con emocion su cumpleaños vamos a decirle con amor que la felicitamos y que siga cumpliendo muchos mas que la virgen la tiene que cuidar que de mi parte nada en la vida le faltara y que los cumpla feliz muy feliz deseamos todos en esta reunion bis tus amistades llegamos aqui pa compartir esa gran bendicion bendicion de mama bendicion de papa bis y yo te vine a cantar esta cancion y te deseo mucha felicidad ay vamos a abrir una botella de vino pa que brindemos por que hoy con toditos tus amigos amanecemos ay por que hoy esta cumpliendo años lo que mas quiero y estoy repleto de felicidad que hasta me han dado ganas de llorar gracias a dios por que has cumplido un año mas cuantos clavelitos nacerian junto contigo cuantas rosas blancas ese dia tambien nacieron cual seria el cura que le diria a tu padrino el deber que el ya tenia con su ahijada que los diez mandamientos los rezaban desconociendo que tu tenias quien te cuidara y que los cumpla feliz muy feliz deseamos todos en esta reunion tus amistades llegamos aqui pa compartir esa gran bendicion bendicion de mama bendicion de papa mil felicitaciones que cumplas muchos mas que la virgen te cuide que te cuide bastante por que yo de mi parte tambien te cuidare el mas fuerte de que sirve la fuerza que tu amor me relata de que sirve tener lo mas fuerte del mundo y vivir sin tu amor de que sirve el cabello si en el fondo lo bello no tiene que ver donde esta la razon donde esta mi potencia que no da pa tenerte si tan solo con verte dejo de ser fuerte te digo verdad donde esta mi presencia tan sencible a tu vida tan sencible al amor de que sirve mi fuera si ya esta resentida y asi pierde sanzon al mas fuerte le miento todo tiene su tiempo pa llegar a una ilusion me consuelo cuando dice que venga y que cante aquella cancion tan triste que habla de un amante de aquel vallenato viejo que quiero yo canto el que canto el viejo alejo que quiero y que canto yo y ese vallenato vive en mi entre mas viejo mejor esta como vive tu presencia asi como vive tu cariño ya no te olvides de aquello que tu amor fue tan bello si los aires borraron tu amor lo taparon tus huellas en mi cuando creza el cabello cuando vuelvan mis fuerzas no creas que por eso te voy a olvidar para que tener todo si se olvida de un modo si el que no tiene nada le faltan mis fuerzas pa verte yo en si primera vez que un heroe no lo quiere la historia por culpa de un querer quien vive de los tirunfos de grandeza y euforia sin cariño y placer y al mas fuerte del mundo que se viste de gloria yo lo he visto perder me consuelo cuando dice que venga y que cante aquella cancion tan triste que habla de un amante de aquel vallenato viejo que quiero yo canto el que canto el viejo alejo que quiero y que canto yo y ese vallenato vive en mi entre mas viejo mejor esta como vive tu presencia asi como vive tu cariño ya la indiferencia siento un dolor en mi corazon siento que se acaba de verdad todo lo que vivimos los dos algun dia tenia que terminar todo lo que vivimos los dos todo en historia se quedara el orgullo que a mi me mato ahora pudo mas que la verdad se que yo no era el mejor homnbre del mundo se que me merezco que acabes con esto y punto pero ten presente todo lo que hemos pasado y si es suficiente un rumor para acabarlo y si has decidido no volver conmigo suerte mucha suerte suerte en tu camino pero lo que queiro yo sinceramente es volver contigo volver para siempre esa indiferencia tuya es la que me domina me hace perder la calma me hace sentir cosquilla y a pesar que terminamos sigo pensando en ella pensando en su sonrisa y pensando en su pelo ay ay ay ay ay ay ay ay ay mi vida ay ay ay ay tienes que confiar en el amor ay no debes confiar en la maldad el tiempo te dara la razon cuando te enteres de la verdad tus amigos piensan que tu y yo somos una pareja ideal te digo que con mentiras no te ruego no me hagas llorar ay no estes esperando que yo me consiga otra ya me estoy cansando de los teatros que me montas ay me ire de tu vida si de mi sigues dudando ay cuando me decida no te quiero ver llorando y si has decidido no volver conmigo suerte mucha suerte suerte en tu camino pero lo que queiro yo sinceramente es volver contigo volver para siempre esa indiferencia tuya es la que me domina me hace perder la calma me hace sentir cosquilla y a pesar que terminamos sigo pensando en ella pensando en su sonrisa y pensando en su pelo ay ay ay ay ay ay ay ay ay mi vida ay ay ay nacio mi poesia nacio mi poesia como las madrugadas en mi pueblo ardiente puras y majestuosas mis versos alegres y libres como el viento cual astro fugaz del firmamento en la noche hermosa porque el folclor de mi valledupar donde el amor nace en mil corazones se eternizo en el alma del cesar y en la alegria de mil acordeones ya no hay casitas de barengue se lleno el valle mas de luces no venden ya arepita e queque merengue chiricana y dulce pero el folclor perdura como el aruaco en la serrania como el rio cesar en lozania con sus aguas puras que bellas melodias que compone el hombre sin premura y todos sus amigos murmuran que hermosa y grande es la tierra mia x morenita mia te invito al festival de mi tierra y sientas las notas de un acordeon y entiendas que inmensa es el alma del que canta y aquel trovador que en serenata revela su amor los niños del pueblo no esperan brisas que eleven su fragil cometa al viento tan solo esperan el feliz momento que parrandear sus padres le permitan ya no hay casitas de barengue se lleno el valle mas de luces no venden ya arepita e queque merengue chiricana y dulce amor de mis amores tu que eres errante golondrina deja de ser alma peregrina y escucha mis canciones ven a la tierra mia mi tierra gloriosa de acordeones region laboriosa con mil dones seguro que aqui te quedarias nacio mi poesia en la tierra mia me sobran las palabras puedo besarte ahora mi amor con toda el alma puedo robarte un beso solo con la mirada siento que te amo mas que hoy me gstas mas es algo singular me sobran las palabras que hago yo sin tus lindos ojos que hago yo si no escucho tu voz me muero de pena me muero de olvido pues la vida entera la llevo contigo puedo jurarte ahora amor amor del alma puedo tocar el cielo con verte en las mañana hoy cortare una flor que se parezca a ti que brille con el sol y me haga sonreir que hago yo sin tus lindos ojos que hago yo si no escucho tu voz me muero de pena me muero de olvido pues la vida entera la llevo contigo me muero de pena me muero de olvido pues la vida entera la llevo contigo me muero de pena me muero de olvido pues la vida entera la llevo contigo una aventura mas que te vas pues por mi perder tu libertad quien te ha dicho que quiero ponerte cadenas de amor yo tan solo busque en tu vivir solamente un instante feliz yo tan solo esperaba que tu aliviaras si quiera un instante mi amargo existir tu eres una persona de aquella que no olvidare imposible tener el encanto que no tengo yo saber bien que fue casualidad ese dia en que te pude encontrar mas no pienses que te ando buscando solamente una aventura mas yo quisiera saber por que tu tienes otra manera de ser hay lugares muy lejos de aqui donde nadie ha aprendido a querer ni siquiera es saber por que yo tu cariño no puedo olvidar piensa bien que yo soy provinciano y no puedo dejarte de amar buscare en otro amor un consuelo para mi porque se que para ti nada nada valgo yo bis me quedo el corazon solitario el destino es asi pero sigue el camino tranquila y olvida mi amor yo no espero que pidas perdon yo tambien engañe un corazon yo tan solo esperaba que tu fueras siempre la dueña del alma de este soñador cuatro rosas hoy vengo con mis manos llenas de sinceridad llena de verdades porque el hombre cuando es noble se arrepiente te quiero con las fuerzas que no tengo y por nada de este mundo yo te pierdo pero no voy a dejar todo por nada el amor sincero por el pasajero el amor que vale por el de la calle por andar de locos yo casi te pierdo pero me arrepiento voy a conquistarte por eso traigo cuatro rosas en mis manos una por cada tristeza que te he causado perdona por ocultarte cosas que eran importantes perdona yo no queria entender que no podia olvidarte perdona haberte pedido que nos dieramos un tiempo perdona mi locura mas grande solo a ti te quiero solo a ti solo a ti te veran de la mano de este hombre enamorado solo a ti solo a ti quiero serte fiel hasta con el pensamiento solo a ti solo a ti te debo el olvido de mi triste pasado solo a ti solo a ti quiero llevarte a la iglesia y jurarte amor eterno solo a ti mi amor hoy siento que contigo soy nueva criatura soy un hombre nuevo vengo a saberlo cuando casi me olvidabas me arrepiento con las fuerzas que no tengo y por nada de este mundo yo te pierdo pero no voy a dejar todo por nada el amor sincero por el pasajero el amor que vale por el de la calle por andar de locos yo casi te pierdo pero me arrepiento voy a conquistarte por eso traigo cuatro rosas en mis manos una por cada tristeza que te he causado perdona por ocultarte cosas que eran importantes perdona yo no queria entender que no puedo olvidarte perdona haberte pedido que nos dieramos un tiempo perdona mi locura mas grande solo a ti te quiero solo a ti solo a ti te veran de la mano de este hombre enamorado solo a ti solo a ti quiero serte fiel hasta con el pensamiento solo a ti solo a ti te debo el olvido de mi triste pasado solo a ti solo a ti quiero llevarte a la iglesia y jurarte amor eterno solo a ti mi amor bonito es el amor me enamore de una mujer que me tendio su mano me enamore como cualquier humano que tiene fe en dios nuestro señor me enamore si tu me aceptas no habra en mi pecado estoy de ti tan loco enamorado por que el amor es mandato de dios bis que bonito es el amor cuando nos llega se siente en el alma por que cuando hay comprension todo estan bello con el ser que uno ama me enamore como nadie se enamorara lo mas lindo es querer y amar y sentirse uno correspondido me enamore como la luz en la oscuridad que me llena de dicha y de paz el amor es en mi lo mas lindo hay que entender todo cambio cuando llegas tes a mi yo tu be fe en conquistar te mi reina linda y te dare todo el cariño que nunca esperaste por que mi dios ahora esta de mi parte hoy se que no hay duda con nuestro amor bis que bonito es el amor cuando nos llega se siente en el alma por que si hay comprension todo es tan bello con el ser que uno ama me enamore como nadie se enamorara lo mas lindo es querer y amar y sentirse uno correspondido me enamore como la luz en la oscuridad que me llena de dicha y de paz el amor es en mi lo mas lindo a blanco y negro quiero aprender a volar y si tu me besas yo toco las nubes quiero aprender a cantar y si me acaricias le gano a diomedes quiero aprender a olvidar y tu eres la unica que puede arrancarme del alma esos recuerdos que tanto duelen y tu eres la que puede pintar con mil colores mi mundo a blanco y negro borrar mis decepciones y tu eres la que puede arrancarme los años para ser siempre joven y estar siempre a tu lado por tantos años vivi en mil amores vivi equivocado prentendia encontrar una rosa en un arbol caido y por eso casi que me caigo al final del abismo pero tus ojos con una mirada del fin me sacaron y tu eres la que puede pintar con mil colores mi mundo a blanco y negro borrar mis decepciones yo no quiero envecejer y si estas conmigo le gano a los años me llenas de juventud con solo mirar tu carita inocente asegurame jesus que despues de mi no habra otro que la bese y te prometo que siempre voy a quererla hasta el dia de mi muerte y tu eres la que puede pintar con mil colores mi mundo a blanco y negro borrar mis decepciones y tu eres la que puede arrancarme los años para ser siempre joven y estar siempre a tu lado por tantos años vivi en mil amores vivi equivocado prentendia encontrar una rosa en un arbol caido y por eso casi que me caigo al final del abismo pero tus ojos con una mirada del fin me sacaron y tu eres la que puede pintar con mil colores mi mundo a blanco y negro borrar mis decepciones y tu eres la que puede arrancarme los años para ser siempre joven y estar siempre a tu lado todo por la plata ay los amores que yo tuve alguna ves me dejaron por que no tenia plata hoy que tengo toditas quieren volver pero con migo ya no consiguen nada si uno tiene plata todos lo persiguen pero si se acaba eso es imposible cuando uno se muere no se lleva nada si deja riqueza otro se la gasta ombe si la viuda todavia esta buena le llueven maridos hasta que se muera y si aquella viuda todavia todavia aguanta le llueven marido tambien por la plata tambien por la plata le llueven marido y si aquella viuda todavia aguanta y si aquella viuda todavia aguanta le llueven maridos tambien por la plata hay por eso esque no me vuelvo a enamorar yo me quedo solitario en este mundo por eso esque no me vuelvo a enamorar por todo lo que siempre me a sucedido si no tienes todos a ti te miran mal y si tienes pues te sobran los amigos cuando uno tiene plata todos lo persiguen pero si se acaba eso es imposible cuando uno se muere no se lleva nada si deja riqueza otro se la gasta ombe si la viuda todavia esta buena le llueven maridos hasta que se muera y si aquella viuda todavia todavia aguanta le llueven marido tambien por la plata tambien por la plata le llueven marido y si aquella viuda todavia aguanta y si aquella viuda todavia aguanta le llueven marido tambien por la plata tambien por la plata le llueven maridos y si aquella viuda todavia aguanta todo de cabeza este es mi cancion de despedida sera lo mejor para los dos pues no soy el dueño de tu vida y lo mas grave no se porque no lo entiende el corazon di me como hago para explicarle a mi alma envuelta entre la fe que aunque sea dificil olvidarte debo intentarlo por que creo que nunca te podre tener si no deseas que me marche demuestra que al igual que yo quieres amarme y que tambien te estas muriendo por besarme y a si yo intentare esperarte asta cuando decidas entregarte a este hombre que a hecho todo para enamorarte hay porque estoy enloqueciendo y tengo todo de cabeza te voy a seguir queriendo aunque tu no te des cuenta que el maldito sufrimiento es quien causa mis tristeza y de paso a mi conquista le va quitando la fuerza que no puedo darte el mundo para nadie es un secreto que tan solo te aseguro que seras mi amor eterno quien controle mi futuro y me saque de este infierno donde lo vello y lo puro se destruye con el tiempo este es mi cancion de despedida sera lo mejor para los dos pues no soy el dueño de tu vida y lo mas grave no se porque no lo entiende el corazon di me como hago para explicarle a mi alma envuelta entre la fe que aunque sea dificil olvidarte debo intentarlo por que creo que nunca te podre tener hay si no deseas que me marche demuestra que al igual que yo quieres amarme y que tambien te estas muriendo por besarme y a si yo intentare esperarte asta cuando decidas entregarte a este hombre que a hecho todo para enamorarte hay porque estoy enloqueciendo y tengo todo de cabeza te voy a seguir queriendo aunque tu no te des cuenta que el maldito sufrimiento es quien causa mis tristeza y de paso a mi conquista le va quitando la fuerza que no puedo darte el mundo para nadie es un secreto que tan solo te aseguro que seras mi amor eterno quien controle mi futuro y me saque de este infierno donde lo bello y lo puro se destruye con el tiempo dile dios se que tu eres muy buen y que yo nunca te correspondi que lindo amor me brindabas y yo tan solo me reia de ti hoy que lo pienso entonces me pregunto por que motivo me porte tan cruel si ella estan buena no puedo mentirle seria negar que hay un amanecer coro dile dios que me perdone para yo entender que falle yo le prometo no volverlo hacer el amor que estoy sintiendo aqui en mi corazon esta vez yo le aseguro no abra mas dolor y no abra mas dolor por que hoy triste y arrepentido estoy yo no pude entender su dolor pero se que nunca es tarde señor yo que vivi de placeres pero contigo no se que paso tu me enseñaste el camino me hiciste saber que es el amor y y no abra mas dolor por que hoy triste y arrepentido estoy yo no pude entender su dolor pero se que nunca es tarde señor ii siento corre por mis venas el gran amor con el que un dia jugue nunca pense que por ella sintiera tanto si la des precie hoy solo espero pue ella me perdone seque dolida se encuentra lose seque no es facil borrar el recuerdo de un mal amor que jugo con su ayer el dolor me invadira si no encuentro el perdon triste yo me quedare si tiene la razon tu y yo llano podemos seguir mas asi esta vez linda perdona se que te ofendi y ahora yo vengo a pedirte perdon por que quiero enmendar ese error el amor que invadio el corazon que cosas tiene el destino señor yo que vivi de placeres pero contigo no se que paso tu me enseñaste el camino me hiciste saber que es el amor y no abra mas dolor por que hoy triste y arrepentido estoy yo no pude entender su dolor pero se que nunca es tarde señor y no abra mas dolor por que hoy tristeza camino por las calles solitario tengo frio y llueve fuerte sin sesar estoy trite tu ausencia me hace daño es mi vida solo un llanto y nada mas se gastaron tus palabras y mis sueños mi futuro es tan incierto es la realidad se marcharon tus besos tu sonrisa hoy muriendo mi alma no quiere volar tristeza dile que aun la espero que le tengo abrazos nuevos por que oscuro es mi sendero triteza por su amor me estoy muriendo se esta apagando mi fuego hoy no soplan vientos nuevos necesito de tu aliento necesito de tu aliento otro dia mas ausente otra noche sin tenerte yo creo mi dios que no aguanto mas esta soledad me quiere matar yo creo mi dios que no aguanto mas yo juro por dios no soporto mas tristeza hasta sendero necesito de su cielo necesito de su cielo la lluvia continua con su llanto son las nubes que no dejan de llorar sin tu presencia mi delirio se hace largo mi corazon sin ti no sabe vibrar mi alma se congela en el invierno mi vida es un martirio es una tempestad sin remedio voy callendo en un abismo como un barco que pronto va a naufragar triteza eres tu mi compañera fiel testigo de mis penas en este horrible tormento tristeza ya no tengo amaneceres ya no tengo atardeceres en mi oscuro laberinto solo me acompañas tu solo me acompañas tu otro dia mas ausente hasta no soporo mas tristeza dile que aun la espero hasta sendero tristeza una hoja en blanco fue imposible sacar tu recuerdo de mi mente fue imposible olvidar que algun yo te quise tanto tiempo paso desde el dia que te fuiste alli supe que las despedidas son muy tristes nunca me imagine que un tren se llevaria en su viaje aquellas ilusiones que de niños nos juramos todos tus sentimientos los guardaste en tu equipaje quisiste consolarme y me dijiste yo te amo desde entonces no supe que seria de tu vida desde entonces no supe que algun dia regresabas los amigos del pueblo preguntaron si volvias llorando di la vuelta y no les supe decir nada ayer que regrese a mi pueblo alguien me dijo que ya te casaste mirame y dime si ya me olvidaste me marchare con los ojos aguados despues le pregunte a la luna me dio la espalda e intento ocultarse hasta la luna sabe que me amaste hasta la luna sabe que aun me amas y vuela vuela por otro rumbo ve y sueña sueña que el mundo es tuyo tu ya no puedes volar conmigo aunque mis sueños se iran contigo es tan triste tener que decirte que me olvides otro amor ha llegado a mi vida y no te quiero es muy tarde y no puedo negarte que me muero pero no callaran mis palabras pa decirte que soñare contigo siempre que cierre mis ojos y entonare por ti mis cantos tristes noche a noche que llorare sin ti cuando recuerde que estoy solo y al recordar que duermes en los brazos de otro hombre me pregunto si aun esperas algo de mi vida si en tu memoria vive aquel amor de tantos años aquel hombre que siempre te ha querido desde niña que hoy llora porque el amor de su vida se ha casado es triste ver que un tren se aleja y en el se va lo mejor de tu vida dime el motivo de tu despedida porque te fuiste dejando mil penas un dia recibi tu carta quiese leerla y era una hoja en blanco pues de tu vida nunca supe nada como preguntas que si aun te amo y vuela vuela por otro rumbo ve y sueña sueña que el mundo es tuyo tu ya no puedes volar conmigo aunque mis sueños se iran contigo amarte mas no pude para que me quieres culpar si tu eras para mi como agua pal sediento acaso no recuerdas ya que me senti morir sin la miel de tus besos pero una vez te vi partir no lo pude evitar me quede en el intento dejaste de regae jardin y en el no quedan ya sino petalos muertos entonces para que decir que no te amaba si no es cierto entonces para que decir que no te amaba si no es cierto decir que no te amaba seria negar mis canciones y que freddy molina nunca le canto a su tierra que la cumbia y el porro no son el sentir mas noble de todos los troveros de la region sabanera y me forge contigo todo un mundo de ilusiones hasta senti llevarte como la sangre en mis venas pero un dia te marchaste de mi tierra sin decirme porque ni para donde pero un dia te marchaste de mi tierra sin decirme porque ni para donde te quise con el alma bien sabes que amarte mas no pude volaste con rumbo hacia las nubes mas altas ya no pude alcanzarte hoy cuando de la nube te bajas ya es demasiado tarde que vaina pues ya no queda nada de aquel amor tan grande pues ya no queda nada de aquel amor tan grande quien pudo amarnos mas que dios si fue quien nos creo un dia a su semejanza el mismo que en la cruz murio por nuestra salvacion uno como si nada de igual manera sufri yo la ausencia de su amor mientras tanto volabas sin importarte mi dolor ahi estuvo tu error entonces que reclamas y hoy vienes buscando perdon porque un viento quebro tus alas y hoy vienes buscando perdon porque un viento quebro tus alas yo puedo perdonarte si es que estas arrepentida pero volver contigo no lo puedo hacer ni en sueños recuerda que te di la mejor parte de mi vida buscando ser feliz pero falle en mi noble empeño porque mis sentimientos los dejaste por el suelo como algo que no sirve y que en cualquier parte se tira y si en algo te sirve de consuelo le pedire a mi dios que te bendiga y si en algo te sirve de consuelo le pedire a mi dios que te bendiga te quise con el alma bien sabes que amarte mas no pude volaste con rumbo hacia las nubes mas altas ya no pude alcanzarte hoy cuando de la nube te bajas es demasiado tarde que vaina pues ya no queda nada de aquel amor tan grande pues ya no queda nada de aquel amor tan grande no todo puede llamarse amor es normal que salga el sol y me pregunte por ella es normal que las estrellas se pregunten que paso hay quienes por corazon tienen un pedazo de piedra que sera lo que ella lleva que solo dejo dolor te ha dejado de querer tu bonita mariposa se posaba entre las rosas para confundirte bien te ha dejado de querer o talvez nunca te quiso despues de que hizo lo que quiso se fue sin explicar bien jugo conmigo sino era enserio decir encambio hizo que yo creyera en su corazon ay ay como te explico que te ha pasado igual que a mi oye mi amigo no todo puede llamarse amor ay ay a mi tambien me paso lo mismo tambien ame y cogio el camino la mia se fue cortando las alas a un corazon que feliz volaba y todavia la quiero la extraño la pienso todos los dias miro al cielo sin hallar explicacion a mi tambien me paso lo mismo tambien ame y cogio el camino la mia se fue cortando las alas a un corazon que feliz volaba triste historia jorgito espero que hayas aprendido la leccion no todo lo que brilla es oro y no todo puede llamarse amor tienes razon victor esto es duro mira lo que aprendi en colombia ay ombe y oye esto eeeee no puse freno amaba y yo la amaba y segui todo su fuego creyendo que yo era su gran amor ay ay nunca te quiso por eso te voy a repetir oye jorgito no todo puede llamarse amor ay ay a mi tambien me paso lo mismo tambien ame y cogio el camino la mia se fue cortando las alas a un corazon que feliz volaba hoy aprendi que hay que ser sincero si no hay amor no digas te quiero yo lo aprendi entre tanto daño nunca me amo y decia te amo a parrandear cuando nos quejemos porque cantar pa el dolor es bueno a mi tambien me paso lo mismo vamos a cantar jorgito ven ven eeee a mi tambien me paso lo mismo le di toda mi alma y mi corazon pero ella fuaz me abandono a mi tambien me paso lo mismo son las cosas del amor yo te lo explico jorgito a mi tambien me paso lo mismo y tu que la amabas tanto pero ella nunca te quiso a mi tambien me paso lo mismo asi es el amor inseguro impredecible a mi tambien me paso lo mismo ay ombe olvidarla es imposible eeeeeeee una aventura mas que te vas pues por mi perder tu libertad quien te ha dicho que quiero ponerte cadenas de amor yo tan solo busque en tu vivir solamente un instante feliz yo tan solo esperaba que tu aliviaras si quiera un instante mi amargo existir tu eres una persona de aquella que no olvidare imposible tener el encanto que no tengo yo saber bien que fue casualidad ese dia en que te pude encontrar mas no pienses que te ando buscando solamente una aventura mas yo quisiera saber por que tu tienes otra manera de ser hay lugares muy lejos de aqui donde nadie ha aprendido a querer ni siquiera es saber por que yo tu cariño no puedo olvidar piensa bien que yo soy provinciano y no puedo dejarte de amar buscare en otro amor un consuelo para mi porque se que para ti nada nada valgo yo porque se que para ti nada nada valgo yo me quedo el corazon solitario el destino es asi pero sigue el camino tranquila y olvida mi amor yo no espero que pidas perdon yo tambien engañe un corazon yo tan solo esperaba que tu fueras siempre la dueña del alma de este soñador yo pense que en tus ojos tan lindos habia eternidad pero nunca pense que tan pronto fueras a partir te elevaron tus alas al sol que brillaba en aquella ilusion pero al fin fue tu vuelo tan corto y tu olvido mas fuerte que yo yo quisiera saber por que tu que llegabas tan llena de amor cual motivo no te hizo entender por que fue tan fugaz tu pasion y si quieres saber por que yo tu cariño no puedo olvidar piensa bien que yo soy provinciano y no puedo dejarte de amar buscare en otro amor un consuelo para mi porque se que para ti nada nada valgo yo porque se que para ti nada nada valgo yo tragao de ti oe esta traga o si estoy traga o compadre no se lo niego y esta cancion es para mi novia ay como mandada por dios asi llegaste tu mi vida sin avisar yo no esperaba tanto quien iba a imaginar que un hombre como yo por fin se iba a enamorar ahora el momento llego quiero que mis canciones solo hablen de ti quiero mil bendiciones para ti para mi te juro que a mi lado nunca vas a sufrir ya lo veras que se pasen los siglos los milenios lo que necesito es tiempo para enamorarte como yo me siento enamorado que te mueras por besarme como yo me muero por besar tus labios estoy enamora o traga o de ti de tu mirada encantadora ay de un no se que que me emociona que me vuelve loco y estoy enamora o traga o de ti sabroso es que vivo yo ahora ay con la mujer que me emociona que me vuelve loco si es de salir yo salgo con mi novia si es de beber me los pego con ella si es de viajar la llevo a las estrellas todo lo que sea yo lo hago por mi novia estoy enamora o traga o de ti de tu mirada encantadora de un no se que que me emociona que me vuelve loco ay amanecer junto a ti es como cuando nace un niño y ve a su mama de la emocion tan grande me dan gana e llora porque gracias a ti encontre la felicidad cuando estoy lejos de ti es como no existir en este mundo quizas el no poder besarte y no poderte abrazar me llena de nostalgia solo pienso en llamar decirte que todos esos minutos y segundos que no te tengo a mi lado algun dia tendran su recompensa porque hemos luchado en lo bueno y en lo malo porque asi como me amas yo te amo estoy enamora o traga o de ti de tu mirada encantadora ay de un no se que que me emociona que me vuelve loco ay amor estoy enamora o traga o de ti sabroso es que vivo yo ahora ay con la mujer que me emociona que me vuelve loco si es de salir yo salgo con mi novia si es de beber me los pego con ella si es de viajar la llevo a las estrellas todo lo que sea yo lo hago por mi novia estoy enamora o traga o de ti de tu mirada encantadora ay de un no se que que me emociona que me vuelve loco siete palabras y que sabes y no sabes nada porque si en realidad supieras me hubieras entregado tu alma o es que acaso eres de madera y sabes que estas equivocada ay no has querido caer en cuenta que yo soy el que mas te ama aunque seas un poquito terca pero tu comportamiento ay no me a dejado poder conquistarte ya ni siquiera voy a visitarte porque no se si es malo o bueno pero de eso mejor ni hablemos tu actitud no la merezco porque es que yo no he hecho mas que amarte hacer de todo para enamorarte pideme algo y te lo entrego que por ti lo que no hay lo invento sera acaso que me falta chispa para poder robarme tus besos porque entonces vengo y te demuestro ay mi vida que yo soy el hombre de tus sueños yo no te quiero perder de vista quiero estar contigo todo el tiempo y que te amo eso no es un misterio ay mi vida pero con tu trato yo no puedo oh oh oh oh oh oh oh dire todo en siete palabras te amo mas que mi vida entera yo no creo que sea tan de malas ay que te explique y tu no me entiendas hey ven y dime cual es la gracia de que te piensa cada instante si tu ni siquiera me llamas ni un ratito pa saludarme y es que el mundo es tan extraño cuando tu quieres no te quiere nadie cuando no quieres te adoran bastante ojala que eso no me pase porque a ti te amo como a nadie no necesito de un año pa demostrar que eres inigualable que no soy parrandero como antes y que a tu vida puedo darle la felicidad que buscaste sera acaso que me falta chispa para poder robarme tus besos porque entonces vengo y te demuestro ay mi vida que yo soy el hombre de tus sueños yo no te quiero perder de vista quiero estar contigo todo el tiempo y que te amo eso no es un misterio ay mi vida pero con tu trato yo no puedo oh oh oh oh oh oh oh sera acaso que me falta chispa para poder robarme tus besos porque entonces vengo y te demuestro ay mi vida que yo soy el hombre de tus sueños sera acaso que me falta chispa la colegiala y me estoy enamorando mas de tus ojos de tu boca y ya no puedo esperar mas porque algo me provoca anda y dime lo que quieres se que eres la niña para enamorarme yo se bien de que tus padres a mi no me quieren porque soy cantante te ves linda en uniforme y esa cabellera a mi me esta matando siempre que paso en el carro te veo en la ventana te estais asomando es que no puedo vivir sin ti me hace falta tu voz me haces falta y es que no puedo estar sin ti tu boquita de miel a mi me atrapa ay no teneis escapatoria conmigo seras mia contra viento y marea un guajiro como yo empedernido por mujeres como tu hace lo que sea un guajiro como yo empedernido por mujeres como tu hace lo que sea y yo no se y me estoy enamorando mas de tus ojos de tu boca y ya no puedo esperar mas porque algoo echale juan juy cerrillo y quique que union que union compadre ameh ramirez tiene mi cariñito tatiana pastrana cuidale los hijitos al lombardero y me estoy enamorando mas de tus ojos de tu boca y ya no puedo esperar mas porque algo me provoca dame un poco de tu tiempo para poder verte por las tardesitas si en tu casa dan permiso te espero en la esquina ponte bien bonita dicen que escribes mi nombre en todos tus cuadernos con un corazon saludo a tus compañeras que las quiero mucho gracias por el dos no se te olvide la clave nena que tenemos tu y yo para encontrarnos cuando te bese no te pena grita baila cuando te este cantando pasan dias meses nada que te tengo ay me esta desesperando esta situacion una monja me boto de tu colegio no me importa luchare por este amor una monja me boto de tu colegio no me importa luchare por este amor y me estoy enamorando mas de tus ojos de tu boca y ya no puedo esperar mas porque algo me provoca juy hermano carlos padilla y miguelito char ay es que ella es tierna es que es bonita david jose luis felix guerra es estudiosa la muchachita ay compadre juancho digale a ella tas oyendo mi amor buen recado de mi compadre ay que me espere y que me quiera esta cerquita la muchachita ay es que ella es tierna es que es bonita es estudiosa la muchachita amor de mi juventud yo quiero poner un castillo en tus manos quiero regalarte la luna y el sol yo quiero llegarte cantando y cantando a ver si me entregas un poco de amor dejame encontrarte por dios no te escondas no hagas mas dificil tu felicidad tu puedes rodar y vivir ilusiones y amor como el mio no vas a encontrar ay amor de mi juventud dame un beso no esperes mas ay amor de mi juventud dame un beso no esperes mas no me dejes llorar por ti con un beso al fin me consolaras no me dejes llorar por ti con un beso al fin me consolaras donde estan aquellas cartas que te escribi ni siquiera una respuesta tengo de ti donde estan aquellas flores que te mande ojala que ellas te digan lo que soñe ojala que lo que busco dios me lo conceda y un dia no lejano tu me des tu amor ay amor de mi juventud dame un beso no esperes mas ay amor de mi juventud dame un beso no esperes mas quiero dibujarte en espejos de oro y escribir tu nombre en el cielo y el mar convertir desiertos en bellos jardines y esculpir tu imagen en flores de azahar yo quiero llevarte prendida en mi alma y el resto del tiempo que pueda vivir y cantarte versos por las madrugadas para que tus sueños te hablen de mi ay amor de mi juventud dame un beso no esperes mas ay amor de mi juventud dame un beso no esperes mas no me dejes llorar por ti con un beso al fin me consolaras no me dejes llorar por ti con un beso al fin me consolaras donde estan aquellas cartas que te escribi ni siquiera una respuesta tengo de ti donde estan aquellas flores que te mande ojala que ellas te digan lo que soñe y ojala que lo que busque dios me lo conceda y un dia no lejano tu me des tu amor ay amor de mi juventud dame un beso no esperes mas ay amor de mi juventud dame un beso no esperes mas no me dejes llorar por ti con un beso al fin me consolaras no me dejes llorar por ti con un beso al fin me consolaras ay amor de mi juventud dame un beso no esperes mas ay amor de mi juventud dame un beso no esperes mas ay amor de mi juventud dame un beso no esperes mas ay amor de mi juventud dame un beso no esperes mas bonita oye bonita cuando me estas mirando yo siento que mi vida cubre todo tu cuerpo oye bonita cuando me estas mirando yo siento que mi vida cubre todo tu cuerpo oye bonita y me siento tan contento que en el instante pienso como sera mañana cuando te bese totalmente confiado que si alguien esta mirando me comprenda en seguida que tus ojos me dominan que tu boca me fascina que tu cuerpo me enloquece que cuando estemos juntos todo el mundo diga caramba esos muchachos si se quieren pueda ser que dios los guarde y la virgen bendiga el cariño que se tienen pueda ser que dios los guarde y la virgen bendiga el cariño que se tienen homb e como yo vivo de un lado para otro porque mi profesion me obliga hacerlo asi como yo vivo de un lado para otro porque mi profesion me obliga hacerlo asi me pongo triste cuando me encuentro lejo entonces es cuando quiero estar cerca de ti pa ver si asi no te sientes molesta por causa de la ausencia que separa nuestra vidas es que tus ojos me dominan que tu boca me fascina que tu cuerpo me enloquece que cuando estemos juntos todo el mundo diga caramba esos muchachos si se quieren pueda ser que dios los guarde y la virgen bendiga el cariño que se tienen pueda ser que dios los guarde y la virgen bendiga el cariño que se tienen homb e como tu dices que vives indecisa porque la desconfianza te daña el pensamiento como tu dices que vives indecisa porque la desconfianza te daña el pensamiento vengo a decirte en mi cancion bonita que mi alma necesita tu noble sentimineto porque en la vida hay cosas importantes que son mas elegantes si se tratan con respeto es que tus ojos me dominan que tu boca me fascina que tu cuerpo me enloquece que cuando estemos juntos todo el mundo diga caramba esos muchachos si se quieren pueda ser que dios los guarde y la virgen bendiga el cariño que se tienen pueda ser que dios los guarde y la virgen bendiga el cariño que se tienen homb e el cariño que se tienen el amor que ellos se tienen el cariño que se tienen los dos el cariño que se tienen homb e pueda ser que dios los guarde a los dos el cariño que se tienen pueda ser que dios los guarde el amor el cariño que se tienen homb e pueda ser que dios los guarde el amor el cariño que se tienen homb e pueda ser el condor herido si yo pudiera alzar el vuelo alzar el vuelo como hace el condor que vuela alto muy alto me fuera lejos pero bien lejos adonde nadie nunca supiera del papa de rafael santos porque una pena tras otra pena estan acabando conmigo y yo por ser un hombre tan fuerte he podido resistir ay y no me quiero morir porque me duelen mis hijos ay y no me quiero morir porque me duelen mis hijos mejor me voy mejor me voy como hace el condor herido mejor me voy mejor me voy como hace el condor herido para que plata si no es por eso porque trabajo y en cualquier parte yo me la puedo ganar es lo que siento aqui en el pecho que con dinero jamas y nunca se puede solucionar yo me refiero es a la señora que fue conmigo al altar que yo la adoro y la quiero tanto y es la mama de mis hijos pero me da mucho pesar que me esta quitando el cariño pero me da mucho pesar que me esta quitando el cariño mejor me voy mejor me voy como hace el condor herido mejor me voy mejor me voy como hace el condor herido tiene razon ella tiene razon en ciertas cosas porque deberas yo reconozco de que si soy mujeriego pero ella sabe y a mi me consta que cuando los dos nos conocimos sabia que era parrandero entonces ahora despues de viejo vive peleando conmigo si llego tarde o llegue temprano es la misma cantaleta ay voy a arregla la maleta y voy a coger mi camino ay voy a arregla la maleta y voy a coger mi camino adios adios adios adios ya se va el condor herido adios adios adios adios ya se va el condor herido adios adios adios adios ya se va el condor herido adios adios adios adios ya se va el condor herido la reina pueden haber mas bellas que tu habra otra con mas poder que tu pueden existir en este mundo pero eres la reina las hay con coronas de cristal y tienen todas las perlas del mar talvez pero en mi corazon tu eres la reina una reina sin tesoros ni tierras que me enseño la manera de vivir nada mas a estas horas de la vida lamento haber gastado mi tiempo en cosas que no estan quiero que nunca olvides cuanto este hombre te quiere y que deseo que algun dia me cierres los ojos por mi sola me acompañaste en tantas luchas que tuve y hoy que he ganado en casi todas no dudes seguiras en mi trata ser mientras se pueda conmigo feliz solo se tiene la dicha un instante no mas y todavia no falta quien me la llame que si es traviesa mi reina coqueta siendo que con esos ojos del valle todos saben que yo no quiero fiesta siendo que con esos ojos del valle todos saben que yo no quiero fiesta pueden haber mas nobles que tu habra otra con mas honor que tu pueden existir en esta vida pero eres la reina tu no pides nada por tu amor tu no quieres nada por tu amor y aunque en tu castillo nada tengas tu eres la reina una reina sin tesoros ni tierras que me enseño la manera de vivir nada mas a estas horas de mi vida lamento haber gastado mi tiempo en cosas que no estan dicta tu voluntad contra la mia señor que donde vaya sigues siendo mi amor mi felicidad dejo a mis amigos estos versos buenos a los que saben cuanto di por tus besos cuanto de verdad trata ser mientras se pueda conmigo feliz solo se tiene la dicha un instante no mas y todavia no falta quien me la llame que si es traviesa mi reina coqueta siendo que con esos ojos del valle todos saben que yo no quiero fiesta siendo que con esos ojos del valle todos saben que yo no quiero fiesta que me vieron con gustavo gutierrez que vieron con santiago pasar que me vieron en san juan con diomedes y despues cogimos pa carrizal todo eso le dicen a mi reina solamente para hacerla pelear pero yo siempre llego al novalito porque nunca le puedo fallar cuna pobre que culpa tengo yo que no hubiera nacido en una cuna hermosa con varillas de oro mis padres son tan pobres que nadita han tenido los tuyos son tan ricos y te han dado de todo yo soy un hombre humilde de casta provinciana que lucho con pujanza por la superacion naci en la cuna triste que tu desde tu cumbre la miras con desprecio y rechazas con fervor cuna que destino te ha tocado eres un poema de tristeza eres como un niño regañado que solo llorando se consuela mi vida siempre ha sido humilde y peregrina como aquel campesino solo tengo esperanza de demostrarle al mundo que un hombre con orgullo es capaz de vencer los fieros que lo atacan por eso me perfilo como en son de justicia buscando con ellos una gran realidad porque no es el destino quien va a mermar mi vida ni voy a se el vencido sino el que vencera cuna que destino te ha tocado eres un poema de tristeza eres como un niño regañado que solo llorando se consuela sin medir distancias la herida que siempre llevo en el alma no cicatriza inevitable me marca la pena que es infinita quisiera volar bien lejos muy lejos sin rumbo fijo buscar un lugar del mundo sin odio vivir tranquilo eliminar las tristezas las mentiras y las traiciones no importa que nunca encuentre el corazon lo que ha buscado de verdad no importa el tiempo que ya es muy corto en las ansias largas de vivir cualquier minuto de placer sera sentido en realidad si lleno el alma si lleno el alma de eternidad si lleno el alma si lleno el alma de eternidad es muy triste recordar momentos felices de un cariño que sangro mi corazon llego la hora de partir sin medir distancias y ni sombra quedara de aquel amor y ni sombra quedara de aquel amor no no quiero volver a verla mas nunca por mi camino distancia que nos separa me hiere su cruel olvido es muy cierto que la noche es tan larga con mi desvelo rayito de la mañana tu sabes cuanto la quiero solitario en el recuerdo se va alejando mi queja amigos que me conocen me diran que es lo que pasa en tu interior no eres el mismo que conocimos lleno de vida y de ilusion se nota a leguas de verdad que te lastima el corazon se nota a leguas que estas sufriendo por un amor se nota a leguas que estas sufriendo por un amor es muy triste recordar momentos felices de un cariño que sangro mi corazon llego la hora de partir sin medir distancias y ni sombra quedara de aquel amor y ni sombra quedara de aquel amor y ni sombra quedara de aquel amor mi primera cana una hebra de cabello adorna mi cuerpo una hebra de cabello adorna mi alma ay ve mi primera cana noticias de mi vejez yo se que rafael santo cuando me vea lleno de juventud le dice a la mama ay ve papa tiene canas no se si ella se lo crea ay adios se va mi juventud y ahora ya no la vuelvo a ver se va llena de gratitud y me deja solo con mi vejez se va llena de gratitud y me deja solo con mi vejez un monton de mujeres se me llevaron lo mejor de mi vida sentimental hay unas que me pagaron mal y otras que muy bien se portaron la vida me ha golpeado mas de dos veces pero yo he sido un hombre muy optimista ay ve gracias virgen del carmen por dame tantas cosas bonitas por ejemplo me diste una mujer que ha sido como la madre mia de luis angel de santo rafael de diomedes y el gran martin elias de luis angel de santo rafael de diomedes y el gran martin elias tres canciones hagame el favor compadre debe llegue a esa ventana marroncita toque tres canciones bien bonitas que a mi no me importa si se ofenden hagame el favor compadre debe llegue a esa ventana marroncita toque tres canciones bien bonitas que a mi no me importa si se ofenden que yo las canto con el alma para esa linda morenita de la ventana marroncita a donde duerme mi adorada de la ventana marroncita a donde duerme mi adorada dicen que el amor cuando es sincero es como una nube en primavera que devuelve a bueno un aguacero agua para sustentar la tierra dicen que el amor cuando es sincero es como una nube en primavera que devuelve a bueno un aguacero agua para sustentar la tierra y en esa forma el corazon ay cuando quiere de verdad de dia de noche o madruga vive alimentando su amor de dia de noche o madruga vive alimentando su amor este sentimiento cariñoso gira alrededor de mi alma buena que por ser tan noble me condena y eso es lo que a ti te importa poco este sentimiento cariñoso gira alrededor de mi alma buena que por ser tan noble me condena y eso es lo que a ti te importa poco ya yo no quisiera insistirte porque veo poca voluntad y esta es una vaina fregada ya yo no tengo que decirte y esta es una vaina fregada ya yo no tengo que decirte mi muchacho ese muchacho que yo quiero tanto ese que yo regaño a cada rato me hizo acordar ayer que asi era yo tambien cuando muchacho que solo me aquietaban dos pengazos del viejo rafael y se parece tanto a papa hombre del alma buena y se parece tanto a papa hombre del alma buena se ponia triste al verme llorar y me daba un pedazo de panela y entraba en discusion con mi vieja por que la pobre le reclamaba que porque diablos me maltrataba que dejara al muchacho tranquilo y hoy veo en rafael santos mi hijo todavia las costumbres aquellas recuerdo la cartilla abecedario el primer dia que al pueblo me mandaron porque era dia de fiesta recuerdo que iba tan entusiasmado por que desde que me habian bautizado no llegaba a la iglesia el 16 de julio es la fiesta de la virgen del carmen el 16 de julio es la fiesta de la virgen del carmen ese fue el dia que le escuche al padre que dios a todos nos tiene en cuenta y con deseos tambien de quedarme pa alla en la nocha de la caseta y me toco quedarme en la puerta no tenia plata para pagarles por eso es que la vida es un baile que con el tiempo damos la vuelta pero el tiempo acaba la fiesta y me voy solito pa l valle yo aprendi a trabajar desde pela o por eso es que yo estoy acostumbrado siempre a vivir con plata y con toda la plata que he ganado cuantos problemas no he solucionado pero nunca me alcanza pa pagarle a mi viejo la crianza que me dio con esmero pa pagarle a mi viejo la crianza que me dio con esmero porque en la vida hay cosas del alma que valen mucho mas que el dinero porque en la vida hay cosas del alma que valen mucho mas que el dinero por eso rafael santos yo quiero dejarte dicho en esta cancion que si te inspira ser zapatero solo quiero que seas el mejor por que de nada sirve el doctor si es el ejemplo malo del pueblo y el ejemplo mio es mi viejo y el ejemplo tuyo yo soy y el ejemplo mio es mi viejo y el ejemplo tuyo yo soy y el ejemplo mio es mi viejo y el ejemplo tuyo yo soy y el ejemplo mio es mi viejo y el ejemplo tuyo yo soy la creciente un grande nubarron se alza en el cielo ya se aproxima una fuerte tormenta ya llega la mujer que yo mas quiero por la que me desespero que hasta pierdo la cabeza clara ya llega la mujer que yo mas quiero por la que me desespero que hasta pierdo la cabeza y asi como en invierno un aguacero lloran mis ojos como las tinieblas y asi como crecen los arroyuelos se crece tambien la sangre en mis venas ay ombe ay ombe ay ombe el mar sereno se vuelve violento parece una gigante marejada ya crece la alegria en mi pensamiento como el despertar de un sueño porque vi mi prenda amada ya crece la alegria en mi pensamiento como el despertar de un sueño porque vi mi prenda amada ya se alborota mi pecho latiendo como el repiquetear de una campana ya se hizo la luz en mi pensamiento como sombras de luces declinadas los rios se desbordan por la creciente y sus aguas corren desenfrenadas y al verte yo no puedo detenerme soy como un loco que duerme y al momento despertara y al verte yo no puedo detenerme soy como un loco que duerme y al momento despertara y asi como las nubes se detienen despues de un vendaval viene la calma a todo rio le pasa la creciente pero es el amor que llevo en mi alma los caminos de la vida en la ciudad bonita jaime poveda un amigo de verdad los caminos de la vida no son como yo pensaba como los imaginaba no son como yo creia los caminos de la vida son muy dificil de andarlos dificil de caminarlos y no encuentro la salida yo pensaba que la vida era distinta cuando estaba pequeñito yo creia que las cosas eran facil como ayer que mi viejecita buena se esmeraba por darme todo lo que necesitaba y hoy me doy cuenta que tan facil no es por que mi viejita ya esta cansada de trabajar pa mi hermano y pa mi y ahora con gusto me toca ayudarla y por mi vieja luchare hasta el fin por ella luchare hasta que me muera y por ella no me quiero morir tampoco que se me muera mi vieja pero que va si el destino es asi los caminos de la vida no son como yo pensaba como los imaginaba no son como yo creia los caminos de la vida son muy dificil de andarlos dificil de caminarlos yo no encuentro la salida ay mama y hombe los hermanos que mas se quieren francisco y jaime boscan uno sabe que la vida de repente ha de acabarse y uno espera que sea tarde que llegue la despedida un amigo me decia recompensare a mis viejos por la crianza que me dieron y no le alcanzo la vida por eso te pido a ti mi dios del cielo para que me guies al camino correcto para mi viejita linda compensar para que olvide ese mar de sufrimientos y que de ella se aparte todo el tormento que para criarnos tuvo que pasar viejita linda tienes que entenderme no te preocupes todo va a cambiar yo sufro mucho madrecita al verte necesitada y no te puedo dar a veces lloro al sentirme impotente son tantas cosas que te quiero dar y voy a luchar incansablemente por que tu no mereces sufrir mas los caminos de la vida no son como yo pensaba como los imaginaba no son como yo creia los caminos de la vida son muy dificil de andarlos dificil de caminarlos y no encuentro la salida los caminos de la vida no son como yo pensaba mi diosa humana santa lopez sierra y carlos rojas que linda es la guajira te metiste en mi corazon y en mi alma tu nombre grabe lo mas lindo que brinda el amor lo sueño contigo es hermoso escuchar tu voz y un hechizo el color de tu piel no me dejes con esta ilusion de darte cariño eres la reina mas linda que ha creado mi dios y yo he sentido el encanto que hay en tu mirar mi reina linda a mi mundo le falta tu sol con esos ojos color miel me hace suspirar yo quiero habitar en ese mundo que vives tu dejame soñar con el embrujo de tu sonrisa lleno de ansiedad quiero explorar ese cielo azul de tu intimidad mi diosa humana mi reina linda mi diosa humana mi gran amor mi sentimiento solo es de ti dueña de mi alma y la ilusion que me domina me hace feliz dueña de mi alma y la iluson que me domina fernando izal y geraldine muñete pintos nancy escalona y jaime lobos y seguira desde siempre en el mundo que hice para ti hay un templo que yo hice en tu honor de rodillas me escuchan pedir tu amor en mi ruego infinito el deseo que hay en mi me convierte en tu adorador tu me faltas para ser feliz te invito a querernos las ilusiones de mi alma que hoy me hacen soñar me van dejando sus huellas en mi corazon es imposible olvidarte si en mi vida estas como en los mares sus aguas y en los dias de sol yo quiero habitar en ese mundo que vives tu dejame soñar con el embrujo tu sonrisa lleno de ansiedad quiero explorar ese cielo azul de tu intimidad mi diosa huamana mi reina linda mi diosa humana mi gran amor mi sentimiento solo es de ti dueña de mi alma y la ilusion que me domina me hace feliz dueña de mi alma y la ilusion que me domina me hace feliz mi diosa humana mi gran amor mi reina linda solo es de ti dueña de mi alma es la ilusion que me domina me hace feliz mi diosa humana mi gran amor mi sentimiento solo es de ti dueña de mi alma es la ilusion que me domina me hace feliz quiero que seas mi estrella vi dulzura en tu sonrisa y en tu mirada ternura y lluvia de amor prisionera a ti te tienen y sin salidas entre paredes sin sol princesa de un cuento de hadas no quiero que seas quisiera que fueras la reina mi realidad comprendo que a tu libertad le han puesto cadenas mas tu alma te grita atormentada que quiere volar yo tambien tengo el alma destrozada y el corazon dolido por falta de un cariño que tu puedes brindar tu vida esta cercada y aun quedan dos caminos el que tomes tu conmigo y el que el destino nos traera no quiero volver a llorar quiero que seas mi estrella para que ilumines siempre nuestro camino al andar no me gusta la soledad quiero que seas mi estrella para que ilumines siempre nuestro camino al andar aventuras las he tenido pero contigo no debo pensar igual tu inocencia es algo lindo y tus principios yo no los debo cambiar princesa de un cuento de hadas no quiero que seas quisiera que fueras la reina mi realidad yo tambien tengo el alma destrozada y el corazon dolido por falta de un cariño que tu puedes brindar tu vida esta cercada y aun quedan dos caminos el que tomes tu conmigo y el que el destino nos traera no quiero volver a llorar quiero que seas mi estrella para que ilumines siempre nuestro camino al andar no me gusta la soledad quiero que seas mi estrella para que ilumines siempre nuestro camino al andar no quiero volver a llorar quiero que seas mi estrella para que ilumines siempre nuestro camino al andar no me gusta la soledad quiero que seas mi estrella acabaste con mi vida como te atreves a salir con otro por que razon me tienes que engañar si yo te di lo mas lindo y precioso que a una mujer se le puede entregar cuando mas te adoraba cuando mas te queria me haces pedazos el alma y por completo la vida mia recuerdo que muchas veces me decias que por nada en este mundo me cambiabas y yo como un pobre tonto te creia pensando tal vez que en verdad tu me amabas pero todo era mentira mentira porque nunca me quisiste que va acabaste con mi vida mi vida y el consuelo que me queda es llorar cuando mas te adoraba cuando mas te queria me haces pedazos el alma y por completo la vida mia acabaste con mi vida mujer acabaste con mi vida y porque de esa manera es como tu me pagas el haber sido muy bueno contigo yo no pense que fueras tan malvada pedile a dios que no te hagan lo mismo yo que siempre te daba lo mejor de mis dias porque realmente confiaba en las promesas que tu me hacias y asi es como un hombre puede facilmente quitarse la vida por una mujer y asi en esas situaciones que me tienes no mas por quererte tanto y serte fiel pero todo era mentira mentira porque nunca me quisiste que va acabaste con mi vida mi vida y el consuelo que me queda es llorar yo que siempre te daba lo mejor de mis dias porque realmente confiaba en las promesas que tu me hacias acabaste con mi vida mujer acabaste con mi vida y porque acabaste con mi vida mujer acabaste con mi vida y porque y aunque tu vivas tranquila yo no dejo de quererte acabaste con mi vida acabaste con mi suerte acabaste con mi vida mujer acabaste con mi vida y porque y aunque tu vivas tranquila yo no dejo de quererte tarde lo conoci rodrigo castillo amigo de verdad verdad yo no pense que usted me fuera a despertar esta grande ilusion que tengo yo que tengo yo yo no me imagine que en usted iba a encontrar ese tipo de hombre que queria yo que queria yo cuanto diera por tenerlo mi vida mi vida entera la daba por descubrir el misterio que en esos ojos tan bonitos guarda se que tiene compromiso yo se que usted tiene quien lo quiera pero bien vale la pena arriesgarme por tener su cariño y no se como declararme no se porque le tengo respeto pero es que el amor mio es tan grande tambien que casi no entiende de eso por eso perdoneme si no hago bien pero por usted me muero porque lo vine a conocer señor cuando su vida toda de ella es si primero lo hubiera visto yo seguramente fuera su mujer si primero lo hubiera visto yo seguramente fuera su mujer pero no me importa porque se que un dia muy cercano lo tendre tengo la esperanza de poder tenerlo y poder sentir su piel no se lo que me da cuando estoy cerca a usted no se lo que me da no se que hacer no se que hacer lo comienzo a mirar y me hace estremecer no se que va a pasar si a mi me ven si a mi ven mirandole fijamente diciendole mucho con la mirada entonces todos comprenden que por usted mi alma esta enamorada tengo que ser muy discreta si no quiero que se enteren toditos y eso me daria tristeza si nunca llego a tener su cariño lo quedo mirando y no se que me da usted me pone nerviosa pero a cualquier mujer le puede pasar si como yo se enamora por eso a dios yo le pido de verdad que esto no le pase a otra porque lo vine a conocer señor cuando su vida toda de ella es si primero lo hubiera visto yo seguramente fuera su mujer si primero lo hubiera visto yo seguramente fuera su mujer pero no me importa porque se que un dia muy cercano lo tendre tengo la esperanza de poder tenerlo y poder sentir su piel porque lo vine a conocer señor cuando su vida toda de ella es el papa de los amores rodrigo castillo amigo de verdad verdad yo no pense que usted me fuera a despertar esta grande ilusion que tengo yo que tengo yo yo no me imagine que en usted iba a encontrar ese tipo de hombre que queria yo que queria yo cuanto diera por tenerlo mi vida mi vida entera la daba por descubrir el misterio que en esos ojos tan bonitos guarda se que tiene compromiso yo se que usted tiene quien lo quiera pero bien vale la pena arriesgarme por tener su cariño y no se como declararme no se porque le tengo respeto pero es que el amor mio es tan grande tambien que casi no entiende de eso por eso perdoneme si no hago bien pero por usted me muero porque lo vine a conocer señor cuando su vida toda de ella es si primero lo hubiera visto yo seguramente fuera su mujer si primero lo hubiera visto yo seguramente fuera su mujer pero no me importa porque se que un dia muy cercano lo tendre tengo la esperanza de poder tenerlo y poder sentir su piel no se lo que me da cuando estoy cerca a usted no se lo que me da no se que hacer no se que hacer lo comienzo a mirar y me hace estremecer no se que va a pasar si a mi me ven si a mi ven mirandole fijamente diciendole mucho con la mirada entonces todos comprenden que por usted mi alma esta enamorada tengo que ser muy discreta si no quiero que se enteren toditos y eso me daria tristeza si nunca llego a tener su cariño lo quedo mirando y no se que me da usted me pone nerviosa pero a cualquier mujer le puede pasar si como yo se enamora por eso a dios yo le pido de verdad que esto no le pase a otra porque lo vine a conocer señor cuando su vida toda de ella es si primero lo hubiera visto yo seguramente fuera su mujer si primero lo hubiera visto yo seguramente fuera su mujer pero no me importa porque se que un dia muy cercano lo tendre tengo la esperanza de poder tenerlo y poder sentir su piel porque lo vine a conocer señor cuando su vida toda de ella es la falla fue tuya ay mi amor cuanto me duele ay yo se bien que te he sido infiel pero en el hombre casi no se nota pero es triste que lo haga una mujer porque pierde valor y muchas cosas yo no se yo no se que voy a hacer porque tu porque tu me heriste el alma tanto que yo te amaba mujer yo si te adoraba como dios manda sabes bien que no ha sido mi culpa que muriera ese amor tan divino sabes bien que la falla fue tuya no debiste hacer eso conmigo yo yo soy un hombre un hombre bueno que ha tratado siempre de ser feliz tu no me respondes todo lo bello te acabaste y tambien me acabaste a mi sabes bien que no ha sido mi culpa que muriera ese amor tan divino sabes bien que la falla fue tuya no debiste hacer eso conmigo dios le dijo al hombre portese bien haga mal pero nunca haga la guerra muchos no le han querido obedecer por eso en el mundo hay tantos problemas y tambien le dijo a la mujer cuide bien del hombre que la quiera sabe usted que no puede serle infiel porque pierde mi bendicion eterna entonces ya sabes que has perdido sabes bien que no ha sido mi culpa que muriera ese amor tan divino sabes bien que la falla fue tuya que alce la mano si existe un hombre que haya tropezado solo a una mujer no ninguno lo hace y la que escoge es porque la quiere y la adora tambien sabes bien que no ha sido mi culpa que muriera ese amor tan divino sabes bien que la falla fue tuya no debiste hacer eso conmigo ay hombre uy la plata si la vida fuera estable todo el tiempo yo no beberia ni malgastaria la plata si la vida fuera estable todo el tiempo yo no beberia ni malgastaria la plata pero me doy cuenta que la vida es un sueño y antes de morir es mejor aprovecharla pero me doy cuenta que la vida es un sueño y antes de morir es mejor aprovecharla por eso la plata que cae en mis manos la gasto en mujeres bebida y bailando por eso la plata que cae en mis manos la gasto en mujeres bebida y bailando to el mundo pelea si dejo una herencia si guardo un tesoro o lo gozo yo se apodera el diablo de aquella riqueza entonces no voy a la gloria de dios se apodera el diablo de aquella riqueza entonces no voy a la gloria de dios se acaba la vida de este cuerpo humano y lo que he guardado no se pa quien es se acaba la vida de este cuerpo humano y lo que he guardado no se pa quien es en el cementerio estoy vuelto gusano y alla estan peleando lo que yo deje en el cementerio estoy vuelto gusano y alla estan peleando lo que yo deje por eso la plata que cae en mis manos la gasto en mujeres bebida y bailando por eso la plata que cae en mis manos la gasto en mujeres bebida y bailando to el mundo pelea si dejo una herencia si guardo un tesoro o lo gozo yo se apodera el diablo de aquella riqueza entonces no voy a la gloria de dios se apodera el diablo de aquella riqueza entonces no voy a la gloria de dios por eso la plata que cae en mis manos la gasto en mujeres bebida y bailando por eso la plata que cae en mis manos la gasto en mujeres bebida y bailando que me puedas amar que todo el mundo te quieran como novia en barrio a ti es que dan serenata todo el que te ve enseguida se enamora eres muy bella por eso a mi me matas de nuevo con el silencio de la noche con mi guitarra estoy frente a tu ventana con el temor que me hagas algun reproche pero esperando que aunque sea des las gracias que yo me voy a soñar a ese mundo que inventar me toco a donde imaginariamente los dos tenemos amores donde te puedo besar donde esos labios que solo inspiran pasion aqui es solo donde tu corazon suspira por este hombre como quisiera que esto fuera verdad como quisiera que me digas que si como quisiera que me puedas amar y que yo sea lo unico para ti como quisiera que me puedas amar y que yo sea lo unico para ti como quisiera reflejar en tus ojos el sentimiento que me quema por dentro como quisiera yo no sentirme solo y que seas tu la dueña de mis momentos ahora me voy pero sin una esperanza pero mañana llegara el nuevo dia si yo no soy el que te prende las ansias entonces no hagas que aumenten mis heridas que yo me voy a soñar a ese mundo que inventar me toco a donde imaginariamente los dos tenemos amores donde te puedo besar esos labios que solo inspiran pasion aqui es solo donde tu corazon suspira por este hombre como quisiera que esto fuera verdad como quisiera que me digas que si que me puedas amar y que yo sea lo unico para ti que me puedas amar y que yo sea lo unico para ti ay como quisiera que esto fuera verdad como quisiera que me digas que si que me puedas amar y que yo sea lo unico para ti ay que me puedas amar y que yo sea lo unico para ti ay como quisiera que esto fuera verdad como quisiera que me digas que si que me puedas amar y que yo sea lo unico para ti que me puedas amar y que yo sea lo unico para ti que me puedas amar y que yo sea lo unico para ti y que yo sea lo unico para ti que me puedas amar y que yo sea lo unico para ti olvidala como hago compañero pa decirle que no he podido olvidarla que por mas que lo intente sus recuerdos siempre habitan en mi mente que no puedo pasar siquiera un dia sin verla asi sea desde lejos que siento enloquecer al verla alegre sonreir y no es conmigo yo se que le falte a su amor tal vez porque a mi otra ilusion me sonreia y no pense que sin ella en mi vida se me acabaria el mundo yo se que estas arrepentido y duele pero ya no eres nadie en su vida ella encontro por quien vivir y que la busques tu es un absurdo olvidala no es facil para mi por eso quiero hablarle si es preciso rogarle que regrese a mi vida intentalo es que no quiero hacerlo si por dejar sus sueños me cause mil heridas olvidala mejor olvidala arrancala de ti que ya tiene otro amor olvidala mejor olvidala arrancala de ti ve y busca otra ilusion y es que no dejan los recuerdos si yo la enseñe a amar fui su primer amor no sale de mi pensamiento aun ella vive aqui dentro del corazon olvidala mejor olvidala arrancala de ti que ya tiene otro amor olvidala mejor olvidala arrancala de ti ve y busca otra ilusion hermano es tu deber luchar para olvidar asi a quien no te quiere a quien gracias a dios ya te olvido y encontro amor en su camino no se si por venganza o por rencor o porque tu no le convienes o tal vez fue que nunca perdono que tu le hirieras el cariño mira que tu jugaste a los amores cuando eras todo en sus miradas yo se que le falte debo pagarle pero que me perdone yo a ella la vi llorar amargas noches cuando injustamente la cambiabas yo estoy arrepentido y quiero que ella olvide que tuve errores olvidala yo no lo quiero hacer luchare por tenerla ella es cielo es estrella ella es todo en mi vida la quiero no te digo mentiras y aunque se pase el tiempo por ella doy la vida olvidala mejor olvidala arrancala de ti que ya tiene otro amor olvidala mejor olvidala arrancala de ti ve y busca otra ilusion olvidala mejor olvidala arrancala de ti que ya tiene otro amor olvidala mejor olvidala arrancala de ti ve y busca otra ilusion olvidala mejor olvidala arrancala de ti que ya tiene otro amor santo cachon me dijeron que te vieron te pillaron el otro dia sabroseando con un señor que no era yo me contaron los que te vieron en una forma dios mio que uy mejor no digo no fue uno ni fueron dos fueron tres los amigos que te vieron con el moliendo caña ay mientras yo muy solitario como el llanero porque tu a mi me dijiste que ibas de viaje donde tus viejos del alma y ahora dices tu que no es asi que ese era un primo que estaba alla que te invito a salir y te dio pena decir que no que te perdone yo que te perdone como si yo fuera el santo cachon mira mi cara ve yo soy un hombre y no hay que andar repartiendo perdon ajuiciate mama busca el juicio busca el juicio muchacha ajuiciate yo me iba a casar contigo por poco meto la pata y ahora no puedo ni verte puedo hacer un disparate tu primito si te quiere que te exprima de mi no podras quejarte porque te divertiste tambien se que hay cosas en la vida que un hombre sale ganando cuando las deja perder entre el cielo y la tierra dice un dicho que no existe nada oculto y todo se llega a saber te pillaron te caiste sireton te perdono tendria que aguantar callado si tu lo vuelves a hacer mujer si un dia te vi no te conozco y si fue asi ya ni me acuerdo como dicen por ahi a otro perro con ese hueso que te perdone yo que te perdone como si yo fuera el santo cachon mira mi cara ve yo soy un hombre y no hay que andar repartiendo perdon ajuiciate mama busca el juicio busca el juicio muchacha ajuiciate yo me iba a casar contigo por poco meto la pata y ahora no puedo ni verte puedo hacer un disparate que te perdone yo que te perdone como si yo fuera el santo cachon mira mi cara ve yo soy un hombre y no hay que andar repartiendo perdon que te perdone yo que te perdone como si yo fuera el santo cachon mira mi cara ve yo soy un hombre y no hay que andar repartiendo perdon sirena encantada yo se bien que te voy a adorar toda la vida porque tu me ayudaste a calmar mis sufrimientos en mis sueños siempre vas a estar mi reina linda este amor nunca terminara te lo prometo y tu llegaste cuando yo mas te necesitaba señalando el camino menos doloroso me brindaste lo mas tierno que nace del alma de tu vida me distes lo mas puro y hermoso un angelito del cielo me mima me ama una sirena encantada me brinda sus besos todo lo vuelve ternura con una palabra como por arte de magia me lleva hasta el cielo su vida es mi vida su alma es mi alma su vida es mi vida su alma es mi alma comprendi que eras mi angel guardian al conocerte tus encantos me hicieron soñar cuando sufria ahora siento que te quiero mas cambio mi suerte todo el tiempo seras especial para mi vida y te prometo adorarte hasta el fin de mis dias si me distes el afecto que deseaba mi alma a tu lado todo se convierte en armonia tu borraste el pasado que me lastimaba un angelito del cielo me mima me ama una sirena encantada me brinda sus besos todo lo vuelve ternura con una palabra como por arte de magia me lleva hasta el cielo su vida es mi vida su alma es mi alma su vida es mi vida su alma es mi alma su vida es mi vida su alma es mi alma su vida es mi vida su alma es mi alma bendita duda esos ojos hablan cuando miras dicen algo dicen de tu vida confidentes que saben de amor pero lastima que yo no pueda descifrarles el idioma reina y saber entonces tu intencion mas comprendo que tambien mil penas originan las miradas plenas con un dejo de intriga y pasion y yo que he soñado con tenerte no he podido todavia entenderte pero es tiempo de una explicacion fijate que relacion tan rara que no somos amigos ni novios dime con confianza porque callas la dueña de los ojos que adoro traductores que saben mil lenguas diganme lo que dicen sus ojos comprendan que me muero por ella pero no puedo querer yo solo duda bendita duda vas a acabar conmigo di bendita duda por que camino sigo por que camino sigo por que camino sigo tu me buscas insistentemente sin prejuicios delante de la gente y quizas eso me ilusiono tus detalles dicen que me quieres y si digo nadie quiere creerme todos creen que tu novio soy yo si me quieres di porque no accedes que razon es la que te detiene no me obligues negra por favor a llenarme de resentimiento a pensar que he sido un instrumento que no mas de olvido te sirvio san antonio patron de mi tierra dime que puedo hacer te lo ruego dime si es por amor que me cela o es que acaso le traigo recuerdos traductores que saben mil lenguas diganme lo que dicen sus ojos comprendan que me muero por ella pero no puedo querer yo solo duda bendita duda vas a acabar conmigo di bendita duda por que camino sigo por que camino sigo por que camino sigo por que camino sigo por que camino sigo por que camino sigo por que camino sigo mi diosa humana santa lopez sierra y carlos rojas que linda es la guajira te metiste en mi corazon y en mi alma tu nombre grabe lo mas lindo que brinda el amor lo sueño contigo es hermoso escuchar tu voz y un hechizo el color de tu piel no me dejes con esta ilusion de darte cariño eres la reina mas linda que ha creado mi dios y yo he sentido el encanto que hay en tu mirar mi reina linda a mi mundo le falta tu sol con esos ojos color miel me hace suspirar yo quiero habitar en ese mundo que vives tu dejame soñar con el embrujo de tu sonrisa lleno de ansiedad quiero explorar ese cielo azul de tu intimidad mi diosa humana mi reina linda mi diosa humana mi gran amor mi sentimiento solo es de ti dueña de mi alma y la ilusion que me domina me hace feliz dueña de mi alma y la iluson que me domina fernando izal y geraldine muñete pintos nancy escalona y jaime lobos y seguira desde siempre en el mundo que hice para ti hay un templo que yo hice en tu honor de rodillas me escuchan pedir tu amor en mi ruego infinito el deseo que hay en mi me convierte en tu adorador tu me faltas para ser feliz te invito a querernos las ilusiones de mi alma que hoy me hacen soñar me van dejando sus huellas en mi corazon es imposible olvidarte si en mi vida estas como en los mares sus aguas y en los dias de sol yo quiero habitar en ese mundo que vives tu dejame soñar con el embrujo tu sonrisa lleno de ansiedad quiero explorar ese cielo azul de tu intimidad mi diosa huamana mi reina linda mi diosa humana mi gran amor mi sentimiento solo es de ti dueña de mi alma y la ilusion que me domina me hace feliz dueña de mi alma y la ilusion que me domina me hace feliz mi diosa humana mi gran amor mi reina linda solo es de ti dueña de mi alma es la ilusion que me domina me hace feliz mi diosa humana mi gran amor mi sentimiento solo es de ti dueña de mi alma es la ilusion que me domina me hace feliz imborrable y esta magia es para mimo mismo aqui estoy presente ay hombre yo se muy bien que tu a mi no me olvidas no no no y que tu relacion perfecta es de mentira y si ya me olvidaste entonce por que escribes cuando estas tomada y si me superaste por que te hago mia cuando me da la gana da la gana imborrable porque tu a mi no me olvidas no no no acepta que yo soy la traga de tu vida imborrable porque no me has superado mi nombre todavia en tu piel sigue tatuado y el que piensa pobrecito no imagina no imagina que aunque pasen mil años tu sigues siendo mia imborrable porque tu a mi no me olvidas no no no acepta que yo soy la traga de tu vida ay amor me causa gracia el circo que tu cargas vela a ve y aquel payaso que no se da cuenta e nada y es que me da hasta risa ver en tus perfiles esa falsa traga si llegas a casarte se que el altar recordaras mi cara imborrable porque tu a mi no me olvidas no no no acepta que yo soy la traga de tu vida imborrable porque no me has superado mi nombre todavia en tu piel sigue tatuado y el que piensa pobrecito no imagina no imagina que aunque pasen mil años tu sigues siendo mia imborrable porque tu a mi no me olvidas no no no acepta que yo soy la traga de tu vida imborrable dime pajarito dime pajarito porque hoy estas triste no escucho en tu canto la misma alegria dime si a tu compañera perdiste oh has venido ha compartir la pena mia dime si a tu compañera perdiste oh has venido ha compartir la pena mia oh quieres contarle al mundo tu inconformismo por lo que han hecho tu sabes que lo mas lindo que yo tenia esta deshecho sali preocupado pa la gran ciudad yo venia del pueblo trayendo en mis sueños aquellos recuerdos que no volveran sali preocupado pa la gran ciudad yo venia del pueblo trayendo en mis sueños aquellos recuerdos que no volveran kelly johana es muy bonita dime pajarito porque hoy estas solo cantando y cantando con melancolia dime si te han pagado del mismo modo como ha me pago la que mas queria dime si te han pagado del mismo modo como ha me pago la que mas queria o quieres contarle al mundo tu inconformismo por lo que han hecho tu sabes que lo mas lindo que yo tenia esta deshecho sali preocupado pa la gran ciudad yo venia del pueblo trayendo en mis sueños oh aquellos recuerdos que no volveran sali preocupado pa la gran ciudad yo venia del pueblo trayendo en mis sueños aquellos recuerdos que no volveran 0 a besitos quien te llevo a mi mesa esa noche ay no se si me hizo un mal no lo se no se si me hizo un bien no lo se solo se que cambio mi vida el momento en que estreche tu mano solo se que marco mi vida aquel instante en que nos miramos y he pasado tanto tiempo esperando este momento que estoy temblando de miedo y no se que va a pasar y tengo el presentimiento que igual tu no estas sintiendo ojala que lo que siento me engañe y no sea verdad y solo con mirarte se que tu eres la unica que puede controlar mi vida si me pides que camine caminare si me pides que algo cambie yo cambiare y si me pides te bese quizas no lo hare ay no que va te comeria a besitos nada mas desgastaria mis labios en tu piel te comeria a besitos nada mas de la cabeza a los pies si me pides que camine caminare si me pides que algo cambie yo cambiare y si me pides te bese quizas no lo hare ay no que va te comeria a besitos nada mas desgastaria mis labios en tu piel te comeria a besitos nada mas de la cabeza a los pies para mi gente de cali con sabor ay valledupar aqui tenei tus hijos compadre jaime buscan vamos a triunfar por my cow yo estaba volando en una nube cuando te vi volvi a la realidad pero otra vez tu me hiciste volar pero ya no volaba solo volaba una princesa a mi lado y eras tu que con esos ojos me hacian sentir mas enamorado y ahora tengo mucho miedo si eres tu lo que buscaba si eres tu lo que anhelaba al fin ya lo puedo ver ahora tan solo hace falta que no estes enamorada que no estes ilusionada y que me puedas corresponder y solo con mirarte se que tu eres la unica que puede controlar mi vida si me pides que camine caminare si me pides que algo cambie yo cambiare y si me pides te bese quizas no lo hare ay no que va te comeria a besitos nada mas desgastaria mis labios en tu piel te comeria a besitos nada mas de la cabeza a los pies si me pides que camine caminare si me pides que algo cambie yo cambiare y si me pides te bese quizas no lo hare ay no que va te comeria a besitos besitos desgastaria mis labios en tu piel te comeria a besitos nada mas de la cabeza a los pies te comeria a besitos besitos desgastaria mis labios en tu piel te comeria a besitos nada mas un osito dormilon amigo estoy dolido muriendome por dentro porque mi novia ayer me abandono amigo que le hiciste dime si le has faltado o acaso fuiste injusto con su amor amigo te equivocas es todo lo contrario fui cariñoso y me porte muy bien yo que bien te conozco se que eres detallista si le obsequiaste algo dimelo un osito dormilon le regale y un besito al despedirse ella me dio ese fue el dia en que yo mas me enamore pero ahora mi alegria se acabo si me llego a morir no la culpen a ella culpen a mi corazon que se enamoro sin conocerla si me llego a morir no la culpen a ella culpen a mi corazon que se enamoro sin conocerla por eso un enamorado no debe demostrarle todo a una mujer y mas si esta ilusionado y no se siente seguro de ganar o perder si me llego a morir no la culpen a ella culpen a mi corazon que se enamoro sin conocerla estoy desesperado en busca de un consejo dime que camino debo seguir si intentas olvidarla se te va a hacer dificil sintiendote tan triste lloraras un osito dormilon le regale y un besito al despedirse ella me dio ese fue el dia en que yo mas me enamore pero ahora mi alegria se acabo si me llego a morir no la culpen a ella culpen a mi corazon que se enamoro sin conocerla si me llego a morir no la culpen a ella culpen a mi corazon que se enamoro sin conocerla busca un confidente alex por favor escuchame dejame explicarte las cosas no son asi yo no quise hacerlo por favor escuchame no me digas nada no quiero escucharte busca un confidente y cuentale todo dile que me hiciste lo que a nadie se le hace dile que estoy triste y no voy a resignarme aceptarlo solo porque estas arrepentida dile que me quieres porque yo se que me quieres y que no pudiste derrotar un desengaño por un hombre que ni siquiera muy bien conoces yo se que a ti te duele que estas arrepentida tu no querias hacerlo pero fuiste muy debil y a mi tambien me duele porque tu eres mi vida pero no es nada facil lo que ya no se puede ver porque el corazon no puede olvidar porque mi dolor no se puede borrar tan solo porque tu me digas perdoname y asi de facil no es y asi tan facil no es te dare mi olvido decirlo es muy facil para cumplirlo me siento impotente porque eres la sombra que refleja mi alma me duele aceptarlo mi corazon te llama que dificil es vivir lo que yo estoy viviendo rompiste el encanto que en nuestro amor brotaba sueños que juramos no derrumbar por nada tu los derrumbaste yo quede atrapado en ellos yo se que aun me quieres permanezco en tu vida y hoy vienes a explicarme lo que tanto me duele yo no quiero escucharte lastimas mas mi herida si quieres desahogarte ve y busca un confidente porque el corazon no puede olvidar porque mi dolor no se puede borrar tan solo porque tu me digas perdoname porque el corazon no puede olvidar porque mi dolor no se puede borrar tan solo porque tu me digas perdoname porque el corazon no puede olvidar porque mi dolor no se puede borrar tan solo porque tu me digas con el corazon perdoname una hoja en blanco fue imposible sacar tu recuerdo de mi mente fue imposible olvidar que algun dia yo te quise tanto tiempo paso desde el dia que te fuiste alli supe que las despedidas son muy tristes nunca me imagine que un tren se llevara en su viaje aquellas ilusiones que de niños nos juramos todos tus sentimientos los guardaste en tu equipaje quisiste consolarme y me dijiste yo te amo desde entonces no supe que seria de tu vida desde entonces no supe si algun dia regresabas los amigos del pueblo preguntaron si volvias llorando di la espalda y no les supe decir nada ayer que regrese a mi pueblo alguien me dijo que ya te casaste mirame y dime si ya me olvidaste me marchare con los ojos aguados despues le pregunte a la luna me dio la espalda e intento ocultarse hasta la luna sabe que me amaste hasta la luna sabe que aun me amas y vuela vuela por otro rumbo ve y sueña sueña que el mundo es tuyo tu ya no puedes volar conmigo aunque mis sueños se iran contigo tu ya no puedes volar conmigo aunque mis sueños se iran contigo es tan triste tener que decirte que me olvides otro amor ha llegado a mi vida y no te quiero es muy tarde y no puedo negarte que me muero pero no callaran mis palabras pa decirte que soñare contigo siempre que cierre mis ojos y entonare por ti mis cantos tristes noche a noche que llorare sin ti cuando recuerde que estoy solo y al recordar que duermes en los brazos de otro hombre me pregunto si aun reflejas algo de mi vida si en tu memoria vive aquel amor de tantos años aquel hombre que siempre te ha querido desde niña que hoy llora porque el amor de su vida se ha casado es triste ver que un tren se aleja y en el se va lo mejor de tu vida dime el motivo de tu despedida porque te fuiste dejando mil penas un dia recibi tu carta quise leerla y era una hoja en blanco pues de tu vida nunca supe nada como preguntas que si aun te amo y vuela vuela por otro rumbo ve y sueña sueña que el mundo es tuyo tu ya no puedes volar conmigo aunque mis sueños se iran contigo y vuela vuela por otro rumbo ve y sueña sueña que el mundo es tuyo tu ya no puedes volar conmigo aunque mis sueños se iran contigo todo de cabeza esta es mi cancion de despedida sera lo mejor para los dos pues no soy el dueño de tu vida y lo mas grave no se porque no lo entiende el corazon dime como hago para explicarle a mi alma envuelta entre la fe que aunque sea dificil olvidarte debo intentarlo porque creo que nunca te podre tener si no deseas que me marche demuestra que al igual que yo quieres amarme y que tambien te estas muriendo por besarme y asi yo intentare esperarte hasta que tu decidas entregarte a este hombre que ha hecho todo para enamorarte ay porque estoy enloqueciendo y tengo todo de cabeza te voy a seguir queriendo aunque tu no te des cuenta que el maldito sufrimiento es quien causa mis tristezas y de paso a mi conquista le va quitando la fuerza que no puedo darte el mundo para nadie es un secreto yo tan solo te aseguro que seras mi amor eterno quien controle mi futuro y me saque de este infierno donde lo bello y lo puro se destruye con el tiempo esta es mi cancion de despedida sera lo mejor para los dos pues no soy el dueño de tu vida y lo mas grave no se porque no lo entiende el corazon dime como hago para explicarle a mi alma envuelta entre la fe que aunque sea dificil olvidarte debo intentarlo porque creo que nunca te podre tener si no deseas que me marche demuestra que al igual que yo quieres amarme y que tambien te estas muriendo por besarme y asi yo intentare esperarte hasta que tu decidas entregarte a este hombre que ha hecho todo para enamorarte ay porque estoy enloqueciendo y tengo todo de cabeza te voy a seguir queriendo aunque tu no te des cuenta que el maldito sufrimiento es quien causa mis tristezas y de paso a mi conquista le va quitando la fuerza que no puedo darte el mundo para nadie es un secreto yo tan solo te aseguro que seras mi amor eterno quien controle mi futuro y me saque de este infierno donde lo bello y lo puro se destruye con el tiempo que no puedo darte el mundo para nadie es un secreto yo tan solo te aseguro que seras mi amor eterno quien controle mi futuro y me saque de este infierno donde lo bello y lo puro se destruye con el tiempo ay porque estoy enloqueciendo y tengo todo de cabeza te voy a seguir queriendo aunque tu no te des cuenta que el maldito sufrimiento es quien causa mis tristezas y de paso a mi conquista le va quitando la fuerza la nota mas linda maria del mar perez franco la hija del tt llego la nota mas linda a mi cancion la muchachita que quiero de verdad la que una noche mi novia se volvio que se robo mi alma y mi vida sin pensar que con sus besos de mi sueño se apropio con su ternura y su figura angelical la que me hizo olvidar tanto dolor la inspiracion de un poeta y su cantar creo que ya encontre la muchachita de mis sueños la que orgullosamente me tiene enamorado ahora si es verdad y con razon que estoy contento porque ya encontre la muchachita que he soñado y ya no puedo vivir sin ti te amo y nunca te voy a dejar por siempre y para siempre tu seras de mi vida lo mas lindo y te juro me siento feliz y a todo el mundo le voy a gritar que mi alma solo pertence a ti gracias por estar conmigo conmigo andrea toledo como te quiero cuando estoy lejos me preocupadonde esta cuando estoy cerca no me quiero ir de ti que cada dia yo te quiero mas y mas cada segundo me enamoro mas de ti cien pretendientes te quieren perseguir decile niña que tu tienes en quien pensar alguien que cien por ciento confia en ti y que te adora y que pa siempre te va a amar creo que ya encontre la muchachita de mis sueños la que orgullosamente me tiene enamorado ahora si es verdad y con razon que estoy contento porque ya encontre la muchachita que he soñado y ya no puedo vivir sin ti te amo y nunca te voy a dejar por siempre y para siempre tu seras de mi vida lo mas lindo y te juro me siento feliz y a todo el mundo le voy a gritar que mi alma solo pertenece a ti gracias por estar conmigo conmigo y ya no puedo vivir sin ti te amo y nunca te voy a dejar por siempre y para siempre tu seras de mi vida lo mas lindo y te juro me siento feliz y a todo el mundo le voy a gritar que mi alma solo pertenece a ti gracias por estar conmigo conmigo destrozaste mi alma y no se porque acabaste con esta ilusion y ahora me estas suplicando perdon como si a mi no me hiciera el dolor mujer tu me cambiaste por alguien mayor profesional en las cosas de amor porque una amiga te lo aconsejo tambien recuerda cuantas veces me olvide de mis principios y quize ser tu novio aunque tenias otro cariño perdona si te saco en cara tu fuerte castigo se que estaras pensando que yo actuo como un niño y no podre olvidarte ni en un siglo aunque recordarte traiga martirio sin pensar destrozaste mi alma y te llevaste mis esperanzas me pediste que te olvidara no me diste gran importancia a que vienes no entiendo nada si ya tengo alguien que me ama me confundes con tus palabras date cuenta el daño que causas a mi corazon mira mujer como destrozaste mi alma y no se porque acabaste con esta ilusion y ahora me estas suplicando perdon como si a mi no me hiciera el dolor tambien tu me cambiaste por alguien mayor profesional en las cosas de amor porque una amiga te lo aconsejo tambien recuerda cuantas veces me olvide de mis principios y quize ser tu novio aunque tenias otro cariño perdona si te saco en cara tu fuerte castigo se que estaras pensando que yo actuo como un niño y no podre olvidarte ni en un siglo aunque recordarte traiga martirio sin pensar destrozaste mi alma y te llevaste mis esperanzas me pediste que te olvidara no me diste gran importancia a que vienes no entiendo nada si ya tengo alguien que me ama me confundes con tus palabras date cuenta el daño que causas a mi corazon cancelada de mi vida ay no soy tan debil como tu pensaste no soy tan fragil como tu creiste hoy nuevamente te has equivocado con el que supuestamente heriste tu piensas que con engañarme a mi ganaste el grammy o hasta algo mejor muy cierto que eres la protagonista de una historia que su rating ya se le perdio pensaste que era el final y fuiste el entrenamiento del inicio de mi historia lo siento niña por ti pero esa brincadera tuya para mi paso de moda si abrete dije una vez y mande p al carajo a la que por ella daba la vida no tiembla el pulso esta vez y hoy te digo lo mismo que estas cancelada de mi vida me han hecho fuerte los tropiezos me han enseñado las heridas y aprendi que unas dejan flores bellas y otras con espinas pensaste que era el final y fuiste el entrenamiento del inicio de mi historia lo siento niña por ti pero esa brincadera tuya para mi paso de moda la vida me enseño a ser prevenido que te hayas ido ha sido buena suerte puedes estar segura que alguien como yo no llegara a tu vida siempre no en mi has perdido otra bendicion de infinidades que te ha dado dios no solo de pan vive el hombre y la belleza no es perfecta si no se tiene un buen corazon pensaste que era el final y fuiste el entrenamiento del inicio de mi historia lo siento niña por ti pero esa brincadera tuya para mi paso de moda si abrete dije una vez y mande por un tubo a la que por ella daba la vida no tiembla el pulso esta vez y hoy te repito que estas cancelada de mi vida me han hecho fuerte los tropiezos me han enseñado las heridas y aprendi que unas dejan flores bellas y otras con espinas pensaste que era el final y fuiste el entrenamiento del inicio de mi historia lo siento niña por ti pero esa brincadera tuya para mi paso de moda el confite ay yo se que te cansaste a mi me lo dijeron que ahora pa que me duela un momentico muchachos un momentico ay ay ay ay ay que encoñe tan bravo un dos vamos lucas ay yo se que te cansaste a mi me lo dijeron que era pa que me duela tienes amores nuevos se da golpe de pecho pero es pa apantalla porque cuando esta en temple se pone es a llamar pregunta en las esquinas me busca como loca no encuentro su calmante y se pone peligrosa puro invento pura bulla yo le tengo amarra la cabuya ella llega pero nada yo sin uña la tengo amarrada yo tengo un confite que la pone asi que la pone asi que la pone asi la tengo traumada y loquita por mi loquita por mi adicta por mi puro invento pura bulla yo le tengo amarra la cabuya ella llega pero nada yo sin uña la tengo amañada ay es que yo soy su doctor ay echandose mentira porque ella no me deja yo tengo el clavo exacto pa la tablita de ella yo soy el que la sube yo soy el que la baja yo le hago una señita que le quita la rabia yo le hago los pechiches la tengo precisa yo se que ella me quiere y de ñapa esta encoña puro invento pura bulla yo le tengo amarra la cabuya ella llega pero nada yo sin uña la tengo amañada yo tengo un confite que la pone asi que la pone asi que la pone asi la tengo loquita loquita por mi loquita por mi loquita por mi puro invento pura bulla yo le tengo amarra la cabuya ella llega pero nada yo sin uña la tengo amañada ella llega pero nada yo sin uña la tengo amañada el terremoto yo soy el que le pongo el yo soy el que le pongo el tiene como 180 pretendientes que la llaman y la viven molestando y yo tranquilo los dejo que se alejen porque soy de los que comen por debajo pasamos disimulando todo el tiempo para evitar los que viven murmurando pero cuando llega el momento de vernos beso y recorro su piel de arriba a abajo aunque pasen y le lleguen ofreciendo cuatrimotos ella sabe que en su cama ya tiene su terremoto el que la sube y la baja nada mas con darle un beso y conmigo esta tramada porque yo soy el que le pongo el yo soy el que le pongo el sabor yo soy el que quiere ella el que la emociona a ella yo soy el que quiere ella yo soy el que quiere ella viven como unos leones tras la presa y ella los tiene patinando en seco hace creer que todo el tiempo anda soltera pero yo soy el iman que atrae su cuerpo cuando cruzamos miradas echamos chispas porque ella es mi tentacion y yo la de ella y coqueteando me suelta una sonrisa peligrosa y eso es que quiere pasar la noche en vela y aunque le enseñen el carro no le da visaje a otro por su mente no ha pasado de cambiar su terremoto el que la sube y la baja nada mas con darle un beso y conmigo esta tramada porque yo soy el que le pongo el yo soy el que le pongo el yo soy el que quiere ella el que la emociona a ella yo soy el hombre de ella y le hace de todo a ella el latigo ay tu yo soy el que te pongo el latigo para que tu me des revolucion y quiero que me des tu filis que me bailes sexy para darte mi sabor yo soy el que te pongo el latigo para que tu me des revolucion y quiero que me des tu filis que me bailes sexy para darte mi sabor metete en el cuento que no es invento metete en que no incomoda mira que a los hombres bobitos no le dan ni un bocaito no le dan ni pa que pruebe no le gusta las mujeres mira que a la mujer le gusta un hombre que la enamora que la haga sentir la reina que es la reina de la noche y yo soy el que te pongo el latigo para que tu me des revolucion y quiero que me des tu filis que me bailes sexy para darte mi sabor yo soy el que te pongo el latigo para que tu me des revolucion y quiero que me des tu filis que me bailes sexy para darte mi sabor yo soy el que te pongo el latigo para que tu me des revolucion y quiero que me des tu filis que me bailes sexy para darte mi sabor yo soy el que te pongo el latigo para que tu me des revolucion pa ti mi vida tu tu tu mira mira que no es mentira cada vez se vuelve mas atrevida le gusta que le pongan ritmo que le ponga baila rico que le ponga el movimiento lo demas es puro cuento ay le gusta que el hombre la mire y que se muerdan los labios para ella moverse sexy y asi poder dominarlo y yo soy el que te pongo el latigo para que tu me des revolucion y quiero que me des tu filis que me bailes sexy para darte mi sabor yo soy el que te pongo el latigo para que tu me des revolucion y quiero que me des tu filis que me bailes sexy para darte mi sabor loco por tu amor increible una mirada una sonrisa y eras mia ya eras la dueña de todas mis alegrias fue tan impresionante fue cosa de un instante sentir la cosquillita la vainita que uno siente algo raro esta pasando dije yo como el sol y la luna eclipse tantos años hoy siento que me gustas que me encantas me fascinas que me estoy enamorando de vos te quiero aqui bien cerquita en mi vida alegrando mis dias muy feliz en mis brazos mi amor yo veo en ti mi camino a la cima la mujer de mi vida la que siempre he soñado yo y asi estoy yo yo y estoy flechao flechao flechao y estoy tramao tramao tramao y estoy loco por tu amor por tu amor por tu amor me le mido a lo que sea por tu amor por tu amor por tenerte aqui a mi lado y estoy loco por tu amor mi amor me le mido a lo que sea por tu amor por tu amor por tenerte aqui a mi lado ay dime que si ven por favor mira que este hombre se muere de amor si dices que si yo hablo con dios pa que sea el padrino y protege este amor y asi estoy yo y estoy tramao flechao flechao enamorado de ti tramao y estoy loco por tu amor por tu amor por tu amor me le mido a lo que sea por tu amor por tu amor porque estas aqui a mi lado ay solo quiero que sepas que mi alma no es de una tristeza bendigo el dia que tu amor toco mi puerta si cuando tu aceptas el reto de adorarme prometi a jesucristo que por siempre iba a cuidarte y con eso no juega mi corazon y si le fallo al cielo pobre castigo tengo porque se que algun dia dios me llamara a su reino dira que hice con mi bendicion cuando te vi pude ser quien seria se acabo la agonia de una amor diciendome adios y si fue asi entendi que aquel dia dios me dio la alegria de encontrar en tu ojos mi amor y asi estoy yo yo y estoy flechao flechao flechao y estoy tramao tramao tramao y estoy loco por tu amor por tu amor por tu amor me le mido a lo que sea por tu amor por tu amor por que al fin estas conmigo mi amor y estoy flechao flechao flechao y estoy tramao tramao tramao amantes y lo que aqui quede asi quehaceres manuela antonio y la comadre maria andrea ay yai yai yai yai tu corazoncito esta ocupado yo lo se pero tu me gustas y madita puedo hacer te tengo una propuesta la tomas o la dejas yo solo espero y quiero prontico una respuesta seamos amantes me llamas un ratito a mi de tarde en tarde lo que yo quiero es que me comas a besitos y hacerte unos truquitos que yo quiero mostrarte seamos amantes me sacas un ratito a mi de tarde en tarde lo que yo quiero que me comas a besitos y hacerte unos truquitos que yo quiero mostrarte ay dejame morderte esa boquita nada mas ay quiero mil quinientos besos tuyos nada mas ay llamame o te llamo di la hora y eso esta aprovecha que esta promocion no viene mas seamos amantes me sacas un ratico a mi de tarde en tarde lo que yo quiero es que me comas a besitos y hacerte unos truquitos que yo quiero mostrarte ay seamos amantes pero no le digas a nadie solo tu y yo jose nicolas andralvi niñito de jesus merlado y vilanda vitaza los sobrinos de mi hermano peña pa termina ay mi amor y nos termino gustando mas de lo que pensabamos y el corazon de rocho jesus david jose daniel juliana y maria celeste ay dejame morderte esa boquita nada mas quiero mil quinientos besos tuyos nada mas llamame o te llamo di la hora y eso esta aprovecha que esta promocion no viene mas seamos amantes me sacas un ratico a mi de tarde en tarde lo que yo quiero es que me comas a besitos y hacerte unos truquitos que yo quiero mostrarte seamos amantes me sacas un ratico a mi de tarde en tarde lo que yo quiero es que me comas a besitos y hacerte unos truquitos que yo quiero mostrarte ay seamos amantes portemonos mal pasemosla bien y iluminemos en la iglesia ay los niños lusiano nuñez el geronimo fantes y joseph david galvan de galue consentidos orgullosa ay cuando yo te recuerdo morenita no me puedo explicar lo que me da yo siento que me da una rasquiñita ay la emocion no la puedo soportar yo siento que me da una rasquiñita la emocion no la puedo soportar cuando pasan tres dias que no te veo me cayo un desespero que es peor mientras no se me cumplan los deseos ay no me puede pasar aquel dolor mientras no se me cumplan los deseos no me puede pasar aquel dolor lo que ocurre es que el hombre que quiere nunca puede ocultar el cariño lo que ocurre es que el hombre que quiere nunca puede ocultar el cariño negra aparta ese orgullo que tienes te aseguro que cuentas conmigo negra aparta ese orgullo que tienes te aseguro que cuentas conmigo morenita mia ven aca no me vayas a decir que no morenita mia ven aca no me vayas a decir que no de por dios mi negra ten piedad que este mal no lo soporto yo de por dios mi negra ten piedad que este mal no lo soporto yo ay el del canto dame vida dame salud que lo demas lo resuelvo yo solo se que te meten cuentecitos pa que tu te comportes mal conmigo cuando yo te veo lleno de caprichos me regreso a la casa pensativo cuando yo te veo lleno de caprichos me regreso a la casa pensativo y en el mismo momento me regreso con deseos de pedirte explicacion como yo soy el hombre que te aprecio no deseo recibir desilusion como yo soy el hombre que te aprecio no deseo recibir desilusion lo que ocurre es que el hombre que quiere nunca puede ocultar el cariño lo que ocurre es que el hombre que quiere nunca puede ocultar el cariño negra aparta ese orgullo que tienes te aconsejo que vengas conmigo negra aparta ese orgullo que tienes te aconsejo que vengas conmigo morenita mia ven aca no me vayas a decir que no morenita mia ven aca no me vayas a decir que no de por dios mi negra ten piedad que este mal no lo soporto yo de por dios mi negra ten piedad que este mal no lo soporto yo villa santo juhn luis angel y el gran martin elias ay mis hijos jaja asi es como se hace me tiene pechichon ay ay ay ay ay ay me tiene pechichon chon chon chon chon me tiene sabroson son son son son me tiene pechichon chon chon chon chon me tiene sabroson son son son son el hombre es como el perro el hombre es igual que el perro el hombre es como el perro el hombre es igual que el perro el hombre esta donde lo tratan bien el perro esta donde lo tratan bien el hombre esta donde lo tratan bien el perro esta donde lo tratan bien de ese jugo de zapote con leche en polvo y mas salsa con cucayo hay que sabor resulta que esa mujer me tiene emboba o por eso es que yo me siento bien palpitao me tiene pechichon chon chon chon chon me tiene sabroson son son son son me tiene pechichon chon chon chon chon me tiene sabroson son son son son me tiene pechichon chon chon chon chon me tiene sabroson son son son son me tiene pechichon chon chon chon chon me tiene sabroson son son son son el hombre es como el perro el hombre es igual que el perro el hombre es como el perro el hombre es igual que guau guau guau guau el hombre esta donde lo tratan bien el perro ta donde lo tratan bien el hombre esta donde lo tratan bien el perro ta donde lo tratan bien hay no pone problema si hay que echar un mañanero y que cuando no se arregla se ve mejor pueden decir lo que quieran que estoy contento antes era un callejero pero ya no me tiene pechichon chon chon chon chon me tiene sabroson son son son son me tiene pechichon chon chon chon me tiene sabroson son son son la solteria walter jaime con vargas y hazle bulla el de la tula tula tula ay ay compadre no es mi culpa no no no yo no sabia que usted era el novio de ella yo no sabia que tenia compromiso yo no sabia que ella tenia una historia y la muy viva nunca me lo dijo y ella se quedo calla hay se dejo se dejo enamora ella estaba era emociona y sabroso que me gritaba que viva la solteria eso era lo que decia ay que se iba de amanecida y que queria ser novia mia ay que viva la solteria eso era lo que decia que se iba de amanecida ella y que queria ser novia mia y usted usted enamorao y usted ilusionao cuidado una vaina que viva la solteria eso era lo que decia ay que se iba de amanecida y que queria ser la novia la novia mia como le parece para el victor orozco con sabor a gra ve a la vez solterita solterita y de juan cabela iba yo segun grita san juan y herman galindo esto que dice y el futuro del molino mi compadre carlos llano hay ay despues de tanto tiempo tiempo oiga compadre usted no sospechaba el coqueteo que tenia conmigo yo nunca supe nunca de su nombre nada porque la clienta nunca me lo dijo y ella se quedo calla hay se dejo se dejo enamora ella estaba era emociona y sabroso que me gritaba que viva la solteria eso era lo que decia ay que se iba de amanecida y que queria ser novia mia ay que viva la solteria eso era lo que decia que se iba de amanecida ella y que queria ser novia mia y usted usted enamora y usted ilusionao cuidado con una vaina que viva la solteria eso era lo que decia ay que se iba de amanecida y que queria ser novia mia y mi gente firma y pilla es carlos llora carlos carrascal y el doctor juan namagrit sonrisas sin limites perlo dominguez y toño reyes por un beso de tu boca y que tengo que hacer para que tu entiendas que yo que yo me vuelvo loco por un beso de tu boca y me provoca hacer de todo cuando estoy contigo pero me duele que tan solo soy tu amigo sacate de la mente ese papel porque te juro que yo me aburri de ser tu amigo yo quiero salir contigo uoh oh y que tengo que hacer para que tu entiendas que yo que yo me vuelvo loco por un beso de tu boca me provoca hacer de todo cuando estoy contigo pero me duele que tan solo soy tu amigo si tu me dejas yo te voy a llevar a un lugar del que nunca podras sacarme de tu mente jamas te juro si me dejas te voy a hacer saber que no vas a poder detener las ganas que te tengo mujer oh oh ahi esta no e na amo luca sueña sueña aqui estoy para que nunca me olvides esto a mi me gusta mucho me gusta me provoca darte beso en la boca me gusta me fasina solo tu me emocionas alocas mis sentidos de una forma tan loca tu a mi me gustas mucho desde que te vi mi vida no es igual por que yo vivo loco por ti por ti y que tengo que hacer para que tu entiendas que yo que yo me vuelvo loco por un beso de tu boca me provoca hacer de todo cuando estoy contigo pero me duele que tan solo soy tu amigo que que una cosa e acero inoxidable y otra hacerlo inolvidable y que tengo que hacer para que tu entiendas que yo que yo me vuelvo loco por un beso de tu boca me provoca hacer de todo cuando estoy contigo pero me duele que tan solo soy tu amigo esto me recuerda al negro mi negro kaleth ora dale tarararara un amor verdadero se que te hablaron de mi que no te conviene mi amor porque no tengo nada que soy pueblerino y que no me querran en tu casa y nadie te dijo que tu me enloqueces el alma si te enamoras de mi prometo no hacerte llorar que es lo mas importante voy a respetarte como hizo mama con mi padre es mas importante ser fiel que vestirse elegante ay quiero besarte yo quiero amarte sentir que te quiero te quiero te quiero dormirme tranquilo sentirme importante porque estoy sintiendo un amor verdadero quiero besarte yo quiero amarte sentir que te quiero te quiero te quiero sentir que recibo un cariño sincero que es mas importante el amor que el dinero hay gente que tiene millones de cosas pero no conoce el olor de una rosa hay gente que tiene un jardin en su casa y lleva por dentro un desierto en el alma quiero besarte yo quiero amarte sentir que te quiero te quiero te quiero dormirme tranquilo sentirme importante porque estoy sintiendo tu amor verdadero mision del deber esta melodia me pone a soñar sueñaa aqui estoy para que nunca me olvides ay hombre cuando te hablen de mi diles que soy un ser humano comun y corriente que siento la necesidad de entregarte mi suerte y que desde el dia que te vi solo pienso en quererte quererte y quererte quiero que seas feliz y me enfrentaria a cualquier cosa para protegerte tal vez no se hablar tres idiomas como mucha gente pero yo aprendi a valorar y a tratar las mujeres ay quiero besarte yo quiero amarte sentir que te quiero te quiero te quiero dormirme tranquilo sentirme importante porque estoy sintiendo un amor verdadero quiero besarte yo quiero amarte sentir que te quiero te quiero te quiero sentir que recibo un cariño sincero que es mas importante el amor que el dinero conozco personas que son exitosas pero nunca han dado un abrazo sincero conozco un mendigo que duerme en el suelo y siempre le lleva a su madre una rosa quiero besarte yo quiero amarte sentir que te quiero te quiero te quiero dormirme tranquilo sentirme importante porque estoy sintiendo tu amor verdadero amor de locos no nos echemos mentiras tu me gustas y yo te gusto dejemos la hipocresia si ya eres mia y yo soy tuyo y si quieres lo hacemos a escondidas para que sea mas emocionante juro por el resto de la vida yo puedo seguir siendo tu amante porque esto es un amor prohibido porque esto es un amor de locos si quieres lo hacemos escondidos yo te hago lo que no hace el otro soy mas sabroso que el lo dices a cada rato si no lo vas a querer mejor deja a ese muchacho me da tristeza con el le estan saliendo los cachos porque esto es un amor prohibido porque esto es un amor de locos si quieres lo hacemos escondidos yo te hago lo que no hace el otro no nos echemos mentiras tu me gustas y yo te gusto dejemos la hipocresia si ya eres mia y yo soy tuyo dejate de eso mi vida si ya eres mia y yo soy tuyo y si quieres lo hacemos a escondidas para que sea mas emocionante juro por el resto de la vida yo puedo seguir siendo tu amante porque esto es un amor prohibido porque esto es un amor de locos si quieres lo hacemos escondidos yo te hago lo que no hace el otro soy mas sabroso que el lo dices a cada rato si no lo vas a querer mejor deja a ese muchacho me da tristeza con el lo estas matando es a cachos porque esto es un amor prohibido porque esto es un amor de locos si quieres seguimos escondidos yo te hago lo que no hace el otro porque esto es un amor porque esto es un amor porque esto es un amor prohibido esto es un amor esto es un amor esto es un amor de locos al fin llegaste tu de diego daza esto que dice y si el amor si se niega no es bienvenido patricio hay que amar hay que amar y perdonar hay dejame decirte que has llegado a mi vida en el momento exacto oye dejame decirte que has cambiado mi mundo y todo lo has cambiado porque no me ha ido muy bien en cosas del amor porque un dia mi corazon a alguien se lo entregue pero lo volvio papel y no volvio a creer y todo se nublo y el sol se me apago pero al fin llegaste tu a llenar mi vida con tu amor a ponerme loco el corazon como yo soñaba pero al fin llegaste tu y te has convertido en mi ilusion y en las coquillitas la emosion que enloquese mi alma tu donde estabas que hace rato te necesitaba que hace rato me dolia el alma pero todo eso cambio gracias a dios pero al fin llegaste tu y te has convertido en mi ilusion y en las coquillitas la emosion que enloquece mi alma amor marta me igual en mi guajira compadre jose medina alla en mendi hay desde que llegaste tu nunca me habia sentido tan enamorado yo no se que es lo que tienes tu pero no se vivir si no estoy a tu lado dime dime como hacer como voy a pagar todo lo que haces por mi y yo lo hare por ti tu eres la unica mujer que me conoces bien que a mi me haces feliz que no me haces sufrir pero al fin llegaste tu a llenar mi vida con tu amor a ponerme loco el corazon como yo soñaba pero al fin llegaste tu y te has convertido en mi ilusion en las coquillitas la emosion que enloquese mi alma y y y donde estabas que hace rato te necesitaba hace rato me dolia el alma pero todo esto cambio gracias a cristo pero al fin llegaste tu y te has convertido en mi ilusion y en las coquillitas la emosion lo que yo deseaba gracias dios mio por haberme hecho hijo de patri mi madre dios me la bendiga amen ella es mi todo ella es mi todo es de la autoria me robaste un milagro un instante sabe todo de mi vida ay sabe que la estoy queriendo que la extraño que cuando no es tan extraño todo el tiempo que me tiene enamorado de sus besos y que si trato de ocultarlo nunca puedo he buscado y por mas que lo intento no encuentro el significado ay de lo que siento es humano en mi sueño cuando la tengo en mis brazos y me despierto su amor es tan necesario que perderlo no podria soportarlo porque muero y es que ella es mi todo mi comienzo descenlace mi fin ella es lo yo que siempre estaba esperando pa que llegara a cambiarme la vida y ella es mi todo mi comienzo descenlance mi fin ella es lo yo que siempre estaba esperando pa que llegara a cambiarme la vida si la veo lo malo se vuelve bueno y lo amargo es dulce ay mi dios del cielo no dejes que dude del sentimiento que yo llevo dentro ella es la novia que todos quisieran tan solo un momento la que todos sueñan pero yo lo siento porque ahora mismo soy el novio de ella ella es mi todo mi comienzo desenlace mi fin ella es lo yo que siempre estaba esperando pa que llegara a cambiarme la vida karina montes lo eres todo pa mi compadre se que a veces es dificil creerme porque tengo mi pasado y si dios me permitiera yo lo cambio pero se que no hay manera de lograrlo de aqui que entienda que en sus brazos yo solo pienso en quererla por mil años simplemente la amo y la amo y lo hare con todas mi fuerzas y si algun dia se me acaban voy buscando en las reservas de mi alma y te la canto porque tiene una mirada y un encanto que me deja sin palabras pa explicarlo porque ella es mi todo mi comienzo desenlace mi fin ella es lo yo que siempre estaba esperando pa que llegara a cambiarme la vida ella es mi todo mi comienzo desenlace mi fin ella es lo yo que siempre estaba esperando pa que llegara a cambiarme la vida yo sin ella siento que no tengo gracia todo es tan vacio no se que me pasa pero no es lo mismo peor aun si acaso no me llama pero en cambio cuando la tengo cerquita ya nada me importa solo esa sonrisa que la vuelve hermosa auque ella como sea se ve bonita ella es mi todo mi comienzo desenlace mi fin ella es lo yo que siempre estaba esperando pa que llegara a cambiarme la vida ella es mi todo mi comiezo desenlance mi fin ella es lo yo que siempre estaba esperando pa que llegara a cambiarme la vida ella es mi todo y es que ella es mi todo mi comiezo deselance mi fin ella es lo yo que siempre estaba esperando pa que llegara a cambiarme la vida niegame tres veces y haber tenido una relacion y a ver ta uno enamora o encoña o y que a la hora de la verda cuando le pregunten a aquella persona que si fue novia de uno digan uy yo a ese muchacho ni lo conozco y dice uno uju no me vaya a conocer si la traiga tuya dice si alguien pregunta por mi dile que tu no sabes de mi dile que se acabo este cariño lo hermoso y lo lindo que habia entre los dos me duele mucho que tu digas de que planeta soy yo habla que se acabo este partido que no hay tiempo extra que el juez ya pito y dile a todo que no sabes nada que soy un panal y nunca tuvo miel dile a todo mundo que cuando te amaba salian de mi boca besitos de hiel que si alguna ves tu sales embarazada es por obra y gracia del angel gabriel ay si me niegas tres veces antes que el gallo cante en la madruga asi niegas a cristo y te lavas las manos como si na quien se niega asi mismo y reniega de tanta felicidad no se quiere asi mismo y se atreve a negar hasta su mama ay si niega que uno y uno suman dos como vas a negar que existe un dios como vas a negar que te bese si en tu rostro mi nombre se te ve ay mi gente lloramos reimos y gozamos asi es la vida ay hombre cuando al principio la ame dijo a ver por favor esta es la estrofa que mas me gusta ay cuando al principio la ame dijo que yo era el fuete en amor vaya que la subi a las estrellas contabas las piedras que yo era el mejor y hoy que reniegas de mi dices que soy un pobre amateur bestia que en el amor soy novato que no valgo un peso que soy lo peor cuando fuimos novios me dabas renombre yo era lo mas lindo yo era se bebe y ahora que no estoy repicas de mi nombre hablando locuras pa ve quien le cree que soy un cualquiera que soy un mal hombre que no valgo un peso que soy hp eh te lo dedico y si me niegas tres veces antes que el gallo cante en la madruga asi niegas a cristo y te lavas las manos como si na quien se niega asi mismo y reniega de tanta felicidad no se quiere asi mismo y se atreve a negar hasta su mama si niega que uno y uno suman dos como vas a negar que existe un dios como vas a negar que te bese si en tu rostro mi nombre se te ve que se prenda la musa oye hijo toca bonito remate doña tao que me gusta muchas gracias abrete mientras que tu en las fechas especiales te olvidabas de mi la otra persona con simples detalles alegraba mi corazon mientras que tu con palabras groseras te alejabas de ti la otra persona decia te extraño hoy quiero verte mi amor poquito a poquito me fuiste perdiendo y ahora que reclama quisiste que fuera el payaso en tu circo y no me da la gana y vea que vaina rara ahora que no quiero si quiere conmigo ya no me interesas busca tus maletas y coge tu camino eh abrete que ya encontre la que a mi me gusta me gusta abrete porque contigo no quiero nada ya nada lo que no sirve se bota pa toda la vida ay la vida dios te bendiga no insista no hay mas palabra y no creas que hay amarguras en mi corazon porque quien quiere amargarse es aquel que en su arrogancia pierde un gran amor amor amor y abrete que ya encontre la que a mi me gusta me gusta me gusta abrete porque contigo no quiero nada ya nada opaa claro que si compadre julio garcia saludos a mi compadre cristian rodriguez como fui yo quien te abrio de ta quito no lo esperabas verdad pensaste que la traga que tenia la iba a tener por la eternidad yo soy un sensible ante tus encantos no te lo puedo negar ahora si quieres hacerme de todo pero yo no quiero ya y es que ahora los padres llaman a decirme que se esta muriendo pero ya no hay forma de que cambie lo que esta en mis pensamientos yo a ellos los respetos y se dieron cuenta que yo quise amarte pero ya no creo pero ya no creo pero ya no creo que tu vuelvas a probar este chocolate abrete que ya encontre la que a mi me gusta me gusta abrete porque contigo no quiero nada ya nada lo que no sirve se bota pa toda la vida la vida dios te bendiga no insista no hay mas palabra y no creas que hay amarguras en mi corazon porque quien quiere amargarse es aquel que en su arrogancia pierde un gran amor amor amor amor amor abrete que ya encontre la que a mi me gusta me gusta abrete porque contigo sinceramente sinceramente que se abra que se abra sinceramente que se abra que ya me consegui otra mejor que tu que tu muchas gracias muchas gracias vivo en el limbo te veo y me siento como aquel que esta muriendo de la dicha porque tiene al lado a la mujer que ama te veo y me siento como aquel que esta muriendo de la dicha porque tiene al lado a la mujer que ama ademas de ser linda me cambiaste la vida y la forma de pensar sentir decir las cosas y las malas costumbres que tenia y eso es lo que me tiene contento que no puedo cambiar lo que siento eres la que me inspira la que mi alma indica por eso es que te quiero que te adoro y cada momento el corazon me grita que eres la dueña de mis sentimientos que dejarte no lo haria de nuevo te veo y me siento como aquel que esta muriendo de la dicha porque tiene al lado a la mujer que ama y te quiero mas que a leo a la dueña de su vida y que mas lucho a la muñeca de porcelana yo se bien que sin ti no puedo estar me siento el rey de la soledad soy el patron el dueño de nada es como estar en ningun lugar vivo en el limbo te veo y me siento como aquel que esta muriendo de la dicha porque tiene al lado a la mujer que ama yo se que te da rabia que llames a la casa y que digan que no estoy que ya sali porque me fui a beber con algunos amigos pero en mi parranda yo te pienso porque tu eres lo mejor que tengo yo no se que me pasa yo no se que me pasa yo no se que me pasa cansao no piensen que este disco esta rayado es que sinceramente no se que me pasa porque que ni agua en el desierto donde estaba ya casi muriendo yo no se que me pasa yo no se que me pasa yo no se que me pasa no piensen que este disco esta rayado es que sinceramente no se que me pasa porque que ni agua en el desierto donde estaba ya casi muriendo te veo y me siento como aquel que esta muriendo de la dicha porque tiene al lado a la mujer que ama y te quiero mas que a leo a la dueña de su vida y que mas lucho a la muñeca de porcelana al hablar de ti me da una emocion se me acelera hasta el corazon esta extraña la situacion porque despues no se ni quien soy vivo en el limbo te veo y me siento como aquel que esta muriendo de la dicha porque tiene al lado a la mujer que ama y te quiero mas que a leo a la dueña de su vida mas lucho a la muñeca de porcelana te veo y me siento como aquel que esta muriendo de la dicha porque tiene al lado a la mujer que ama te veo y me siento como aquel que esta muriendo de la dicha porque tiene al lado a la mujer que ama esa mujer ay me miras de frente y me dices por que estoy tan raro preguntas por mi indiferencia por que estoy asi ay me pides que sea muy sincero que nada te oculte ella comprendera y si le pido que se vaya ella se ira ella comprendera y si le pido que se vaya ella se ira ay no puedo seguirte engañando no puedo mentirte no te hare mas daño tienes que saber por que estoy extraño tu no eres culpable lo siento mujer ay la quiero y la amo y nunca la he olvidado y por mas que lo intento no lo puedo hacer mi condena es por dentro mi sombra mis sueños el llanto que brota en un amanecer y esa mujer persigue el momento en que mejor me va he tratado de huir y aunque lejos estoy alguien me recuerda lo linda que esta ven por favor entiende a este hombre que muere por fe dame un poco e tiempo que yo rompere lo que me recuerda ese viejo querer ay no me dejes solo en el camino tengo miedo de seguir si tu no estas ayudame a escribir un nuevo libro que ese libro se llame aqui murio un amor y esa mujer persigue el momento en que mejor me va he tratado de huir y aunque lejos estoy alguien me recuerda lo linda que esta no puedo seguirte engañando no puedo mentirte no te hare mas daño tienes que saber por que estoy extraño tu no eres culpable lo siento mujer y esa mujer persigue el momento en que mejor me va he tratado de huir y aunque lejos estoy alguien me recuerda lo linda que esta chao contigo si tu quieres que me marche yo me voy a marchar si tu quieres que te olvide yo te voy ha olvidar por que ya me he acostumbrado a pasar el tiempo sin ti te confieso que el carino ya no existe en mi vivir quiero borrar ya tu imagen y sacarte de mi pecho quiero olvidar tu mirada que dejaste clavada en mi pensamiento quiero sacarte de mi vida y borrar ese recuerdo quiero olvidar tus locuras y esos arrebatos que son mi tormento que culpa tengo yo de que ya no te quiera que culpa tengo yo que mataras mi cariño y como hago yo por que no vale la pena no puedo continuar soportando tus caprichos si tu quieres que me marche que yo me aleje ya de tu lado si tu quieres que te olvide que yo te olvide ya te he olvidado y no me importa y no me importa estar mas cerca de ti que tu quieres que me marche que yo me marche ya de tu lado que tu quieres que te olvide que yo te olvide ya te he olvidado y no me importa y no me importa estar mas cerca de ti que culpa tengo yo de que ya no te quiera que culpa tengo yo que mataras mi cariño ya llego la primavera el verano ya se fue ahora florecen los campos que bonito atardecer que el amor nace en invierno con toda su tempestad pero ha llegado la calma y yo no te espero mas ayer te entregue mi vida pero todo ha sido en vano te has burlado de mi vida tu vive tranquila yo sigo soñando quiero sacarte de mi pecho y borrar ese recuerdo quiero olvidar tus locuras y esos arrebatos que son mi tormento que culpa tengo yo de que ya no te quiera que culpa tengo yo que mataras mi cariño y como hago yo por que no vale la pena no puedo continuar soportando tus caprichos que tu quieres que me marche que yo me marche ya de tu lado que tu quieres que te olvide que yo te olvide ya te he olvidado y no me importa y no me importa estar mas cerca de ti que culpa tengo yo de que ya no te quiera que culpa tengo yo si mataste mi cariño y como hago yo por que no vale la pena no puedo continuar soportando tus caprichos que culpa tengo yo de que ya no te quiera que culpa tengo yo si mataste mi cariño y como hago yo por que no vale la pena no puedo continuar soportando tus caprichos diez mil veces tu y si me toca elegir te elijo diez mil veces a ti melisa millenas pensandolo bien no he visto a la primera que te haga competencia ay que tienes no se que se me arregla el mundo cada vez que tu me besas hoy brindo por este amor para que dure lo que dura la eternidad para que brille como brilla la luz del sol para que siempre seas mia diez mil veces tu desde que te apareciste tu me volvi loquito por tu amor y ese es el amor que necesitaba ay diez mil veces tu desde que te apareciste tu solo tengo tiempo pa los dos si estamos los dos no hace falta nada ay con ese besito que me diste lo que hice fue tragarme diez mil veces mas de ti ay diez mil veces tu desde que te apareciste tu me volvi loquito por tu amor y ese es el amor que necesitaba yo para martincito fabulelena diaz me llevo a la luna y yo no se que me paso pero es que me tiene loco solo se que me flecho que me hizo sentir de todo y ahora yo no la dejo de pensar y ahora me empiezo como a enamorar no se que paso conmigo pero lo que si les digo que ella me llevo a la luna solo solo con robarme un beso beso y en ese mismo momento se convirtio en mi locura me llevo a la luna solo solo con robarme un beso beso y en ese mismo momento se convirtio en mi locura muñequita bonita tu llegaste a cambiarme la vida me despierto toditos los dias y de una de una te quiero aqui y ella me llevo a la luna solo solo con robarme un beso beso y en ese mismo momento se convirtio en mi locura y ahora yo no la dejo de pensar y ahora me empiezo como a enamorar no se que paso conmigo pero lo que si les digo ella me llevo a la luna solo solo con robarme un beso beso y en ese mismo momento se convirtio en mi locura me llevo a la luna ay solo solo con darme un beso y en ese mismo momento se convirtio en mi locura muñequita bonita tu llegaste a cambiarme la vida me despierto toditos los dias y de una de una te quiero aqui ella me llevo a la luna solo solo con robarme un beso beso y en ese mismo momento se convirtio en mi locura ven y vuelve a darme el beso que me diste ayer ven y subeme a la nube que me gusta que ella me llevo a la luna solo solo con robarme un beso beso y en ese mismo momento se convirtio en mi mundo completico completico la que no me conoce mucho gusto señorita ay hombre ay ahora me pasa por el lado y te haces la que no conoce para lucirte con tu novio nuevo que risa me da jaja si nos presentas tienes el descaro de darme tu nombre conmigo no vas a venir de artista que vas a inventar o es que acaso no te acuerdas lo que hicimos en plenos carnavales las amanecidas en festivales las locuras que vivimos tu y yo no la vas a olvidar que lo diga cartagena esa noche que me amaste y me amaste tus lunares me aburri de contarte pero tranqui que a tu novio nada de eso le voy a contar ven y saludame que eso no es nada ven no te hagas la que no sabe quien soy yo pero dime tu a quien quieres engañar quizas alguien pero a mi no señor ay vela ve claro si como no la que no me conoce y que llama toditas las noches a decirme que todavia no me ha podido olvidar ay vela ve claro si como no la que no me conoce y me llama toditas las noches a decirme que todavia no me ha podido olvidar david nicolas daniel y cristianito baez jaja saludos a sebastian y en barranquilla luchito saenz nando del castillo y raul achutir controles carlos amargo y abelardo en el display y el momento goce ay angel blaza en mi guajira y en bucaramanga luis zavaleta y el cacique yo se que voy a terminar poniendo la mano en el hombro digame usted donde pongo la firma que vas a llamar cuando te aburras de tu nuevo amor y se te acabe todo ahi si sere yo tu nene pa alli y tu nene pa alla te vere haciendo de todo pa que yo vuelva a besarte y besarte te conozco te conozco bastante por si acaso no te acuerdas mucho gusto un honor para mi de testigo tengo el beso que esa noche en mi camisa dejaste y que nunca nunca pudo borrarse pero tranqui que esta historia es un secreto y no sale de aqui ven y saludame que eso no es nada ven no te hagas la que no sabe quien soy yo pero dime tu a quien quieres engañar quizas alguien pero a mi no señor ay vela ve claro si como no la que no me conoce y que llama toditas las noches a decirme que todavia no me ha podido olvidar ay vela ve claro si como no la que no me conoce y que llama toditas las noches a decirme que todavia no me ha podido olvidar y la que no se olvida de juan manuel serrano es paula turbain ay eduardo compa el guajiro y el monar umongo los hermanitos mañanita de invierno mira mi vida que mañana tan serena que mañana tan lluviosa que me dan ganas de llorar he sorprendido con el canto de las aves confundido en tu presencia y tu figura angelical esta mañanita de invierno me angulaba me recuerda a villanueva me recuerda mi niñez en ese pueble disfrute tantas mañana esos tiempos se me han ido mas nunca los vuelvo a ver dame un besito te lo pido mi amor dame un besito pa sentirte en mi ser dame un besito con todo el corazon para que sepas como un hombre cuando se enamora con el alma entrega el cariño mas mujer mira que el cielo se vuelve arrugar y unas goticas ya empiezan a caer vamos pa adentro que nos vamos a mojar para que estemos bien solitos y yo asi entregarte mi cariño pa que tu te sientas mas mujer con el rocio de la mañana me divierto el verano ya se ha ido pero el invierno ya volvio de igual manera yo me siento satisfecho al sentirme al lado tuyo y alegre me siento yo mira esas nubes como estan de bajiticas que quisieran saludarnos observando nuestro amor y son tan nobles que quizas no nos critican ellas no sienten envidia mas bien sienten emocion dame un besito te lo pido mi amor dame un besito pa sentirte en mi ser dame un besito con todo el corazon para que sepas como un hombre cuando se enamora con el alma entrega el cariño mas mujer mira que el cielo se vuelve a nublar y unas goticas ya empiezan a caer vamos pa adentro que nos vamos a mojar para que estemos bien solitos y yo asi entregarte mi cariño pa que tu te sientas mas mujer te empeliculaste se te metio en la cabeza que que conmigo te ibas a cuadrar fuimos a comer a andres dc y a la cacik fuimos a rumbear pero no contaba con que tu te metieras a empelicular ay yo no tengo culpa de tu cuento de tu invento ay yo no tengo culpa de la de tu sentimiento ay yo no tengo culpa no señor yo no tengo culpa no no no te empeliculaste te sollaste y le metiste el corazon y por eso estas asi buscandome pa que yo te vuelva a poner el swing y le metiste el corazon y por eso estas asi buscandome pa que yo te vuelva a poner el swing el que se enamora pierde nunca te dije mentira y solo fue una salida no entiendo por que mi vida te empeliculaste te sollaste les dijiste a tus amigos que era tuyo porque nunca imaginaste que yo estaba que yo estaba como tu montado en una vaca loca de pasion y le metiste el corazon y por eso estas asi buscandome pa que yo te vuelva a poner el swing dime que fue lo que te paso que fue lo que te empeliculo si yo solamente te baile si yo solamente de rumbie pero te pasaste de emocion y te volvio loca mi sabor fui a matildelina y en seguida me encontraste me pase pa kinky y en seguida me llegaste con esa pelicula a millon por eso te pega esta cancion te empeliculaste te sollaste y le metiste el corazon y por eso estas asi buscandome pa que yo te vuelva a poner el swing y le metiste el corazon y por eso estas asi buscandome pa que yo te vuelva a poner el swing el que se enamora pierde nunca te dije mentira y solo fue una salida no entiendo por que mi vida te empeliculaste te sollaste les dijiste a tus amigos que era tuyo porque nunca imaginaste que yo estaba que yo estaba como tu montado en una vaca loca de pasion y le me tiste el corazon y por eso estas asi buscandome pa que yo te vuelva a poner el swing vea eso me persiguio por kukaramakara trucopey discolo y la fabrica mi ex ay recuerdo cuando nos enamoramos de las cosas que nos prometimos asi me dijiste si te equivocas no creas que voy a darte la espalda enseguida por que tu eres un ser humano igual que yo que se equivoca solo por una llamda que recibi de que fuera mi amada pero ella es mi amiga sin escucharlo hoy te vas como si nada a caso por que ella es mi ex no puede ser mi amiga mas nunca puedo hablarle mi amor no tengas duda que lo que siento por ti no lo acaba nadie a caso por que ella es mi ex no puedo hacerle un chance mas nunca puedo hablarle mi amor no tengas duda que lo que siento por ti no lo acaba nadie amigos en los ejemplos me enseño papa que las cosas grandes que aprendi de mama que hasta al enemigo se le deba hablar a caso por que ella es mi ex no puede ser mi amiga mas nunca puedo hablarle mi amor no tengas duda que lo que siento por ti no lo acaba nadie ay no hay nada que no sepas de mi vida contigo he sido un libro abierto y no tengo secretos ay sabes que ella fue mi traga y la que partio en mil pedasos mi vida pero tambien sabes quien fuiste tu curo esa herida zuliavallenata ay solo por una llamda que recibi de que fuera mi amada pero ella es mi amiga sin escucharlo hoy te vas como si nada a caso por que ella es mi ex no puede ser mi amiga mas nunca puedo hablarle mi amor no tengas duda que lo que siento por ti no lo acaba nadie a caso por que ella es mi ex no puedo hacerle un chance mas nunca puedo hablarle mi amor no tengas duda que lo que siento por ti no lo acaba nadie amigos en los ejemplos me enseño papa que las cosas grandes que aprendi de mama que hasta al enemigo se le deba hablar a caso por que ella es mi ex no puede ser mi amiga mas nunca puedo hablarle mi amor no tengas duda que lo que siento por ti no lo acaba nadie pa que lo acaben tiene que pasar muchos arroyitos te lo dije hoy me buscas hoy me llamas despues de tanto tiempo me vienes con el cuento que conmigo quieres volver ya olvide la manera que partiste el pasado y jamas volvera a suceder que te dejaste envolver por tus amigas que fueron ellas la que te aconsejaban eso solo me pasa a mi si contigo me porte bien yo no tengo la culpa si te paso la de kunfu yo no se lo que quieres tu te domino la duda quiero que sepas que el tiempo no regresa que ya no eres la hembra que me hace delirar saque las cuentas tu ya no me interesas mejor date la vuelta por dios dejame en paz quien no quiso cuando pudo no podra lo que quiera cuando quiera lastima ay yo no se pa que me vienes a buscar no me busques que no me vas a encontrar te lo dije te lo dije ay te lo dije te lo dije te lo dije ay te lo dije hoy me sigues me persigues me canse de tus compinches todos tus berrinches conmigo no vas a volver si tarde te arrepentiste te cuento perdiste lo siento no ahi nada que hacer a mi me causa dolor no escucharte pero es mejor perdonar que aceptarte yo sabiendo como eres tu de pronto te da un patatu sea yo el pobre pagano el problema es que tu actitud yo no se lo que piensas tu es mejor separarnos quiero que sepas que el tiempo no regresa que ya no eres la hembra que me hace delirar saque las cuentas tu ya no me interesas mejor date la vuelta por dios dejame en paz quien no quiso cuando pudo no podra la que quiera cuando quiera lastima ay yo no se pa que me vienes a buscar no me busques que no me vas a encontrar yo yo te lo dije te lo dije ay te lo dije obsesion que dice tu mirada que cosa extraña tus ojos tienen cuando miro tu foto una rara obsesion me detiene dios mio tu que eres el creador de todas las cosas bellas que hay en el mundo por que no escuchas hoy mis peticiones hiciste medicos pa todos los males pero por que no creaste uno que pueda curar un mal de amores yo quisiera que la tierra girara al reves para hacerme pequeño y volver a nacer y no tener que volver a extrañarte ni en tus fotografias mirarte ni llevarte fundida en mi pecho como si fueras parte de mi barranquilla ciudad de cantores de vallenatos y de acordeones ella adorna tus calles decile que le deseo que sea feliz que la ultima cancion que compongo que no creo volver a enamorarme pero dime como hiciste negra pa olvidarte de mi la gente me critica porque ahora ya no soy parrandero con tu partida negra siento mas frio muero en silencio cuida bien mis retoños porque tu sabes que yo no quiero dios mio dame fuerzas pa continuar con este canto recuerdo un mes de octubre tu cumpleaños te juro que trato y no he podido buscar el remedio para olvidarlo yo quisiera que la tierra girara al reves para hacerme pequeño y volver a nacer y no tener que volver a extrañarte ni en tus fotografias mirarte ni llevarte fundida en mi pecho como si fueras parte de mi barranquilla ciudad de cantores de vallenatos y de acordeones ella adorna tus calles decile que le deseo que sea feliz que la ultima cancion que compongo que no creo volver a enamorarme pero dime como hiciste negra pa olvidarte de mi quiero que seas mi estrella vi dulzura en tu sonrisa y en tu mirada ternura y lluvia de amor prisionera a ti te tienen y sin salidas entre paredes sin sol princesa de un cuento de hadas no quiero que seas quisiera que fueras la reina mi realidad comprendo que a tu libertad le han puesto cadenas mas tu alma te grita atormentada que quiere volar yo tambien tengo el alma destrozada y el corazon dolido por falta de un cariño que tu puedes brindar tu vida esta cercada y aun quedan dos caminos el que tomes tu conmigo y el que el destino nos traera no quiero volver a llorar quiero que seas mi estrella para que ilumines siempre nuestro camino al andar no me gusta la soledad quiero que seas mi estrella para que ilumines siempre nuestro camino al andar aventuras las he tenido pero contigo no debo pensar igual tu inocencia es algo lindo y tus principios yo no los debo cambiar princesa de un cuento de hadas no quiero que seas quisiera que fueras la reina mi realidad yo tambien tengo el alma destrozada y el corazon dolido por falta de un cariño que tu puedes brindar tu vida esta cercada y aun quedan dos caminos el que tomes tu conmigo y el que el destino nos traera no quiero volver a llorar quiero que seas mi estrella para que ilumines siempre nuestro camino al andar no me gusta la soledad quiero que seas mi estrella para que ilumines siempre nuestro camino al andar no quiero volver a llorar quiero que seas mi estrella para que ilumines siempre nuestro camino al andar no me gusta la soledad quiero que seas mi estrella busca un confidente alex por favor escuchame dejame explicarte las cosas no son asi yo no quise hacerlo por favor escuchame no me digas nada no quiero escucharte busca un confidente y cuentale todo dile que me hiciste lo que a nadie se le hace dile que estoy triste y no voy a resignarme aceptarlo solo porque estas arrepentida dile que me quieres porque yo se que me quieres y que no pudiste derrotar un desengaño por un hombre que ni siquiera muy bien conoces yo se que a ti te duele que estas arrepentida tu no querias hacerlo pero fuiste muy debil y a mi tambien me duele porque tu eres mi vida pero no es nada facil lo que ya no se puede ver porque el corazon no puede olvidar porque mi dolor no se puede borrar tan solo porque tu me digas perdoname y asi de facil no es y asi tan facil no es te dare mi olvido decirlo es muy facil para cumplirlo me siento impotente porque eres la sombra que refleja mi alma me duele aceptarlo mi corazon te llama que dificil es vivir lo que yo estoy viviendo rompiste el encanto que en nuestro amor brotaba sueños que juramos no derrumbar por nada tu los derrumbaste yo quede atrapado en ellos yo se que aun me quieres permanezco en tu vida y hoy vienes a explicarme lo que tanto me duele yo no quiero escucharte lastimas mas mi herida si quieres desahogarte ve y busca un confidente porque el corazon no puede olvidar porque mi dolor no se puede borrar tan solo porque tu me digas perdoname porque el corazon no puede olvidar porque mi dolor no se puede borrar tan solo porque tu me digas perdoname porque el corazon no puede olvidar porque mi dolor no se puede borrar tan solo porque tu me digas con el corazon perdoname cuatro rosas hoy vengo con mis manos llenas de sinceridad llenas de verdades porque el hombre cuando es noble se arrepiente te quiero con las fuerzas que no tengo y por nada de este mundo yo te pierdo pero no voy a arriesgar todo por nada el amor sincero por el pasajero el amor que vale por el de la calle por andar de loco yo casi te pierdo pero me arrepiento voy a conquistarte por eso traigo cuatro rosas en mis manos una por cada tristeza que te he causado perdona por ocultarte cosas que eran importantes perdona yo no queria entender que no podia olvidarte perdona haberte pedido que nos dieramos un tiempo perdona mi locura mas grande solo a ti te quiero te veran de la mano de este hombre enamorado solo a ti solo a ti quiero serte fiel hasta con el pensamiento solo a ti solo a ti te debo el olvido de mi triste pasado solo a ti solo a ti quiero llevarte a la iglesia y jurarte amor eterno solo a ti mi amor quiereme quiereme pero perdoname anda hoy siento que contigo soy nueva criatura soy un hombre nuevo vengo a saberlo cuando casi me olvidabas me arrepiento con las fuerzas que no tengo y por nada de este mundo yo te pierdo pero no voy a arriesgar todo por nada el amor sincero por el pasajero el amor que vale por el de la calle por andar de loco yo casi te pierdo pero me arrepiento voy a conquistarte por eso traigo cuatro rosas en mis manos una por cada tristeza que te he causado perdona por ocultarte cosas que eran importantes perdona yo no queria entender que no puedo olvidarte perdona haberte pedido que nos dieramos un tiempo perdona mi locura mas grande solo a ti te quiero te veran de la mano de este hombre enamorado solo a ti solo a ti quiero serte fiel hasta con el pensamiento solo a ti solo a ti te debo el olvido de mi triste pasado solo a ti solo a ti quiero llevarte a la iglesia y jurarte amor eterno te debo el olvido de mi triste pasado solo a ti solo a ti quiero llevarte a la iglesia y jurarte amor eterno solo a ti solo a ti te veran de la mano de este hombre enamorado solo a ti solo a ti quiero serte fiel hasta con el pensamiento el amor mas grande del planeta este amor es el mas grande de mi vida y sin temor a equivocarme este este es el amor mas grande del planeta como olvidar aquel momento en que nos vimos dos corazones a mil millas por segundo salieron disparados locamente a enamorarse y nada los detuvo terminaron enredandose hey y nacio el amor mas grande del planeta porque como te quiero no hay nadie que quiera porque como te amo no hay nadie que ame porque como me besas nadie besa a nadie y nacio el amor mas grande del planeta porque no habra razones para que se muera ese amor tiene tendencias a lo infinito esta blindado contra el miedo el engaño y el olvido voy a colgar un letrero en la luna que diga esta muñequita que ahora tengo le ha quitado a mi vida la duda porque como te quiero no hay nadie que quiera porque como te amo no hay nadie que ame porque como me besas nadie besa a nadie y nacio el amor mas grande del planeta porque como te quiero no hay nadie que quiera porque como te amo no hay nadie que ame porque como me besas nadie besa a nadie nadie besa a nadie ay como pagarle a dios por tu cara bonita por tu alma buena por tu dulce compañia porque me ha regalado a la mejor mujer del mundo y porque a nuestras vidas le palpita un solo corazon y este es el amor mas grande del planeta porque como te quiero no hay nadie que quiera porque como te amo no hay nadie que ame porque como me besas nadie besa a nadie y este es el amor mas grande del planeta porque no habra razones para que se muera este amor tiene tendencias a lo infinito esta blindado contra el miedo el engaño y el olvido y voy a colgarle un letrero en la luna que diga esta muñequita que ahora tengo le ha quitado a mi vida la duda porque como te quiero no hay nadie que quiera porque como te amo no hay nadie que ame ay porque como me besas nadie besa a nadie y nacio el amor mas grande del planeta porque como te quiero no hay nadie que quiera porque como te amo no hay nadie que ame porque como me besas nadie besa a nadie nadie besa a nadie tan natural tal vez casualidad o algo del mas alla pero ahora estas conmigo y sin mirar atras vamos a caminar por el mismo camino porque en algun lugar por fin yo iba a encontrar un amor tan divino por quien ahora yo vivo por quien ahora respiro oh oh y es que es tan natural cuando me dices que jamas habias sentido un amor tan inmenso luego de un te amo luego de un suspiro y yo te doy un beso y tu muerdes mis labios sin pedir permiso yo te hago lo mismo momentos tan lindos te siento tan feliz porque es tan natural sentir que ya te amo y que me estoy muriendo por tenerte en mis brazos por acariciarte y por sentir tu cuerpo porque vale la pena darte y darte amor aunque te encuentres lejos no le temas a nada porque aqui estoy yo yo soy tu complemento y es que es tan natural cuando me dices que jamas habias sentido un amor tan inmenso luego de un te amo luego de un suspiro y yo te doy un beso y tu muerdes mis labios sin pedir permiso yo te hago lo mismo momentos tan lindos te siento tan feliz porque es tan natural sentir que ya te amo y que me estoy muriendo por tenerte en mis brazos por acariciarte y por sentir tu cuerpo porque vale la pena darte y darte amor aunque te encuentres lejos no le temas a nada porque aqui estoy yo y yo soy tu complemento yo te protegere yo te acompañare a lo desconocido a lo jamas sentido ahi siempre estare porque es tan natural sentir que ya te amo y que me estoy muriendo por tenerte en mis brazos por acariciarte y por sentir tu cuerpo porque vale la pena darte y darte amor aunque te encuentres lejos no le temas a nada porque aqui estoy yo y yo soy tu complemento carnaval de amor tu me fascinas me vuelves loco no te imaginas cuanto te adoro busque hasta en china no tuve suerte y en barranquilla yo pude verte que siga la fiesta fiesta fiesta yo quiero quererte quererte quererte oye corazon cada vez que te miro me da una emocion cada vez que te beso aumenta mi pasion una nota bacana se mete en mi alma y me alegra la vida tu me fascinas me vuelves loco no te imaginas cuanto te adoro busque hasta en china no tuve suerte y en barranquilla yo pude verte el joe a mi me lo dijo en una ocasion vete pa quilla alla esta tu amor busque en la troja en la 84 o en el romelio apuesto un millon que encuentras esa mujer en el carnaval en la guacherna ponte el disfraz de monocuco de joselito alista la fria pal guayacan tu me fascinas me vuelves loco no te imaginas cuanto te adoro busque hasta en china no tuve suerte y en barranquilla yo pude verte barranquilla aqui tienes tu caballero tu eres la que me vuelve loco en barranquilla en la guacherna vamo a baila batalla de flores vamo a goza en barranquilla me voy a quedar lo dijo el joe carnaval tu me fascinas me vuelves loco no te imaginas cuanto te adoro busque hasta en china no tuve suerte y en barranquilla yo pude verte que siga la fiesta fiesta fiesta yo quiero besarte besarte besarte con esta cancion te quiero como al junior que es mi pasion esthercita en el cielo me lo confirmo lo que estamos viviendo es hermoso eso es un carnaval de amor tu me fascinas me vuelves loco no te imaginas cuanto te adoro busque hasta en china no tuve suerte y en barranquilla yo pude verte es que tu eres mi amor de carnaval solo contigo yo quiero estar contigo me voy a desordenar a bailar en la fiesta es que tu eres mi amor de carnaval solo contigo yo quiero estar contigo me voy a desordenar a bailar en la fiesta tu me fascinas me vuelves loco no te imaginas cuanto te adoro busque hasta en china no tuve suerte y en barranquilla yo pude verte es que tu eres mi amor de carnaval solo contigo yo quiero estar contigo me voy a desordenar a bailar en la fiesta es que tu eres mi amor de carnaval solo contigo yo quiero estar contigo me voy a desordenar a bailar en la fiesta no voy a llorar yo lo presenti que en poco tiempo tu quisieras terminar dios lo quiso asi entonces no hay problema no voy a llorar que sera de mi o acaso soy el prisionero de un error que vivio de ti y que tu solo le rompiste el corazon y no voy a llorar cuando te vea partir tratare de borrar esa desilusion que dejaras en mi y te juro por dios que no voy a llorar si te quieres marchar yo no voy a impedir tu sueños de volar a un mundo mas feliz con nubes de cristal dejando lo que yo guardaba para ti me habian dicho que el amor era asi yo no se porque no quise escuchar hoy te alejas y me toca vivir la experiencia mas amarga quizas me habian dicho que el amor era asi y hoy me encuentro que es la triste verdad que el querer esta amarrado al sufrir y el sufrir envuelto en la soledad y no voy a llorar cuando te vea partir tratare de borrar esa desilusion que dejaras en mi y te juro por dios que no voy a llorar si te quieres marchar yo no voy a impedir tu sueños de volar a un mundo mas feliz con nubes de cristal dejando lo que yo guardaba para ti un amanecer tal vez una mañana hermosa volveras porque alguna ves te daras cuenta que me amaste de verdad y tarde sera porque si tu te vas yo no te esperare si me dolera pero no de esperar que tu quieras volver y entonces volveras recordando el amor que hoy tu quieres dejar y sentiras de dolor preguntaras a dios señor en donde esta si yo era su ilusion llorando buscaras refugio en otro amor y entonces volveran momentos de pasion que me conmoveran pero juro por dios que no voy a llorar me habian dicho que el amor era asi yo no se porque no quise escuchar hoy te alejas y me toca vivir la experiencia mas amarga quizas me habian dicho que el amor era asi y hoy me encuentro que es la triste verdad que el querer esta amarrado al sufrir y el sufrir envuelto en la soledad y no voy a llorar cuando te vea partir tratare de borrar esa desilusion que dejaras en mi y te juro por dios que no voy a llorar si te quieres marchar yo no voy a impedir tu sueños de volar a un mundo mas feliz con nubes de cristal dejando lo que yo guardaba para ti goza goza vamos a gozar baila baila eh goza goza ay niña hermosa tu tu tu me encantas ay dame lo que quiero quiero sabes lo que quiero quiero tu locura cura que te soye como yo baila baila eh goza goza ay niña hermosa tu tu tu me encantas ay dame lo que quiero quiero sabes lo que quiero quiero tu locura cura que te soye como yo ay tu que me hiciste tu que me diste que solo tu solo tu solo tu me estas gustando te vivo pensando cada medio segundo tu me tienes loquiando ay dime donde estabas tu mujer coqueta te encontre de donde saliste tu que estas tan linda yo no se ay sigueme bailando asi que no respondo bueno pues que pidan la botella que este man hoy se los pega por usted baila baila eh goza goza ay niña hermosa tu tu tu me encantas ay dame lo que quiero quiero sabes lo que quiero quiero tu locura cura que te soye como yo baila baila eh goza goza ay niña hermosa tu tu tu me encantas ay dame lo que quiero quiero sabes lo que quiero quiero tu locura cura que te soye como yo baila conmigo goza conmigo que solo tu solo tu solo tu me estas gustando no lo pienses tanto bacilatela conmigo tu me tienes loquiando dime donde estabas tu mujer coqueta te encontre de donde saliste tu que estas tan linda yo no se ay sigueme bailando asi asi asi que pidan la botella que pidan la botella que este loco hoy se los pega por usted baila baila eh goza goza ay niña hermosa tu tu tu me encantas ay dame lo que quiero quiero sabes lo que quiero quiero tu locura cura que te soye como yo baila baila eh goza goza ay niña hermosa tu tu tu me encantas ay dame lo que quiero quiero sabes lo que quiero quiero tu locura cura que te soye como yo la llamada clandestina ay dios mio es que con las nenas no hay quien pueda despues dicen que somos nosotros quien la ve cuando me mira no conoce quien la ve cuando me mira no me habla pero cuando la dejo en su casa lo primero que por su mente pasa es llamarme a decirme que donde que estas que vas hacer no me vas a recoger ya estoy lista para ti la verdad yo me siento mal yo me quiero desahogar por favor pasa por mi ella sabe bien que yo no doy pa decir que no no me puedo resistir y por eso cuando quiere me busca por que sabe que yo tengo su cura y es que ella quiere pasarla bacano pero el novio siempre esta casando por eso no tiene otra salida de hacer la llamada clandestina pasa por mi quiero salir quiero amenecer contigo mi novio no esta de ñapa salio a si que no te preocupes mi amor y es que ella quiere pasarla bacano pero el novio siempre esta casando por eso no tiene otra salida de hacer la llamada clandestina na na na ehhh ella quiere que me vaya y cuando llego pero cuando yo me voy comienza el cuento de una comienza la llamadera diciendome que la noche esta buena y que el novio se va acostar diganme que puedo hacer yo me quisiera ajuiciar pero en esta situacion quien se puede resistir con semejante mujer con semejante bombom me disculpan con aquel que no voy a mencionar pero hago la aclaracion diganle que no tengo la culpa esa loca es la que siempre me busca y es que ella quiere pasarla bacano pero el novio siempre esta casando por eso no tiene otra salida de hacer la llamada clandestina pasa por mi quiero salir quiero amenecer contigo mi novio no esta de ñapa viajo a si que no te preocupes mi amor y es que ella quiere pasarla bacano pero el novio siempre esta casando por eso no tiene otra salida de hacer la llamada clandestinaaaa ayy que ella quiere pasarla bacano pero el novio siempre esta casando por eso no tiene otra salida de hacer la llamada clandestina rin rin y es que ella quiere pasarla bacano pero el novio siempre esta casando por eso no tiene otra salida que hacer la llamada clandestinaaaa diez razones para amarte bueno mi amor y esta cancion es con el alma para ti mi mona linda ayy yo siento que volvi a nacer desde el momento en que te conoci mi reina linda desde que de ti me enamore toda mi vida te la entregue desde ese dia no me queda espacio para nadie soy solo tuyo menos mal que tuve suerte y pude conquistarte se que dios te hizo fue para mi eso no lo dudo porque de otra no hubiese podido enamorarme deseo que este amor bello perdure todo el tiempo que jamas se borre lo que siento y pienses en mi en todo momento diez razones para mi vivir para descansar y despertar diez razones para ser feliz disfrutando tu amor nada mas conocerte enamorarte comprenderte valorarte respetarte y consentirte extrañarte y pensarte serte fiel y tenerte diez razones para amarte lo juro mi amor no me queda espacio para nadie soy solo tuyo menos mal que tuve suerte y pude conquistarte desde entonces mi amor es por ti porque al mirarte logre descubrir un mundo nuevo donde soy plenamente feliz y por eso seras para mi mi amor eterno no me queda espacio para nadie soy solo tuyo menos mal que tuve suerte y pude conquistarte se que dios te hizo fue para mi eso no lo dudo porque de otra no hubiese podido enamorarme deseo que este amor bello perdure todo el tiempo que jamas se borre lo que siento y pienses en mi en todo momento diez razones para mi vivir para descansar y despertar diez razones para ser feliz disfrutando tu amor nada mas conocerte enamorarte comprenderte valorarte respetarte y consentirte extrañarte y pensarte serte fiel y tenerte diez razones para amarte lo juro que siento por ti es amor no me queda espacio para nadie soy solo tuyo menos mal que tuve suerte y pude conquistarte no me queda espacio para nadie soy solo tuyo menos mal que tuve suerte y pude conquistarte se que dios te hizo fue para mi eso no lo dudo porque de otra no hubiese podido enamorarme no me queda espacio para nadie soy solo tuyo menos mal que tuve suerte y pude conquistarte se que dios te hizo fue para mi eso no lo dudo porque de otra no hubiese podido enamorarme tierra mala para que desear tus besos si tus labios no quieren por que soñar un amor que no existe en ti por que fijar la esperanza en algo que ya ha muerto si al final de la ilusion no hay un dia que no sea gris si si sembre semillas de amor en tu alma desde niño la cuide con ilusion rodeandola de cariño y alguien sembro una pasion que acabo lo bonito pero recogi dolor porque nacieron espinos si si quise cultivar un amor y me he quedado solo creo que sembre tierra mala o no supe sembrar pero creo que sembre bien dios me lo enseño todo entonces eres tierra mala porque no nacio en ti el amor que yo soñe nunca florecio en ti el amor que yo soñe nunca florecio en ti el amor y muy solo me quede por que tenias que fingir un amor que no sentias no tenias necesidad aparentar que me amabas si me hubieras explicado te hubiera entendido pero mas duro me dio al saber que te casabas si si nunca pense que tuvieras un corazon de piedra donde la semilla nace pero no echa raices crece solo de apariencia y luego se marchita por eso no resulto haber sembrado en tu vida si si quise cultivar un amor y me he quedado solo creo que sembre tierra mala o no supe sembrar pero creo que sembre bien dios me lo enseño todo entonces eres tierra mala porque no nacio en ti el amor que yo soñe nunca florecio en ti el amor que yo soñe nunca florecio en ti el amor y muy solo me quede un osito dormilon amigo estoy dolido muriendome por dentro porque mi novia ayer me abandono amigo que le hiciste dime si le has faltado o acaso fuiste injusto con su amor amigo te equivocas es todo lo contrario fui cariñoso y me porte muy bien yo que bien te conozco se que eres detallista si le obsequiaste algo dimelo un osito dormilon le regale y un besito al despedirse ella me dio ese fue el dia en que yo mas me enamore pero ahora mi alegria se acabo si me llego a morir no la culpen a ella culpen a mi corazon que se enamoro sin conocerla si me llego a morir no la culpen a ella culpen a mi corazon que se enamoro sin conocerla por eso un enamorado no debe demostrarle todo a una mujer y mas si esta ilusionado y no se siente seguro de ganar o perder si me llego a morir no la culpen a ella culpen a mi corazon que se enamoro sin conocerla estoy desesperado en busca de un consejo dime que camino debo seguir si intentas olvidarla se te va a hacer dificil sintiendote tan triste lloraras un osito dormilon le regale y un besito al despedirse ella me dio ese fue el dia en que yo mas me enamore pero ahora mi alegria se acabo si me llego a morir no la culpen a ella culpen a mi corazon que se enamoro sin conocerla si me llego a morir no la culpen a ella culpen a mi corazon que se enamoro sin conocerla las locuras mias tengo las manos suda estoy nervioso ja ja por dios que no quisiera sentir esta ilusion tal vez podria cometer un grave error porque tu eres prohibida para mi pero yo no pude controlar al corazon y apenas que te vio de ti se enamoro y a cada instante me pregunta por ti acepta por favor salir conmigo asi sea solamente para hablarte como amigo y puedas conocer un poco mas de las razones que me hacen dedicarte este monton de canciones quien quita que haya en ti una llamita de querer vivir una experiencia distinta que tal si te despierto esas maripositas por favor aceptame una cena clandestina que tal si te enamoras de las locuras que tal que te haga falta una noche divertida que tal que sea yo el portador de tu alegria que tal que estamos juntos por el resto de la vida que tal si estas viviendo en la monotonia que tal que yo te pinte los labios de sonrisa que tal que tu te atrevas a besar la boca mia y no te provoquen otros labios en la vida no me dejes caer de las alturas a donde me lleve esa carita tierna tuya dejame vivir enredado por favor vamos a intentarlo ay que tal si te enamoras de las locuras mias que tal que te haga falta una noche divertida que tal que sea yo el portador de tu alegria que tal que estemos juntos por el resto de la vida esto se lo dedico con mucho cariño para para ja ja ja ja ja ja ay ella sabe quien es ven mi amor que tal que un dia grites con orgullo que lo mejor que te ha pasado ha sido conocerme que nunca imaginaste sentir algo tan puro cada vez que con ternura esa boquita te bese no creas que dejare de enamorarte tengo fe que de otra forma un dia tu vas a mirarme y te pido por lo que tu mas quieras en la vida que por favor me aceptes una cena clandestina ay que tal si te enamoras de las locuras mias que tal que te haga falta una noche divertida que tal que sea yo el portador de tu alegria que tal que estemos juntos por el resto de la vida que tal si estas viviendo en la monotonia que tal que yo te pinte los labios de sonrisas que tal que tu te atrevas a besar la boca mia y no te provoquen otros labios en la vida tu me gustas mujer ay disculpas yo se que no me conoces pero vengo a presentarme y al frente de tu casa y de tus padres voy a gritar que me encantas disculpame por esta serenata pero no pude aguantarme regalame un poquito de tu tiempo que no voy a demorarme tranquila yo no voy a molestarte si me pides que me vaya pero si no me pides que me marche voy a cantar hasta que salga el sol hasta que quieras tu que te cante mi amor voy a cantarte con el alma porque porque me gustas tu tu me gustas mujer voy a cantar en tu ventana para hacer que tu salgas de ahi y me digas que si que te le mides a salir conmigo que te atreves a conocerme un poco a conocer un poco de este loco que a cantarte en la madrugada vino que te le mides a salir conmigo que te atreves a conocerme un poco a conocer un poco de este loco que a cantarte en la madrugada vino ay no se lo que va a pasar que vas a pensar y que vas a hacer conmigo mujer pero no me voy de aqui no me voy sin que me digas que que te le mides a salir conmigo que te atreves a conocerme un poco a conocer un poco de este loco que a cantarte en la madrugada vino ay no se que vas a hacer con este loco pero yo quiero contigo quedarme en tu memoria de tal forma que no puedas olvidarte de mi nunca nunca porque no podras olvidar que de la nada te he venido a cantar sin saber lo que tu de mi puedas pensar no se que piensas pero yo pienso que si tu sales de alli te lo puedo explicar si te le mides a salir conmigo si te atreves a conocerme un poco a conocer un poco de este loco que a cantarte en la madrugada vino si te le mides a salir conmigo si te atreves a conocerme un poco a conocer un poco de este loco que a cantarte en la madrugada vino ay no se lo que va a pasar que vas a pensar y que vas a hacer conmigo mujer pero no me voy de aqui no me voy sin que me digas que que te le mides a salir conmigo que te atreves a conocerme un poco a conocer un poco de este loco que a cantarte en la madrugada vino sigo siendo el papa aqui se llego la hora todo tiene su momento siga rodando la bola que yo digo lo que pienso que en toda mi trayectoria he sido un hombre correcto para la gente habladora yo quiero que sepan esto y yo sigo siendo el papa yo sigo siendo el papa pueden brincar y saltar yo sigo siendo el papa hablaron de jesucristo que no lo hagan con dangond pero yo canto bonito pa sostener mi folclor y yo sigo siendo el papa yo sigo siendo el papa pueden brincar y saltar yo sigo siendo el papa se que muchos se preocupan pero soy el papaupa yo sigo siendo el papa yo sigo siendo el papa pueden brincar y saltar que sigo siendo el papa pa que te duela el papa de luis jose de silvestre jose y de jose silvestre zaz canta papa canta canta canta gracia hijo la la la la la a bailar mujeres priellas tu tambien eres el papa prepara las gafas ayy mi silvestrismo del alma volvi volvi ayy en todita mi carrera nunca he dejado he sonar y mi publico me espera a donde vaya a cantar y con mis presentaciones yo lo puedo demostrar lo sabe colombia entera que yo soy es el papa yo sigo siendo el papa ay yo sigo siendo el papa pueden brincar y saltar que sigo siendo el papa hablaron de jesucristo ahora que no hablen de mi pero yo canto bonito a un silvestrismo feliz yo sigo siendo el papa yo sigo siendo el papa puden brincar y saltar que sigo siendo el papa papapa papapa papapa papapapa papapa papapa papapa papapapa ay yo sigo siendo el papa yo sigo siendo el papa pueden brincar y saltar que sigo siendo el papa es que se ven chiquitos desde marte que si que dangond chiquititos pa que me invitan si saben como me pongo que lo suene el nene que lo suene dani como dice merki sigo siendo el papa ganas locas dime que voy hacer contigo que ya quiero tener conmigo tus besos me muero por probar tu boca ven quitame estas ganas locas que tengo de besar tu cuerpo y ser mio todo y yo ser tu dueña tengo unas ganas locas de tenerte cerca siempre a toda hora y en cada momento tengo unas ganas locas de besarte de tenerte de que seas para mi y yo sea para ti de besarte y de pasarme todo el tiempo junto a ti ya quiero que estes aqui de besar tu cuerpo y ser mio todo y yo ser tu nena tengo unas ganas locas de tenerte cerca siempre a toda hora y en cada momento tengo unas ganas locas ganas locas ganas locas uy ganas locas pero que viva el amor que viva el pechiche dime que voy hacer contigo que ya quiero tener conmigo tus besos me muero por besar tu boca ay ven quitame estas ganas locas que tengo de besar tu cuerpo y ser mio todo y yo ser tu dueña tengo unas ganas locas de tenerte cerca siempre a toda hora y en cada momento tengo unas ganas locas de besarte de tenerte de que seas para mi y yo sea para ti de besarte y de pasarme todo el tiempo junto a ti ya quiero que estes aqui de besar tu cuerpo y ser mio todo y yo ser tu nena tengo unas ganas locas de tenerte cerca siempre a toda hora y en cada momento tengo unas ganas locas ganas locas ganas locas ay ganas locas de besarte de tenerte besar tu cuerpo de pasarmela contigo contigo mi amor ay que ganas estas las que tengo yo si supiera ay para que sigues tramando para que sigues tramando pobrecito ese man si supiera las locuras que tu haces conmigo metemono con foto en la iglesia y encerrada tu estabas conmigo cualquier plan familiar tu te inventas como el fin de semana en miami pa escaparnos a la feria e las flores pa otra fuga a la feria de cali ay ay ay si supiera todo lo que haces conmigo fijo se forma una guerra pero ya goce contigo ay ay ay si supiera ay ve todo lo que haces conmigo el angelito que el piensa no es ningun angel le digo si supiera del paseo en cholon sincelejo monteria rumbeamos cuando esta ocupado ese doctor este nene esta desocupado ay ay ay ay si supiera todo lo que haces con papi ay ay ay si supiera ay ve todo lo que haces conmigo el angelito que el piensa no es ningun angel le digo si supiera del paseo en cholon sincelejo monteria rumbeamos cuando esta ocupado ese doctor este nene esta desocupado ay ay ay ay si supiera todo lo que haces conmigo el angelito que el piensa de angel no tiene na ay ay ay si supiera todo lo que haces conmigo fijo se forma una guerra pero ya goce contigo ay ay ay si supiera todo lo que haces conmigo fijo se forma una guerra pero ya goce contigo si yo supiera ay aqui estoy vivo naci un 12 de mayo de 1980 he disfrutado la vida y el dia que me toque partir me voy feliz muy feliz si yo supiera que me voy a morir mañana busco a la novia que tanto quise junto a mis padres y les doy un beso voy a urumita y armo un bochinche y al que le debo lo dejo en cero antes de mi partida yo le digo a mis hijos que se amen mucho que se adoren que se quieran que valoren la familia reuno a mis amigos que han estado conmigo siempre apoyandome en las buenas y en las malas a o largo de esta vida me levante temprano me tome una cerveza estaba analizando porque la vida es esa y a la mujer que yo he querido en esta tierra le pido perdon le digo cuanto me volvi loco por ella y muero tranquilo si yo supiera que me voy a morir mañana junto a mi amor y a mis tres pechichis busco a mis padres y les doy un beso voy a urumita y armo un bochinche y mis pecados los dejo en cero ay si a mi me toca irme quiero dejar bien claro no quiero estatuas monumento ni homenajes les cambio llanto por canciones canten mi propia historia ay que narra mi grandeza mi amor nobleza y todas las dificultades mis penas y mis glorias yo no me quiero ir solo me llevo a lucho alonso a vasallas coquito al cani y carlo blunt a las mujeres que sufrieron por mi culpa les pido perdon y al tio san pedro por favor cambie la fecha yo quiero criar mis hijos si yo supiera que me voy a morir mañana busco a mi amor y a mis tres pechichis junto a mis padres y les doy un beso voy a urumita y armo un bochinche y mis pecados los dejo en cero\n"
          ]
        }
      ]
    },
    {
      "cell_type": "markdown",
      "metadata": {
        "id": "cQRWPSG0a4UL"
      },
      "source": [
        "##P1. entendiendo el texto"
      ]
    },
    {
      "cell_type": "code",
      "metadata": {
        "colab": {
          "base_uri": "https://localhost:8080/"
        },
        "id": "hiiSDG9Xa5MS",
        "outputId": "b43d453d-0d26-4453-e70e-b18bc8a2ea18"
      },
      "source": [
        "print('el texto tiene longitud de:{} caracteres'. format(len(texto)))\n",
        "vocab = sorted(set(texto))\n",
        "print('el texto esta compuesto de estos :{} caracteres'. format(len(vocab)))\n",
        "print(vocab)"
      ],
      "execution_count": 9,
      "outputs": [
        {
          "output_type": "stream",
          "name": "stdout",
          "text": [
            "el texto tiene longitud de:171059 caracteres\n",
            "el texto esta compuesto de estos :35 caracteres\n",
            "[' ', '0', '1', '2', '4', '6', '8', '9', 'a', 'b', 'c', 'd', 'e', 'f', 'g', 'h', 'i', 'j', 'k', 'l', 'm', 'n', 'o', 'p', 'q', 'r', 's', 't', 'u', 'v', 'w', 'x', 'y', 'z', 'ñ']\n"
          ]
        }
      ]
    },
    {
      "cell_type": "markdown",
      "metadata": {
        "id": "_KyjDg_tn-pn"
      },
      "source": [
        "##P2. pasar el texto a números\n",
        "\n",
        "---\n",
        "as redes neuronales solo procesan valores numéricos, no letras, por tanto tenemos que traducir los caracteres a representación numérica. Para ello crearemos dos “tablas de traducción”: una de caracteres a números y otra de números a caracteres"
      ]
    },
    {
      "cell_type": "code",
      "metadata": {
        "colab": {
          "base_uri": "https://localhost:8080/"
        },
        "id": "KmndSVERn_b-",
        "outputId": "a0333fbb-df6c-45d2-d97b-8043c9cd4f62"
      },
      "source": [
        "char2idx = {u:i for i, u in enumerate(vocab)} # asignamos un número a cada vocablo\n",
        "idx2char = np.array(vocab)\n",
        "#-----------revisando las conversiones\n",
        "\n",
        "#for char,_ in zip(char2idx, range(len(vocab))):\n",
        "    #print(' {:4s}: {:3d},'.format(repr(char),char2idx[char]))\n",
        "\n",
        "#pasamos todo el texto a números\n",
        "texto_como_entero= np.array([char2idx[c] for c in texto])\n",
        "print('texto: {}'.format(repr(texto[:100])))\n",
        "print('{}'.format(repr(texto_como_entero[:100])))"
      ],
      "execution_count": 10,
      "outputs": [
        {
          "output_type": "stream",
          "name": "stdout",
          "text": [
            "texto: 'no podras ahora cuentame tu que haces por aqui no digas que ese otro no te hizo feliz porque en mi t'\n",
            "array([21, 22,  0, 23, 22, 11, 25,  8, 26,  0,  8, 15, 22, 25,  8,  0, 10,\n",
            "       28, 12, 21, 27,  8, 20, 12,  0, 27, 28,  0, 24, 28, 12,  0, 15,  8,\n",
            "       10, 12, 26,  0, 23, 22, 25,  0,  8, 24, 28, 16,  0, 21, 22,  0, 11,\n",
            "       16, 14,  8, 26,  0, 24, 28, 12,  0, 12, 26, 12,  0, 22, 27, 25, 22,\n",
            "        0, 21, 22,  0, 27, 12,  0, 15, 16, 33, 22,  0, 13, 12, 19, 16, 33,\n",
            "        0, 23, 22, 25, 24, 28, 12,  0, 12, 21,  0, 20, 16,  0, 27])\n"
          ]
        }
      ]
    },
    {
      "cell_type": "markdown",
      "metadata": {
        "id": "oyBnHgj-p9S4"
      },
      "source": [
        "###P2.1 exportar vocablos y matriz de numerica\n",
        "\n",
        "---\n",
        "\n",
        "exporta en un CSV para usarlo cuando se cargue el modelo en otra instancia"
      ]
    },
    {
      "cell_type": "code",
      "metadata": {
        "id": "rm7O1YBcp4PE"
      },
      "source": [
        "rows=[]\n",
        "columns=['num','vocab']\n",
        "for i, voc in enumerate(vocab):\n",
        "  #print(i,'-->', voc)\n",
        "  rows.append([i,voc])\n",
        "df= pd.DataFrame(columns=['num','vocab'],data=rows)\n",
        "df.head(10)\n",
        "df.to_csv('data_vocab.csv',index=False)"
      ],
      "execution_count": 11,
      "outputs": []
    },
    {
      "cell_type": "markdown",
      "metadata": {
        "id": "pA7YxD7EqIYi"
      },
      "source": [
        "##P3. preparar los datos para ser usados en la RNN"
      ]
    },
    {
      "cell_type": "code",
      "metadata": {
        "colab": {
          "base_uri": "https://localhost:8080/"
        },
        "id": "OykqFyvnqIAa",
        "outputId": "ec7ad2c5-3a32-434b-a529-b35adbf15d42"
      },
      "source": [
        "char_dataset= tf.data.Dataset.from_tensor_slices(texto_como_entero)\n",
        "#cantidad de secuencia de caracteres\n",
        "secu_length=100\n",
        "#creamos secuencias de maximo 100 caractereres\n",
        "secuencias= char_dataset.batch(secu_length+1, drop_remainder=True)\n",
        "for item in secuencias.take(10):\n",
        "  print(repr(''.join(idx2char[item.numpy()])))"
      ],
      "execution_count": 12,
      "outputs": [
        {
          "output_type": "stream",
          "name": "stdout",
          "text": [
            "'no podras ahora cuentame tu que haces por aqui no digas que ese otro no te hizo feliz porque en mi ti'\n",
            "'empo solo de ti me olvide y ahora estoy junto a ella y me enamore mis amigos me dicen preguntas por m'\n",
            "'i ayer tu me tenias y hoy quieres volver no pierdas mas tu tiempo este amor se murio no seas tan ilus'\n",
            "'a que hoy me marcho yo no vengas a decirme que me amas mujer no te creo una palabra lo sabes muy bien'\n",
            "' flores versos y cartas mucho te obsequie y aun asi para ti suficiente no fue y ahora muy claramente '\n",
            "'te voy a decir cuando quieras besarme pues ya no podras estare en otra parte siendo muy feliz te estr'\n",
            "'ellaras de frente pues no te amo mas alguien me brindara lo que tanto pedi y a ti te ignorare sin mir'\n",
            "'ar hacia atras como me vas a amar si ni te amas a ti no me vas a engañar tiempo te dedique y descarta'\n",
            "' que a ti algun dia volvere hoy te digo que el tonto por fin se canso abro los ojos y miro con clarid'\n",
            "'ad tus desplantes un dia se iban a acabar y hoy te digo que el fin acaba de empezar me ire con quien '\n"
          ]
        }
      ]
    },
    {
      "cell_type": "markdown",
      "metadata": {
        "id": "hG6lfoioqQgB"
      },
      "source": [
        "###P3.1 separar los datos en agrupamientos (batches)"
      ]
    },
    {
      "cell_type": "code",
      "metadata": {
        "colab": {
          "base_uri": "https://localhost:8080/"
        },
        "id": "8CaQ_J3wqRpP",
        "outputId": "be592160-906a-4af7-d856-fb1871666a61"
      },
      "source": [
        "#funcion para obtener el conjunto de datos de trainning\n",
        "def split_input_target(chunk):\n",
        "  input_text = chunk[:-1]\n",
        "  target_text= chunk[1:]\n",
        "  return input_text, target_text\n",
        "\n",
        "dataset  = secuencias.map(split_input_target)\n",
        "#el dataset contiene un conjunto de parejas de secuencia de texto\n",
        "#(con la representación numérica de los caracteres), donde el \n",
        "#primer componente de la pareja contiene un paquete con una secuencia \n",
        "#de 100 caracteres del texto original y la segunda su correspondiente salida, \n",
        "#también de 100 caracteres. )\n",
        "for input_example, target_example in dataset.take(1):\n",
        "  print('input data: ', repr(''.join(idx2char[input_example.numpy()])))\n",
        "  print('Target data: ', repr(''.join(idx2char[target_example.numpy()])))"
      ],
      "execution_count": 13,
      "outputs": [
        {
          "output_type": "stream",
          "name": "stdout",
          "text": [
            "input data:  'no podras ahora cuentame tu que haces por aqui no digas que ese otro no te hizo feliz porque en mi t'\n",
            "Target data:  'o podras ahora cuentame tu que haces por aqui no digas que ese otro no te hizo feliz porque en mi ti'\n"
          ]
        }
      ]
    },
    {
      "cell_type": "code",
      "metadata": {
        "colab": {
          "base_uri": "https://localhost:8080/"
        },
        "id": "XpbLjvwXqZBM",
        "outputId": "2275f45a-fbec-4a22-88d6-aa5f446fd7ab"
      },
      "source": [
        "#imprimimos el tensor del dataset\n",
        "print(dataset)\n",
        "#Hyper-Parametros para entrenamiento  de una rede neuronal \n",
        "#   -los datos se agrupan en batch\n",
        "BATCH_SIZE= 32\n",
        "#    -Tamaño de memoria disponible \n",
        "BUFFER_SIZE=10000\n",
        "dataset= dataset.shuffle(BUFFER_SIZE).batch(BATCH_SIZE, drop_remainder=True)\n",
        "print (dataset)\n",
        "#En el tensor dataset disponemos los datos de entrenamiento\n",
        "#con agrupamienttos (batches) compuestos de 64 parejas de secuencias \n",
        "#de 100 integers de 64 bits que representan el carácter correspondiente \n",
        "#en el vocabulario."
      ],
      "execution_count": 14,
      "outputs": [
        {
          "output_type": "stream",
          "name": "stdout",
          "text": [
            "<MapDataset shapes: ((100,), (100,)), types: (tf.int64, tf.int64)>\n",
            "<BatchDataset shapes: ((32, 100), (32, 100)), types: (tf.int64, tf.int64)>\n"
          ]
        }
      ]
    },
    {
      "cell_type": "markdown",
      "metadata": {
        "id": "yVC-CsXNqcWH"
      },
      "source": [
        "##P4.Construcción del modelo RNN\n",
        "\n",
        "---\n",
        "Para construir el modelo usaremos tf.keras.Sequential. Usaremos una versión mínima de RNN, que contenga solo una capa LSTM y 3 capas.\n"
      ]
    },
    {
      "cell_type": "code",
      "metadata": {
        "colab": {
          "base_uri": "https://localhost:8080/",
          "height": 380
        },
        "id": "6s9Xjg77qdF1",
        "outputId": "acb43746-fe5d-4ccb-fd57-13df65faa52d"
      },
      "source": [
        "#como es un problema de clasificación estándar \n",
        "#para el que debemos definir la función de Lossy el optimizador.\n",
        "def lossy(labels, logits):\n",
        "  return tf.keras.losses.sparse_categorical_crossentropy(labels, logits, from_logits=True)\n",
        "\n",
        "def create_model(vocab_size, embedding_dim, rnn_units, batch_size):\n",
        "  #creando el modelo\n",
        "  model = tf.keras.Sequential([\n",
        "    tf.keras.layers.Embedding(vocab_size, embedding_dim,\n",
        "                              batch_input_shape=[batch_size, None]),\n",
        "    tf.keras.layers.LSTM(rnn_units,\n",
        "                         return_sequences=True,\n",
        "                         stateful=True,\n",
        "                         recurrent_initializer='glorot_uniform'),\n",
        "    tf.keras.layers.Dense(vocab_size)                               \n",
        "  ])\n",
        "  #En cuanto al optimizador usaremos tf.keras.optimizers.Adam \n",
        "  #con los argumentos por defecto del optimizador Adam. \n",
        "  model.compile(optimizer='adam',\n",
        "              loss=tf.keras.losses.sparse_categorical_crossentropy(),\n",
        "              metrics=['accuracy'])\n",
        "  return model\n",
        "vocab_size= len(vocab)\n",
        "#dimensiones de los vectores que tendrá la capa.\n",
        "embedding_dim= 256\n",
        "#cantidad de neuronas\n",
        "rnn_units=1024\n",
        "#creamos nuestra red neuronal RNN\n",
        "model=create_model(vocab_size   =vocab_size,\n",
        "                  embedding_dim =embedding_dim,\n",
        "                  rnn_units     =rnn_units,\n",
        "                  batch_size    =BATCH_SIZE)\n",
        "#summary()para visualizar la estructura del modelo\n",
        "model.summary()\n",
        "#resultados=  -La capa LSTM consta más de 5 millones de parametros)"
      ],
      "execution_count": 24,
      "outputs": [
        {
          "output_type": "error",
          "ename": "TypeError",
          "evalue": "ignored",
          "traceback": [
            "\u001b[0;31m---------------------------------------------------------------------------\u001b[0m",
            "\u001b[0;31mTypeError\u001b[0m                                 Traceback (most recent call last)",
            "\u001b[0;32m<ipython-input-24-df05b8e5ae79>\u001b[0m in \u001b[0;36m<module>\u001b[0;34m()\u001b[0m\n\u001b[1;32m     30\u001b[0m                   \u001b[0membedding_dim\u001b[0m \u001b[0;34m=\u001b[0m\u001b[0membedding_dim\u001b[0m\u001b[0;34m,\u001b[0m\u001b[0;34m\u001b[0m\u001b[0;34m\u001b[0m\u001b[0m\n\u001b[1;32m     31\u001b[0m                   \u001b[0mrnn_units\u001b[0m     \u001b[0;34m=\u001b[0m\u001b[0mrnn_units\u001b[0m\u001b[0;34m,\u001b[0m\u001b[0;34m\u001b[0m\u001b[0;34m\u001b[0m\u001b[0m\n\u001b[0;32m---> 32\u001b[0;31m                   batch_size    =BATCH_SIZE)\n\u001b[0m\u001b[1;32m     33\u001b[0m \u001b[0;31m#summary()para visualizar la estructura del modelo\u001b[0m\u001b[0;34m\u001b[0m\u001b[0;34m\u001b[0m\u001b[0;34m\u001b[0m\u001b[0m\n\u001b[1;32m     34\u001b[0m \u001b[0mmodel\u001b[0m\u001b[0;34m.\u001b[0m\u001b[0msummary\u001b[0m\u001b[0;34m(\u001b[0m\u001b[0;34m)\u001b[0m\u001b[0;34m\u001b[0m\u001b[0;34m\u001b[0m\u001b[0m\n",
            "\u001b[0;32m<ipython-input-24-df05b8e5ae79>\u001b[0m in \u001b[0;36mcreate_model\u001b[0;34m(vocab_size, embedding_dim, rnn_units, batch_size)\u001b[0m\n\u001b[1;32m     18\u001b[0m   \u001b[0;31m#con los argumentos por defecto del optimizador Adam.\u001b[0m\u001b[0;34m\u001b[0m\u001b[0;34m\u001b[0m\u001b[0;34m\u001b[0m\u001b[0m\n\u001b[1;32m     19\u001b[0m   model.compile(optimizer='adam',\n\u001b[0;32m---> 20\u001b[0;31m               \u001b[0mloss\u001b[0m\u001b[0;34m=\u001b[0m\u001b[0mtf\u001b[0m\u001b[0;34m.\u001b[0m\u001b[0mkeras\u001b[0m\u001b[0;34m.\u001b[0m\u001b[0mlosses\u001b[0m\u001b[0;34m.\u001b[0m\u001b[0msparse_categorical_crossentropy\u001b[0m\u001b[0;34m(\u001b[0m\u001b[0;34m)\u001b[0m\u001b[0;34m,\u001b[0m\u001b[0;34m\u001b[0m\u001b[0;34m\u001b[0m\u001b[0m\n\u001b[0m\u001b[1;32m     21\u001b[0m               metrics=['accuracy'])\n\u001b[1;32m     22\u001b[0m   \u001b[0;32mreturn\u001b[0m \u001b[0mmodel\u001b[0m\u001b[0;34m\u001b[0m\u001b[0;34m\u001b[0m\u001b[0m\n",
            "\u001b[0;32m/usr/local/lib/python3.7/dist-packages/tensorflow/python/util/traceback_utils.py\u001b[0m in \u001b[0;36merror_handler\u001b[0;34m(*args, **kwargs)\u001b[0m\n\u001b[1;32m    151\u001b[0m     \u001b[0;32mexcept\u001b[0m \u001b[0mException\u001b[0m \u001b[0;32mas\u001b[0m \u001b[0me\u001b[0m\u001b[0;34m:\u001b[0m\u001b[0;34m\u001b[0m\u001b[0;34m\u001b[0m\u001b[0m\n\u001b[1;32m    152\u001b[0m       \u001b[0mfiltered_tb\u001b[0m \u001b[0;34m=\u001b[0m \u001b[0m_process_traceback_frames\u001b[0m\u001b[0;34m(\u001b[0m\u001b[0me\u001b[0m\u001b[0;34m.\u001b[0m\u001b[0m__traceback__\u001b[0m\u001b[0;34m)\u001b[0m\u001b[0;34m\u001b[0m\u001b[0;34m\u001b[0m\u001b[0m\n\u001b[0;32m--> 153\u001b[0;31m       \u001b[0;32mraise\u001b[0m \u001b[0me\u001b[0m\u001b[0;34m.\u001b[0m\u001b[0mwith_traceback\u001b[0m\u001b[0;34m(\u001b[0m\u001b[0mfiltered_tb\u001b[0m\u001b[0;34m)\u001b[0m \u001b[0;32mfrom\u001b[0m \u001b[0;32mNone\u001b[0m\u001b[0;34m\u001b[0m\u001b[0;34m\u001b[0m\u001b[0m\n\u001b[0m\u001b[1;32m    154\u001b[0m     \u001b[0;32mfinally\u001b[0m\u001b[0;34m:\u001b[0m\u001b[0;34m\u001b[0m\u001b[0;34m\u001b[0m\u001b[0m\n\u001b[1;32m    155\u001b[0m       \u001b[0;32mdel\u001b[0m \u001b[0mfiltered_tb\u001b[0m\u001b[0;34m\u001b[0m\u001b[0;34m\u001b[0m\u001b[0m\n",
            "\u001b[0;32m/usr/local/lib/python3.7/dist-packages/tensorflow/python/util/dispatch.py\u001b[0m in \u001b[0;36mop_dispatch_handler\u001b[0;34m(*args, **kwargs)\u001b[0m\n\u001b[1;32m   1088\u001b[0m         \u001b[0;32mif\u001b[0m \u001b[0miterable_params\u001b[0m \u001b[0;32mis\u001b[0m \u001b[0;32mnot\u001b[0m \u001b[0;32mNone\u001b[0m\u001b[0;34m:\u001b[0m\u001b[0;34m\u001b[0m\u001b[0;34m\u001b[0m\u001b[0m\n\u001b[1;32m   1089\u001b[0m           \u001b[0margs\u001b[0m\u001b[0;34m,\u001b[0m \u001b[0mkwargs\u001b[0m \u001b[0;34m=\u001b[0m \u001b[0mreplace_iterable_params\u001b[0m\u001b[0;34m(\u001b[0m\u001b[0margs\u001b[0m\u001b[0;34m,\u001b[0m \u001b[0mkwargs\u001b[0m\u001b[0;34m,\u001b[0m \u001b[0miterable_params\u001b[0m\u001b[0;34m)\u001b[0m\u001b[0;34m\u001b[0m\u001b[0;34m\u001b[0m\u001b[0m\n\u001b[0;32m-> 1090\u001b[0;31m         \u001b[0mresult\u001b[0m \u001b[0;34m=\u001b[0m \u001b[0mapi_dispatcher\u001b[0m\u001b[0;34m.\u001b[0m\u001b[0mDispatch\u001b[0m\u001b[0;34m(\u001b[0m\u001b[0margs\u001b[0m\u001b[0;34m,\u001b[0m \u001b[0mkwargs\u001b[0m\u001b[0;34m)\u001b[0m\u001b[0;34m\u001b[0m\u001b[0;34m\u001b[0m\u001b[0m\n\u001b[0m\u001b[1;32m   1091\u001b[0m         \u001b[0;32mif\u001b[0m \u001b[0mresult\u001b[0m \u001b[0;32mis\u001b[0m \u001b[0;32mnot\u001b[0m \u001b[0mNotImplemented\u001b[0m\u001b[0;34m:\u001b[0m\u001b[0;34m\u001b[0m\u001b[0;34m\u001b[0m\u001b[0m\n\u001b[1;32m   1092\u001b[0m           \u001b[0;32mreturn\u001b[0m \u001b[0mresult\u001b[0m\u001b[0;34m\u001b[0m\u001b[0;34m\u001b[0m\u001b[0m\n",
            "\u001b[0;31mTypeError\u001b[0m: Missing required positional argument"
          ]
        }
      ]
    },
    {
      "cell_type": "markdown",
      "metadata": {
        "id": "LzwaJvePqizz"
      },
      "source": [
        "###P4.1 Creando chekpoints\n",
        "\n",
        "---\n",
        "una técnica de tolerancia de fallos para procesos cuyo tiempo de ejecución es muy largo. La idea es guardar una instantánea del estado del sistema periódicamente para recuperar desde ese punto la ejecución en caso de fallo del sistema.\n",
        "\n",
        "---\n",
        "los crearemos en google drive para mejorar la capacidad de reentrenamiento de la red\n"
      ]
    },
    {
      "cell_type": "code",
      "metadata": {
        "colab": {
          "base_uri": "https://localhost:8080/"
        },
        "id": "iEQT1Eh9qjgn",
        "outputId": "55ba50d6-095a-42c2-8242-d779f50a4df2"
      },
      "source": [
        "from google.colab import drive\n",
        "drive.mount('/content/gdrive')"
      ],
      "execution_count": 16,
      "outputs": [
        {
          "output_type": "stream",
          "name": "stdout",
          "text": [
            "Mounted at /content/gdrive\n"
          ]
        }
      ]
    },
    {
      "cell_type": "code",
      "metadata": {
        "id": "IskvnxFnqtGb"
      },
      "source": [
        "checkpoint_dir='/content/gdrive/MyDrive/Colab Notebooks/Proyecto final/checkpoints'\n",
        "checkpoint_prefix= os.path.join(checkpoint_dir,\"cp_{epoch:04d}.ckpt\")\n",
        "\n",
        "\n",
        "cp_callback=tf.keras.callbacks.ModelCheckpoint(filepath=checkpoint_prefix,\n",
        "                                               monitor='loss',\n",
        "                                               verbose=1,\n",
        "                                               save_weights_only=True,\n",
        "                                               save_best_only=True,\n",
        "                                               mode='auto')\n"
      ],
      "execution_count": 17,
      "outputs": []
    },
    {
      "cell_type": "markdown",
      "metadata": {
        "id": "zaVwnqKVrRjl"
      },
      "source": [
        "###P4.2 entrenando"
      ]
    },
    {
      "cell_type": "markdown",
      "metadata": {
        "id": "OgQSwfUzrT62"
      },
      "source": [
        "####P4.2a entrenando para usar chekpoints\n",
        "\n",
        "\n",
        "---\n",
        "\n",
        "*   https://keras.io/api/callbacks/model_checkpoint/\n",
        "*   https://towardsdatascience.com/checkpointing-deep-learning-models-in-keras-a652570b8de6"
      ]
    },
    {
      "cell_type": "code",
      "metadata": {
        "colab": {
          "base_uri": "https://localhost:8080/",
          "height": 727
        },
        "id": "J7XJ-JQjrRQq",
        "outputId": "b11039aa-3625-4e3c-ccb2-2703e99a9dbd"
      },
      "source": [
        "EPOCHS=500\n",
        "history=model.fit(dataset, \n",
        "                  epochs=EPOCHS, \n",
        "                  verbose=1,\n",
        "                  callbacks=[cp_callback])"
      ],
      "execution_count": 20,
      "outputs": [
        {
          "output_type": "stream",
          "name": "stdout",
          "text": [
            "Epoch 1/500\n"
          ]
        },
        {
          "output_type": "error",
          "ename": "ValueError",
          "evalue": "ignored",
          "traceback": [
            "\u001b[0;31m---------------------------------------------------------------------------\u001b[0m",
            "\u001b[0;31mValueError\u001b[0m                                Traceback (most recent call last)",
            "\u001b[0;32m<ipython-input-20-f1b62dfe330e>\u001b[0m in \u001b[0;36m<module>\u001b[0;34m()\u001b[0m\n\u001b[1;32m      3\u001b[0m                   \u001b[0mepochs\u001b[0m\u001b[0;34m=\u001b[0m\u001b[0mEPOCHS\u001b[0m\u001b[0;34m,\u001b[0m\u001b[0;34m\u001b[0m\u001b[0;34m\u001b[0m\u001b[0m\n\u001b[1;32m      4\u001b[0m                   \u001b[0mverbose\u001b[0m\u001b[0;34m=\u001b[0m\u001b[0;36m1\u001b[0m\u001b[0;34m,\u001b[0m\u001b[0;34m\u001b[0m\u001b[0;34m\u001b[0m\u001b[0m\n\u001b[0;32m----> 5\u001b[0;31m                   callbacks=[cp_callback])\n\u001b[0m",
            "\u001b[0;32m/usr/local/lib/python3.7/dist-packages/keras/utils/traceback_utils.py\u001b[0m in \u001b[0;36merror_handler\u001b[0;34m(*args, **kwargs)\u001b[0m\n\u001b[1;32m     65\u001b[0m     \u001b[0;32mexcept\u001b[0m \u001b[0mException\u001b[0m \u001b[0;32mas\u001b[0m \u001b[0me\u001b[0m\u001b[0;34m:\u001b[0m  \u001b[0;31m# pylint: disable=broad-except\u001b[0m\u001b[0;34m\u001b[0m\u001b[0;34m\u001b[0m\u001b[0m\n\u001b[1;32m     66\u001b[0m       \u001b[0mfiltered_tb\u001b[0m \u001b[0;34m=\u001b[0m \u001b[0m_process_traceback_frames\u001b[0m\u001b[0;34m(\u001b[0m\u001b[0me\u001b[0m\u001b[0;34m.\u001b[0m\u001b[0m__traceback__\u001b[0m\u001b[0;34m)\u001b[0m\u001b[0;34m\u001b[0m\u001b[0;34m\u001b[0m\u001b[0m\n\u001b[0;32m---> 67\u001b[0;31m       \u001b[0;32mraise\u001b[0m \u001b[0me\u001b[0m\u001b[0;34m.\u001b[0m\u001b[0mwith_traceback\u001b[0m\u001b[0;34m(\u001b[0m\u001b[0mfiltered_tb\u001b[0m\u001b[0;34m)\u001b[0m \u001b[0;32mfrom\u001b[0m \u001b[0;32mNone\u001b[0m\u001b[0;34m\u001b[0m\u001b[0;34m\u001b[0m\u001b[0m\n\u001b[0m\u001b[1;32m     68\u001b[0m     \u001b[0;32mfinally\u001b[0m\u001b[0;34m:\u001b[0m\u001b[0;34m\u001b[0m\u001b[0;34m\u001b[0m\u001b[0m\n\u001b[1;32m     69\u001b[0m       \u001b[0;32mdel\u001b[0m \u001b[0mfiltered_tb\u001b[0m\u001b[0;34m\u001b[0m\u001b[0;34m\u001b[0m\u001b[0m\n",
            "\u001b[0;32m/usr/local/lib/python3.7/dist-packages/tensorflow/python/framework/func_graph.py\u001b[0m in \u001b[0;36mautograph_handler\u001b[0;34m(*args, **kwargs)\u001b[0m\n\u001b[1;32m   1127\u001b[0m           \u001b[0;32mexcept\u001b[0m \u001b[0mException\u001b[0m \u001b[0;32mas\u001b[0m \u001b[0me\u001b[0m\u001b[0;34m:\u001b[0m  \u001b[0;31m# pylint:disable=broad-except\u001b[0m\u001b[0;34m\u001b[0m\u001b[0;34m\u001b[0m\u001b[0m\n\u001b[1;32m   1128\u001b[0m             \u001b[0;32mif\u001b[0m \u001b[0mhasattr\u001b[0m\u001b[0;34m(\u001b[0m\u001b[0me\u001b[0m\u001b[0;34m,\u001b[0m \u001b[0;34m\"ag_error_metadata\"\u001b[0m\u001b[0;34m)\u001b[0m\u001b[0;34m:\u001b[0m\u001b[0;34m\u001b[0m\u001b[0;34m\u001b[0m\u001b[0m\n\u001b[0;32m-> 1129\u001b[0;31m               \u001b[0;32mraise\u001b[0m \u001b[0me\u001b[0m\u001b[0;34m.\u001b[0m\u001b[0mag_error_metadata\u001b[0m\u001b[0;34m.\u001b[0m\u001b[0mto_exception\u001b[0m\u001b[0;34m(\u001b[0m\u001b[0me\u001b[0m\u001b[0;34m)\u001b[0m\u001b[0;34m\u001b[0m\u001b[0;34m\u001b[0m\u001b[0m\n\u001b[0m\u001b[1;32m   1130\u001b[0m             \u001b[0;32melse\u001b[0m\u001b[0;34m:\u001b[0m\u001b[0;34m\u001b[0m\u001b[0;34m\u001b[0m\u001b[0m\n\u001b[1;32m   1131\u001b[0m               \u001b[0;32mraise\u001b[0m\u001b[0;34m\u001b[0m\u001b[0;34m\u001b[0m\u001b[0m\n",
            "\u001b[0;31mValueError\u001b[0m: in user code:\n\n    File \"/usr/local/lib/python3.7/dist-packages/keras/engine/training.py\", line 878, in train_function  *\n        return step_function(self, iterator)\n    File \"/usr/local/lib/python3.7/dist-packages/keras/engine/training.py\", line 867, in step_function  **\n        outputs = model.distribute_strategy.run(run_step, args=(data,))\n    File \"/usr/local/lib/python3.7/dist-packages/keras/engine/training.py\", line 860, in run_step  **\n        outputs = model.train_step(data)\n    File \"/usr/local/lib/python3.7/dist-packages/keras/engine/training.py\", line 810, in train_step\n        y, y_pred, sample_weight, regularization_losses=self.losses)\n    File \"/usr/local/lib/python3.7/dist-packages/keras/engine/compile_utils.py\", line 201, in __call__\n        loss_value = loss_obj(y_t, y_p, sample_weight=sw)\n    File \"/usr/local/lib/python3.7/dist-packages/keras/losses.py\", line 141, in __call__\n        losses = call_fn(y_true, y_pred)\n    File \"/usr/local/lib/python3.7/dist-packages/keras/losses.py\", line 245, in call  **\n        return ag_fn(y_true, y_pred, **self._fn_kwargs)\n    File \"/usr/local/lib/python3.7/dist-packages/keras/losses.py\", line 1807, in binary_crossentropy\n        backend.binary_crossentropy(y_true, y_pred, from_logits=from_logits),\n    File \"/usr/local/lib/python3.7/dist-packages/keras/backend.py\", line 5158, in binary_crossentropy\n        return tf.nn.sigmoid_cross_entropy_with_logits(labels=target, logits=output)\n\n    ValueError: `logits` and `labels` must have the same shape, received ((32, 100, 35) vs (32, 100)).\n"
          ]
        }
      ]
    },
    {
      "cell_type": "markdown",
      "metadata": {
        "id": "A3fsCZLj5GGq"
      },
      "source": [
        "##P5. Generando texto nuevo usando la RNN"
      ]
    },
    {
      "cell_type": "code",
      "metadata": {
        "id": "_6Ss2kVh5HhZ"
      },
      "source": [
        "#creamos un modelo tomando como base el ultimo checkpoint\n",
        "model = create_model(vocab_size, embedding_dim, rnn_units, batch_size=1)\n",
        "model.load_weights(tf.train.latest_checkpoint(checkpoint_dir))\n",
        "model.build(tf.TensorShape([1,None]))"
      ],
      "execution_count": null,
      "outputs": []
    },
    {
      "cell_type": "code",
      "metadata": {
        "id": "rCSPl8st5JV4"
      },
      "source": [
        "#funcion para generar texto\n",
        "def generate_text(model, start_string):\n",
        "  #definimos cuantos tensores/cantidad de texto generaremos\n",
        "  num_generate=500\n",
        "  #convertimos el texto en números\n",
        "  input_eval=[char2idx[s] for s in start_string]\n",
        "  input_eval= tf.expand_dims (input_eval,0)\n",
        "  text_generated = []\n",
        "\n",
        "  temperature = 0.5  #(0.0 a  1) entre más alta la temperatura más creatividad al modelo, pero tambien más errores ortograficos.\n",
        "  model.reset_states() #bucle para generar caracteres, mediante predicciones\n",
        "  for i in range(num_generate):\n",
        "    predictions = model(input_eval)\n",
        "    predictions = tf.squeeze(predictions, 0)\n",
        "    predictions = predictions / temperature\n",
        "    predicted_id = tf.random.categorical(predictions, num_samples=1)[-1,0].numpy()\n",
        "    input_eval= tf.expand_dims([predicted_id],0)\n",
        "    text_generated.append (idx2char[predicted_id])\n",
        "  \n",
        "  return (start_string+ ''.join(text_generated))\n"
      ],
      "execution_count": null,
      "outputs": []
    },
    {
      "cell_type": "markdown",
      "metadata": {
        "id": "0Dm2W5sg5MLn"
      },
      "source": [
        "###P5.1 generando texto "
      ]
    },
    {
      "cell_type": "code",
      "metadata": {
        "id": "VeYTGJ1P5OGl",
        "colab": {
          "base_uri": "https://localhost:8080/"
        },
        "outputId": "f9dad21c-bcc1-4392-9442-240e94f9208a"
      },
      "source": [
        "print(generate_text(model, start_string=u\"amor\"))"
      ],
      "execution_count": null,
      "outputs": [
        {
          "output_type": "stream",
          "name": "stdout",
          "text": [
            "amores nuevos se da golpe de pecho pero es pa apantalla porque cuando esta en temple se pone es a llamar pregunta en las esquinas me busca como loca no puedes volar conmigo aunque mis sueños se iran contigo todo de cabeza esta es mi cancion de despedida sera lo mejor para los dos pues no soy el dueño de tu vida y lo mas grave no se porque no lo entiende el corazon dime como hago para explicarle a mi alma envuelta entre la fe que aunque sea dificil olvidarte debo intentarlo por que creo que nunca te \n"
          ]
        }
      ]
    },
    {
      "cell_type": "markdown",
      "metadata": {
        "id": "hoo8Wp125Qa9"
      },
      "source": [
        "##P6.exportando modelo\n",
        "\n",
        "---\n",
        "Guardamos y Serializamos el Modelo (con esto ya podemos vender nuestro modelo de predicción de texto según lo aprendido por nuestra RNN).\n"
      ]
    },
    {
      "cell_type": "code",
      "metadata": {
        "id": "BOSb3n9n5Snv",
        "colab": {
          "base_uri": "https://localhost:8080/"
        },
        "outputId": "81841eb4-048f-4e94-b25b-dad084957f22"
      },
      "source": [
        "from keras.models import model_from_json\n",
        "import os\n",
        "dir_export= '/content/gdrive/MyDrive/Colab Notebooks/Proyecto final/Modelo/'\n",
        "#dir_export= os.path.join(dir_drive)\n",
        "# Serializamos el modelo en forma JSON\n",
        "model_json = model.to_json()\n",
        "with open(os.path.join(dir_export,'RNN_Solo_Letras_PLN_Vallenato.json'), 'w') as json_file:\n",
        "    json_file.write(model_json)\n",
        "# serialize weights to HDF5\n",
        "model.save_weights(os.path.join(dir_export,'RNN_Solo_Letras_PLN_Vallenato.hdf5'))\n",
        "model.save(os.path.join(dir_export,'RNN_Solo_Letras_PLN_Vallenato.h5'))\n",
        "print(\"modelo salvado en Drive de google\")"
      ],
      "execution_count": null,
      "outputs": [
        {
          "output_type": "stream",
          "name": "stdout",
          "text": [
            "modelo salvado en Drive de google\n"
          ]
        }
      ]
    },
    {
      "cell_type": "markdown",
      "metadata": {
        "id": "kZLmGNpUJvAj"
      },
      "source": [
        "##P7.Cargando un modelo serializado"
      ]
    },
    {
      "cell_type": "code",
      "metadata": {
        "id": "mUUwbWQqJyCK",
        "colab": {
          "base_uri": "https://localhost:8080/"
        },
        "outputId": "1301e272-4aa2-4b8f-9b34-867e76f60ceb"
      },
      "source": [
        "!wget https://github.com/Moisesdv10/Deep-Learning/blob/main/Modelos_PLN_Vallenato/RNN_Solo_Letras_PLN_Vallenato.h5\\\n",
        "      -O modelRNN_vallenato.h5"
      ],
      "execution_count": null,
      "outputs": [
        {
          "output_type": "stream",
          "name": "stdout",
          "text": [
            "--2021-11-27 17:33:38--  https://github.com/Moisesdv10/Deep-Learning/blob/main/Modelos_PLN_Vallenato/RNN_Solo_Letras_PLN_Vallenato.h5\n",
            "Resolving github.com (github.com)... 140.82.112.4\n",
            "Connecting to github.com (github.com)|140.82.112.4|:443... connected.\n",
            "HTTP request sent, awaiting response... 200 OK\n",
            "Length: unspecified [text/html]\n",
            "Saving to: ‘modelRNN_vallenato.h5’\n",
            "\n",
            "modelRNN_vallenato.     [ <=>                ] 164.01K  --.-KB/s    in 0.07s   \n",
            "\n",
            "2021-11-27 17:33:38 (2.30 MB/s) - ‘modelRNN_vallenato.h5’ saved [167948]\n",
            "\n"
          ]
        }
      ]
    },
    {
      "cell_type": "markdown",
      "metadata": {
        "id": "Qo1l-S_Ntvnh"
      },
      "source": [
        "####P7.1a descargamos el modelo usando PYRIND & URLLIB (OPCIONAL)"
      ]
    },
    {
      "cell_type": "code",
      "metadata": {
        "id": "3HgFcOFeJ3R5",
        "colab": {
          "base_uri": "https://localhost:8080/"
        },
        "outputId": "f490cde4-5b4a-4f41-8793-8bec2487610c"
      },
      "source": [
        "!pip install pyprind"
      ],
      "execution_count": null,
      "outputs": [
        {
          "output_type": "stream",
          "name": "stdout",
          "text": [
            "Requirement already satisfied: pyprind in /usr/local/lib/python3.7/dist-packages (2.11.3)\n"
          ]
        }
      ]
    },
    {
      "cell_type": "code",
      "metadata": {
        "colab": {
          "base_uri": "https://localhost:8080/"
        },
        "id": "VCxhqp9ztybA",
        "outputId": "11df3057-250d-418c-f4a8-acffc9ca253e"
      },
      "source": [
        "def reporthook(count, block_size, total_size):\n",
        "    global start_time\n",
        "    if count == 0:\n",
        "        start_time = time.time()\n",
        "        return\n",
        "    duration = time.time() - start_time\n",
        "    progress_size = int(count * block_size)\n",
        "    speed = progress_size / (1024.**2 * duration)\n",
        "    percent = count * block_size * 100. / total_size\n",
        "    sys.stdout.write(\"\\r%d%% | %d MB | %.2f MB/s | %d segundos transcurrido\" %\n",
        "                    (percent, progress_size / (1024.**2), speed, duration))\n",
        "    sys.stdout.flush()\n",
        "\n",
        "import urllib.request\n",
        "url_github_Model='https://github.com/Moisesdv10/Deep-Learning/blob/main/Modelos_PLN_Vallenato/RNN_Solo_Letras_PLN_Vallenato.h5?raw=true'\n",
        "urllib.request.urlretrieve(url_github_Model,\n",
        "                           'RNN_vallenato_model_3.h5', \n",
        "                           reporthook)\n",
        "#model.save(os.path.join(\"./dnn/\",\"RNN_vallenato_model_2.h5\"))"
      ],
      "execution_count": null,
      "outputs": [
        {
          "output_type": "stream",
          "name": "stdout",
          "text": [
            "100% | 60 MB | 3.29 MB/s | 18 segundos transcurrido"
          ]
        },
        {
          "output_type": "execute_result",
          "data": {
            "text/plain": [
              "('RNN_vallenato_model_3.h5', <http.client.HTTPMessage at 0x7feb4d958510>)"
            ]
          },
          "metadata": {},
          "execution_count": 205
        }
      ]
    },
    {
      "cell_type": "code",
      "metadata": {
        "id": "u9aklLIwiZkT"
      },
      "source": [
        "# Guardar el Modelo\n",
        "model.save('path_to_my_model.h5')\n",
        "\n",
        "# Recrea exactamente el mismo modelo solo desde el archivo\n",
        "new_model = keras.models.load_model('path_to_my_model.h5')"
      ],
      "execution_count": null,
      "outputs": []
    },
    {
      "cell_type": "code",
      "metadata": {
        "id": "HZInxTxLicnw"
      },
      "source": [
        "import numpy as np\n",
        "\n",
        "# Verifique que el estado esté preservado\n",
        "new_predictions = new_model.predict(x_test)\n",
        "np.testing.assert_allclose(predictions, new_predictions, rtol=1e-6, atol=1e-6)\n",
        "\n",
        "# Tenga en cuenta que el estado del optimizador también se conserva:\n",
        "# puede reanudar el entrenamiento donde lo dejó."
      ],
      "execution_count": null,
      "outputs": []
    },
    {
      "cell_type": "code",
      "metadata": {
        "id": "lM1_r_2HihlG"
      },
      "source": [
        "# Exportar el modelo a 'SavedModel'\n",
        "keras.experimental.export_saved_model(model, 'path_to_saved_model')\n",
        "\n",
        "# Recrea exactamente el mismo modelo\n",
        "new_model = keras.experimental.load_from_saved_model('path_to_saved_model')\n",
        "\n",
        "# Verifique que el estado esté guardado\n",
        "new_predictions = new_model.predict(x_test)\n",
        "np.testing.assert_allclose(predictions, new_predictions, rtol=1e-6, atol=1e-6)\n",
        "\n",
        "# Tenga en cuenta que el estado del optimizador también se conserva:\n",
        "# puede reanudar el entrenamiento donde lo dejó."
      ],
      "execution_count": null,
      "outputs": []
    },
    {
      "cell_type": "markdown",
      "metadata": {
        "id": "2XXpD38qt1T-"
      },
      "source": [
        "###P7.2 instanciamos el modelo descargado"
      ]
    },
    {
      "cell_type": "code",
      "metadata": {
        "colab": {
          "base_uri": "https://localhost:8080/",
          "height": 346
        },
        "id": "LnSbKlVwt49h",
        "outputId": "c4c489b2-5ea8-4cb2-e103-53b15cef8b51"
      },
      "source": [
        "new_model = tf.keras.models.load_model('/content/RNN_vallenato_model_3.h5')"
      ],
      "execution_count": null,
      "outputs": [
        {
          "output_type": "error",
          "ename": "ValueError",
          "evalue": "ignored",
          "traceback": [
            "\u001b[0;31m---------------------------------------------------------------------------\u001b[0m",
            "\u001b[0;31mValueError\u001b[0m                                Traceback (most recent call last)",
            "\u001b[0;32m<ipython-input-206-d21834ae1846>\u001b[0m in \u001b[0;36m<module>\u001b[0;34m()\u001b[0m\n\u001b[0;32m----> 1\u001b[0;31m \u001b[0mnew_model\u001b[0m \u001b[0;34m=\u001b[0m \u001b[0mtf\u001b[0m\u001b[0;34m.\u001b[0m\u001b[0mkeras\u001b[0m\u001b[0;34m.\u001b[0m\u001b[0mmodels\u001b[0m\u001b[0;34m.\u001b[0m\u001b[0mload_model\u001b[0m\u001b[0;34m(\u001b[0m\u001b[0;34m'/content/RNN_vallenato_model_3.h5'\u001b[0m\u001b[0;34m)\u001b[0m\u001b[0;34m\u001b[0m\u001b[0;34m\u001b[0m\u001b[0m\n\u001b[0m",
            "\u001b[0;32m/usr/local/lib/python3.7/dist-packages/keras/utils/traceback_utils.py\u001b[0m in \u001b[0;36merror_handler\u001b[0;34m(*args, **kwargs)\u001b[0m\n\u001b[1;32m     65\u001b[0m     \u001b[0;32mexcept\u001b[0m \u001b[0mException\u001b[0m \u001b[0;32mas\u001b[0m \u001b[0me\u001b[0m\u001b[0;34m:\u001b[0m  \u001b[0;31m# pylint: disable=broad-except\u001b[0m\u001b[0;34m\u001b[0m\u001b[0;34m\u001b[0m\u001b[0m\n\u001b[1;32m     66\u001b[0m       \u001b[0mfiltered_tb\u001b[0m \u001b[0;34m=\u001b[0m \u001b[0m_process_traceback_frames\u001b[0m\u001b[0;34m(\u001b[0m\u001b[0me\u001b[0m\u001b[0;34m.\u001b[0m\u001b[0m__traceback__\u001b[0m\u001b[0;34m)\u001b[0m\u001b[0;34m\u001b[0m\u001b[0;34m\u001b[0m\u001b[0m\n\u001b[0;32m---> 67\u001b[0;31m       \u001b[0;32mraise\u001b[0m \u001b[0me\u001b[0m\u001b[0;34m.\u001b[0m\u001b[0mwith_traceback\u001b[0m\u001b[0;34m(\u001b[0m\u001b[0mfiltered_tb\u001b[0m\u001b[0;34m)\u001b[0m \u001b[0;32mfrom\u001b[0m \u001b[0;32mNone\u001b[0m\u001b[0;34m\u001b[0m\u001b[0;34m\u001b[0m\u001b[0m\n\u001b[0m\u001b[1;32m     68\u001b[0m     \u001b[0;32mfinally\u001b[0m\u001b[0;34m:\u001b[0m\u001b[0;34m\u001b[0m\u001b[0;34m\u001b[0m\u001b[0m\n\u001b[1;32m     69\u001b[0m       \u001b[0;32mdel\u001b[0m \u001b[0mfiltered_tb\u001b[0m\u001b[0;34m\u001b[0m\u001b[0;34m\u001b[0m\u001b[0m\n",
            "\u001b[0;32m/usr/local/lib/python3.7/dist-packages/keras/utils/generic_utils.py\u001b[0m in \u001b[0;36mdeserialize_keras_object\u001b[0;34m(identifier, module_objects, custom_objects, printable_module_name)\u001b[0m\n\u001b[1;32m    707\u001b[0m       \u001b[0;32mif\u001b[0m \u001b[0mobj\u001b[0m \u001b[0;32mis\u001b[0m \u001b[0;32mNone\u001b[0m\u001b[0;34m:\u001b[0m\u001b[0;34m\u001b[0m\u001b[0;34m\u001b[0m\u001b[0m\n\u001b[1;32m    708\u001b[0m         raise ValueError(\n\u001b[0;32m--> 709\u001b[0;31m             \u001b[0;34mf'Unknown {printable_module_name}: {object_name}. Please ensure '\u001b[0m\u001b[0;34m\u001b[0m\u001b[0;34m\u001b[0m\u001b[0m\n\u001b[0m\u001b[1;32m    710\u001b[0m             \u001b[0;34m'this object is passed to the `custom_objects` argument. See '\u001b[0m\u001b[0;34m\u001b[0m\u001b[0;34m\u001b[0m\u001b[0m\n\u001b[1;32m    711\u001b[0m             \u001b[0;34m'https://www.tensorflow.org/guide/keras/save_and_serialize'\u001b[0m\u001b[0;34m\u001b[0m\u001b[0;34m\u001b[0m\u001b[0m\n",
            "\u001b[0;31mValueError\u001b[0m: Unknown loss function: lossy. Please ensure this object is passed to the `custom_objects` argument. See https://www.tensorflow.org/guide/keras/save_and_serialize#registering_the_custom_object for details."
          ]
        }
      ]
    },
    {
      "cell_type": "code",
      "metadata": {
        "colab": {
          "base_uri": "https://localhost:8080/",
          "height": 206
        },
        "id": "hnJylisUt95t",
        "outputId": "9644f8b9-bfbd-493a-e0b8-46bee59c45df"
      },
      "source": [
        "df2 = pd.read_csv(\"https://raw.githubusercontent.com/Moisesdv10/Deep-Learning/main/Proyecto_Final/data_vocab.csv\")\n",
        "df2.head()"
      ],
      "execution_count": null,
      "outputs": [
        {
          "output_type": "execute_result",
          "data": {
            "text/html": [
              "<div>\n",
              "<style scoped>\n",
              "    .dataframe tbody tr th:only-of-type {\n",
              "        vertical-align: middle;\n",
              "    }\n",
              "\n",
              "    .dataframe tbody tr th {\n",
              "        vertical-align: top;\n",
              "    }\n",
              "\n",
              "    .dataframe thead th {\n",
              "        text-align: right;\n",
              "    }\n",
              "</style>\n",
              "<table border=\"1\" class=\"dataframe\">\n",
              "  <thead>\n",
              "    <tr style=\"text-align: right;\">\n",
              "      <th></th>\n",
              "      <th>num</th>\n",
              "      <th>vocab</th>\n",
              "    </tr>\n",
              "  </thead>\n",
              "  <tbody>\n",
              "    <tr>\n",
              "      <th>0</th>\n",
              "      <td>0</td>\n",
              "      <td></td>\n",
              "    </tr>\n",
              "    <tr>\n",
              "      <th>1</th>\n",
              "      <td>1</td>\n",
              "      <td>0</td>\n",
              "    </tr>\n",
              "    <tr>\n",
              "      <th>2</th>\n",
              "      <td>2</td>\n",
              "      <td>1</td>\n",
              "    </tr>\n",
              "    <tr>\n",
              "      <th>3</th>\n",
              "      <td>3</td>\n",
              "      <td>2</td>\n",
              "    </tr>\n",
              "    <tr>\n",
              "      <th>4</th>\n",
              "      <td>4</td>\n",
              "      <td>4</td>\n",
              "    </tr>\n",
              "  </tbody>\n",
              "</table>\n",
              "</div>"
            ],
            "text/plain": [
              "   num vocab\n",
              "0    0      \n",
              "1    1     0\n",
              "2    2     1\n",
              "3    3     2\n",
              "4    4     4"
            ]
          },
          "metadata": {},
          "execution_count": 36
        }
      ]
    },
    {
      "cell_type": "code",
      "metadata": {
        "id": "cFi0WGmQuAEf"
      },
      "source": [
        "#funcion para generar texto\n",
        "def generate_text(model, start_string):\n",
        "  #definimos cuantos tensores/cantidad de texto generaremos\n",
        "  num_generate=500\n",
        "  #convertimos el texto en números\n",
        "  input_eval  = [char2idx[s] for s in start_string]\n",
        "  input_eval  = tf.expand_dims (input_eval,0)\n",
        "  text_generated = []\n",
        "\n",
        "  temperature = 0.5  #(0.0 a  1) entre más alta la temperatura más creatividad al modelo, pero tambien más errores ortograficos.\n",
        "  model.reset_states() #bucle para generar caracteres, mediante predicciones\n",
        "  for i in range(num_generate):\n",
        "    predictions = model(input_eval)\n",
        "    predictions = tf.squeeze(predictions, 0)\n",
        "    predictions = predictions / temperature\n",
        "    predicted_id = tf.random.categorical(predictions, num_samples=1)[-1,0].numpy()\n",
        "    input_eval= tf.expand_dims([predicted_id],0)\n",
        "    text_generated.append (idx2char[predicted_id])\n",
        "  \n",
        "  return (start_string+ ''.join(text_generated))\n"
      ],
      "execution_count": null,
      "outputs": []
    },
    {
      "cell_type": "code",
      "metadata": {
        "colab": {
          "base_uri": "https://localhost:8080/",
          "height": 165
        },
        "id": "we2bsx3tuCfJ",
        "outputId": "63e747ea-4635-4655-e2d3-2de0cab00610"
      },
      "source": [
        "print(generate_text(new_model, start_string=u\"amor\"))"
      ],
      "execution_count": null,
      "outputs": [
        {
          "output_type": "error",
          "ename": "NameError",
          "evalue": "ignored",
          "traceback": [
            "\u001b[0;31m---------------------------------------------------------------------------\u001b[0m",
            "\u001b[0;31mNameError\u001b[0m                                 Traceback (most recent call last)",
            "\u001b[0;32m<ipython-input-38-e4f7d6dd6dd7>\u001b[0m in \u001b[0;36m<module>\u001b[0;34m()\u001b[0m\n\u001b[0;32m----> 1\u001b[0;31m \u001b[0mprint\u001b[0m\u001b[0;34m(\u001b[0m\u001b[0mgenerate_text\u001b[0m\u001b[0;34m(\u001b[0m\u001b[0mnew_model\u001b[0m\u001b[0;34m,\u001b[0m \u001b[0mstart_string\u001b[0m\u001b[0;34m=\u001b[0m\u001b[0;34mu\"amor\"\u001b[0m\u001b[0;34m)\u001b[0m\u001b[0;34m)\u001b[0m\u001b[0;34m\u001b[0m\u001b[0;34m\u001b[0m\u001b[0m\n\u001b[0m",
            "\u001b[0;31mNameError\u001b[0m: name 'new_model' is not defined"
          ]
        }
      ]
    }
  ]
}