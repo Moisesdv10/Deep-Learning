{
  "nbformat": 4,
  "nbformat_minor": 0,
  "metadata": {
    "colab": {
      "name": "P1_T1_Ejercicios_python.ipynb",
      "provenance": [],
      "collapsed_sections": [],
      "toc_visible": true
    },
    "kernelspec": {
      "name": "python3",
      "display_name": "Python 3"
    },
    "language_info": {
      "name": "python"
    }
  },
  "cells": [
    {
      "cell_type": "markdown",
      "metadata": {
        "id": "azDcBm-He_U-"
      },
      "source": [
        "## Ejercicio 1\n"
      ]
    },
    {
      "cell_type": "code",
      "metadata": {
        "colab": {
          "base_uri": "https://localhost:8080/"
        },
        "id": "Sq6QfKBTjtFL",
        "outputId": "07f42e2b-e6b3-48c1-da22-35cbbd80431b"
      },
      "source": [
        "conteo_productos = 1\n",
        "precio_total = 0  \n",
        "while conteo_productos <= 5:\n",
        "    precio_como_cadena = input(\"Ingresa el precio del producto número {}: \".format(conteo_productos))\n",
        "    precio = float(precio_como_cadena)\n",
        "    precio_total = precio_total + precio\n",
        "    conteo_productos = conteo_productos + 1\n",
        "aumento = precio_total * (19 / 100)  \n",
        "precio_con_iva = precio_total + aumento\n",
        "print(\"Total: ${}\".format(precio_total),\"IVA: ${}\".format(aumento), \"Total con IVA: ${}\".format(precio_con_iva))"
      ],
      "execution_count": 3,
      "outputs": [
        {
          "output_type": "stream",
          "text": [
            "Ingresa el precio del producto número 1: 1000\n",
            "Ingresa el precio del producto número 2: 1000\n",
            "Ingresa el precio del producto número 3: 1000\n",
            "Ingresa el precio del producto número 4: 1000\n",
            "Ingresa el precio del producto número 5: 1000\n",
            "Total: $5000.0 IVA: $950.0 Total con IVA: $5950.0\n"
          ],
          "name": "stdout"
        }
      ]
    },
    {
      "cell_type": "markdown",
      "metadata": {
        "id": "c-gIJO4pXfp2"
      },
      "source": [
        "# Ejercicio 2\n"
      ]
    },
    {
      "cell_type": "code",
      "metadata": {
        "colab": {
          "base_uri": "https://localhost:8080/"
        },
        "id": "iqis7G3MjlSg",
        "outputId": "ca14deca-5153-4520-e5b8-51b0aebb39dc"
      },
      "source": [
        "import random \n",
        "conteo = 0\n",
        "calificaciones = [random.uniform(0.0, 5.0) for i in range(40)]\n",
        "for nota in calificaciones:\n",
        "  if(nota < 3.0): conteo = conteo + 1\n",
        "print(str(calificaciones)+\"\\nEl promedio es: \"+str(sum(calificaciones)/5)+\"\\nEstudiantes aprobados: \"+\n",
        "      str(40-conteo)+\"\\nEstudiantes reprobados:\" + str(conteo))"
      ],
      "execution_count": null,
      "outputs": [
        {
          "output_type": "stream",
          "text": [
            "[0.090161609542736, 0.7360061302896992, 4.889455997496349, 2.586009185445945, 4.213780671088799, 1.1790513035929666, 2.104488758800513, 1.5398500728259572, 1.2777100766204197, 1.84175719675346, 3.41616955552359, 1.6814276326990807, 3.7267192013040455, 3.925903486911484, 1.3453828671390982, 2.9583660404170624, 3.229826220961463, 0.35743501616953, 4.7599638423973225, 1.8985370493282043, 1.7825817806939597, 2.4426681692803385, 2.112305584792102, 1.4156674001358631, 2.9529101261878354, 1.384709140274093, 3.582846503845807, 3.4831787854774774, 3.7060287318172853, 1.28661763218429, 3.145903799181734, 4.71138836070489, 3.5541457259215923, 3.2787066671685228, 0.0979088925025634, 4.04288854244158, 2.3647835614278936, 1.477764197843345, 0.3076484752791425, 0.20316565700021438]\n",
            "El promedio es: 19.018363929893646\n",
            "Estudiantes aprobados: 15\n",
            "Estudiantes reprobados:25\n"
          ],
          "name": "stdout"
        }
      ]
    },
    {
      "cell_type": "markdown",
      "metadata": {
        "id": "E1yivv1jkhI4"
      },
      "source": [
        "# Ejercicio 3"
      ]
    },
    {
      "cell_type": "markdown",
      "metadata": {
        "id": "yW_8zf1JoAHm"
      },
      "source": [
        "Ejercicio 3.1"
      ]
    },
    {
      "cell_type": "code",
      "metadata": {
        "colab": {
          "base_uri": "https://localhost:8080/"
        },
        "id": "FBe9nd3LkmxS",
        "outputId": "d92756c8-8738-4022-f31c-64f81092d0a0"
      },
      "source": [
        "def f_aplica_iva(bruto, iva = 19): return bruto + iva\n",
        "print (f_aplica_iva(int(input('Cual es el valor bruto del producto: '))))"
      ],
      "execution_count": null,
      "outputs": [
        {
          "output_type": "stream",
          "text": [
            "Cual es el valor bruto del producto: 12\n",
            "31\n"
          ],
          "name": "stdout"
        }
      ]
    },
    {
      "cell_type": "markdown",
      "metadata": {
        "id": "SYGaaI-ekjYI"
      },
      "source": [
        "*   El orden de llamada a la función\n",
        "*   Convertir el dato solicitado de string a integer para realizar la operación\n",
        "*   La variable iva es pasada por parámetro sin ser declarada\n"
      ]
    },
    {
      "cell_type": "markdown",
      "metadata": {
        "id": "Ws9sEGP-n7k4"
      },
      "source": [
        "Ejercicio 3.2"
      ]
    },
    {
      "cell_type": "code",
      "metadata": {
        "colab": {
          "base_uri": "https://localhost:8080/"
        },
        "id": "XnkanGlZn6ss",
        "outputId": "32c2421f-a679-4a00-9036-436bed4e8821"
      },
      "source": [
        "u = list((1, 2, 3))\n",
        "v = list((4, 5, 6))\n",
        "for i in range(len(u)):\n",
        "        u[i] *= v[i]\n",
        "print (sum(u))"
      ],
      "execution_count": null,
      "outputs": [
        {
          "output_type": "stream",
          "text": [
            "32\n"
          ],
          "name": "stdout"
        }
      ]
    },
    {
      "cell_type": "markdown",
      "metadata": {
        "id": "OH6MAfu4lxp6"
      },
      "source": [
        "\n",
        "\n",
        "*   La función suma aplica a todas las variables cuando se necesita solo la multiplicación.\n",
        "*   Las tuplas son inmutables.\n",
        "*   El iterador sobrepasa el tamaño del vector\n",
        "\n",
        "\n",
        "\n"
      ]
    },
    {
      "cell_type": "markdown",
      "metadata": {
        "id": "GLh4qgtshFfc"
      },
      "source": [
        "Ejercicio 3.3"
      ]
    },
    {
      "cell_type": "code",
      "metadata": {
        "colab": {
          "base_uri": "https://localhost:8080/"
        },
        "id": "J32NbmZ0qc2k",
        "outputId": "86385399-255d-4c6d-8bc1-f2826509488f"
      },
      "source": [
        "total = 0\n",
        "for i in range(0, int (input(\"Total de números? \"))):\n",
        "  total+=int((input(\"Ingrese un valor: \"+str(i)+\": \")))\n",
        "print(\"El total de la suma es:2 \" +str(total))"
      ],
      "execution_count": null,
      "outputs": [
        {
          "output_type": "stream",
          "text": [
            "Total de números? 2\n",
            "Ingrese un valor: 0: 2\n",
            "Ingrese un valor: 1: 2\n",
            "El total de la suma es: 4\n"
          ],
          "name": "stdout"
        }
      ]
    },
    {
      "cell_type": "markdown",
      "metadata": {
        "id": "HTK9YKr4nCUH"
      },
      "source": [
        "\n",
        "\n",
        "*   Convertir la cadena a int\n",
        "*   La variable total no estaba inicializada\n",
        "\n"
      ]
    }
  ]
}