{
  "nbformat": 4,
  "nbformat_minor": 0,
  "metadata": {
    "colab": {
      "name": "P1_T2_Dataset's_pandas_matplotlib",
      "provenance": []
    },
    "kernelspec": {
      "name": "python3",
      "display_name": "Python 3"
    },
    "language_info": {
      "name": "python"
    }
  },
  "cells": [
    {
      "cell_type": "markdown",
      "metadata": {
        "id": "bDajqUcKO-aE"
      },
      "source": [
        "# Instalar librerias"
      ]
    },
    {
      "cell_type": "code",
      "metadata": {
        "colab": {
          "base_uri": "https://localhost:8080/"
        },
        "id": "OMaK8uvj32XZ",
        "outputId": "f5c9da84-8861-44b1-9978-a64427a1f3f8"
      },
      "source": [
        "pip install pandas"
      ],
      "execution_count": null,
      "outputs": [
        {
          "output_type": "stream",
          "text": [
            "Requirement already satisfied: pandas in /usr/local/lib/python3.7/dist-packages (1.1.5)\n",
            "Requirement already satisfied: pytz>=2017.2 in /usr/local/lib/python3.7/dist-packages (from pandas) (2018.9)\n",
            "Requirement already satisfied: python-dateutil>=2.7.3 in /usr/local/lib/python3.7/dist-packages (from pandas) (2.8.2)\n",
            "Requirement already satisfied: numpy>=1.15.4 in /usr/local/lib/python3.7/dist-packages (from pandas) (1.19.5)\n",
            "Requirement already satisfied: six>=1.5 in /usr/local/lib/python3.7/dist-packages (from python-dateutil>=2.7.3->pandas) (1.15.0)\n"
          ],
          "name": "stdout"
        }
      ]
    },
    {
      "cell_type": "code",
      "metadata": {
        "colab": {
          "base_uri": "https://localhost:8080/"
        },
        "id": "o5devu-yqme-",
        "outputId": "63bee117-c55c-4343-ced2-77bd06023703"
      },
      "source": [
        "#Python version\n",
        "import sys\n",
        "print('Python: {}'.format(sys.version))\n",
        "# scipy\n",
        "import scipy\n",
        "print('scipy: {}'.format(scipy.__version__))\n",
        "# numpy\n",
        "import numpy\n",
        "print('numpy: {}'.format(numpy.__version__))\n",
        "# matplotlip\n",
        "import matplotlib\n",
        "print('matplotlib: {}'.format(matplotlib.__version__))\n",
        "# pandas\n",
        "import pandas\n",
        "print('pandas: {}'.format(pandas.__version__))\n",
        "# scikit-learn\n",
        "import sklearn\n",
        "print('sklearn: {}'.format(sklearn.__version__))"
      ],
      "execution_count": null,
      "outputs": [
        {
          "output_type": "stream",
          "text": [
            "Python: 3.7.11 (default, Jul  3 2021, 18:01:19) \n",
            "[GCC 7.5.0]\n",
            "scipy: 1.4.1\n",
            "numpy: 1.19.5\n",
            "matplotlib: 3.2.2\n",
            "pandas: 1.1.5\n",
            "sklearn: 0.22.2.post1\n"
          ],
          "name": "stdout"
        }
      ]
    },
    {
      "cell_type": "markdown",
      "metadata": {
        "id": "oJUuJelOtB_D"
      },
      "source": [
        "## Habilitar google drive"
      ]
    },
    {
      "cell_type": "code",
      "metadata": {
        "colab": {
          "base_uri": "https://localhost:8080/"
        },
        "id": "bZWy3aiWtOSh",
        "outputId": "5de5bd1f-0b4c-40b0-8a8d-91b73696a8b1"
      },
      "source": [
        "from google.colab import drive\n",
        "drive.mount('/content/drive')"
      ],
      "execution_count": null,
      "outputs": [
        {
          "output_type": "stream",
          "text": [
            "Mounted at /content/drive\n"
          ],
          "name": "stdout"
        }
      ]
    },
    {
      "cell_type": "markdown",
      "metadata": {
        "id": "Yc7uXYp8vHDW"
      },
      "source": [
        "###Ejercicio 1: panda\n"
      ]
    },
    {
      "cell_type": "code",
      "metadata": {
        "colab": {
          "base_uri": "https://localhost:8080/"
        },
        "id": "_JqkyQdLvTIv",
        "outputId": "87f4fd88-1855-4d67-f6f2-787269f75d1a"
      },
      "source": [
        "import pandas as pd\n",
        "import matplotlib.pyplot as plt\n",
        "df = pd.read_csv(\"https://raw.githubusercontent.com/luisFernandoCastellanosG/Machine_learning/master/DataScience/DataSet's/prestamos_records.csv\")\n",
        "#df.head()\n",
        "print(df.shape)"
      ],
      "execution_count": 25,
      "outputs": [
        {
          "output_type": "stream",
          "text": [
            "(8000, 7)\n"
          ],
          "name": "stdout"
        }
      ]
    },
    {
      "cell_type": "code",
      "metadata": {
        "colab": {
          "base_uri": "https://localhost:8080/",
          "height": 515
        },
        "id": "7w8ZKUcFxKmG",
        "outputId": "e4183281-13a3-46f3-b848-81d952ba3250"
      },
      "source": [
        "df.head(10)"
      ],
      "execution_count": 28,
      "outputs": [
        {
          "output_type": "execute_result",
          "data": {
            "text/html": [
              "<div>\n",
              "<style scoped>\n",
              "    .dataframe tbody tr th:only-of-type {\n",
              "        vertical-align: middle;\n",
              "    }\n",
              "\n",
              "    .dataframe tbody tr th {\n",
              "        vertical-align: top;\n",
              "    }\n",
              "\n",
              "    .dataframe thead th {\n",
              "        text-align: right;\n",
              "    }\n",
              "</style>\n",
              "<table border=\"1\" class=\"dataframe\">\n",
              "  <thead>\n",
              "    <tr style=\"text-align: right;\">\n",
              "      <th></th>\n",
              "      <th>col_1</th>\n",
              "      <th>RECORD_CREATION_DATE</th>\n",
              "      <th>MONTO_DEL_PRESTAMO</th>\n",
              "      <th>RANGO_DEL_CREDITO</th>\n",
              "      <th>DEUDA_EXISTENTE</th>\n",
              "      <th>NOTAS_DEL_AGENTE</th>\n",
              "      <th>UBICACION_DE_LA_OFICINA</th>\n",
              "      <th>PRESTAMO_INCUMPLIDO</th>\n",
              "      <th>total</th>\n",
              "    </tr>\n",
              "  </thead>\n",
              "  <tbody>\n",
              "    <tr>\n",
              "      <th>0</th>\n",
              "      <td>2500.0</td>\n",
              "      <td>01May2014:09:24:27.000000</td>\n",
              "      <td>2500</td>\n",
              "      <td>760-779</td>\n",
              "      <td>$10,001-$20,000</td>\n",
              "      <td>NaN</td>\n",
              "      <td>NORTHERN CALIFORNIA</td>\n",
              "      <td>FALSO</td>\n",
              "      <td>100</td>\n",
              "    </tr>\n",
              "    <tr>\n",
              "      <th>1</th>\n",
              "      <td>2500.0</td>\n",
              "      <td>01May2014:09:48:36.000000</td>\n",
              "      <td>2500</td>\n",
              "      <td>700-719</td>\n",
              "      <td>$1-$10,000</td>\n",
              "      <td>Ingreso anual neto: $25,400</td>\n",
              "      <td>SOUTHERN CALIFORNIA</td>\n",
              "      <td>FALSO</td>\n",
              "      <td>100</td>\n",
              "    </tr>\n",
              "    <tr>\n",
              "      <th>2</th>\n",
              "      <td>6300.0</td>\n",
              "      <td>01May2014:10:10:36.000000</td>\n",
              "      <td>6300</td>\n",
              "      <td>740-759</td>\n",
              "      <td>$100,000+</td>\n",
              "      <td>NaN</td>\n",
              "      <td>ARIZONA</td>\n",
              "      <td>VERDADERO</td>\n",
              "      <td>100</td>\n",
              "    </tr>\n",
              "    <tr>\n",
              "      <th>3</th>\n",
              "      <td>4300.0</td>\n",
              "      <td>01May2014:10:31:25.000000</td>\n",
              "      <td>4300</td>\n",
              "      <td>780-799</td>\n",
              "      <td>$1-$10,000</td>\n",
              "      <td>Ingreso anual neto: $191,900</td>\n",
              "      <td>SOUTHERN CALIFORNIA</td>\n",
              "      <td>FALSO</td>\n",
              "      <td>100</td>\n",
              "    </tr>\n",
              "    <tr>\n",
              "      <th>4</th>\n",
              "      <td>20100.0</td>\n",
              "      <td>01May2014:10:46:54.000000</td>\n",
              "      <td>20100</td>\n",
              "      <td>780-799</td>\n",
              "      <td>$90,001-$100,000</td>\n",
              "      <td>Pagos mensuales de deuda verificados: $1,700</td>\n",
              "      <td>SOUTHERN CALIFORNIA</td>\n",
              "      <td>VERDADERO</td>\n",
              "      <td>100</td>\n",
              "    </tr>\n",
              "    <tr>\n",
              "      <th>5</th>\n",
              "      <td>6600.0</td>\n",
              "      <td>01May2014:11:14:12.000000</td>\n",
              "      <td>6600</td>\n",
              "      <td>760-779</td>\n",
              "      <td>$10,001-$20,000</td>\n",
              "      <td>NaN</td>\n",
              "      <td>NORTHERN CALIFORNIA</td>\n",
              "      <td>FALSO</td>\n",
              "      <td>100</td>\n",
              "    </tr>\n",
              "    <tr>\n",
              "      <th>6</th>\n",
              "      <td>2500.0</td>\n",
              "      <td>01May2014:11:23:11.000000</td>\n",
              "      <td>2500</td>\n",
              "      <td>700-719</td>\n",
              "      <td>$100,000+</td>\n",
              "      <td>Ingreso anual neto: $63,100</td>\n",
              "      <td>ARIZONA</td>\n",
              "      <td>VERDADERO</td>\n",
              "      <td>100</td>\n",
              "    </tr>\n",
              "    <tr>\n",
              "      <th>7</th>\n",
              "      <td>10000.0</td>\n",
              "      <td>01May2014:11:53:24.000000</td>\n",
              "      <td>10000</td>\n",
              "      <td>760-779</td>\n",
              "      <td>$20,001-$30,000</td>\n",
              "      <td>NaN</td>\n",
              "      <td>SOUTHERN CALIFORNIA</td>\n",
              "      <td>FALSO</td>\n",
              "      <td>100</td>\n",
              "    </tr>\n",
              "    <tr>\n",
              "      <th>8</th>\n",
              "      <td>8900.0</td>\n",
              "      <td>01May2014:12:18:53.000000</td>\n",
              "      <td>8900</td>\n",
              "      <td>740-759</td>\n",
              "      <td>$80,001-$90,000</td>\n",
              "      <td>NaN</td>\n",
              "      <td>NORTHERN CALIFORNIA</td>\n",
              "      <td>FALSO</td>\n",
              "      <td>100</td>\n",
              "    </tr>\n",
              "    <tr>\n",
              "      <th>9</th>\n",
              "      <td>2500.0</td>\n",
              "      <td>01May2014:12:32:41.000000</td>\n",
              "      <td>2500</td>\n",
              "      <td>760-779</td>\n",
              "      <td>$30,001-$40,000</td>\n",
              "      <td>Pagos mensuales de deuda verificados: $590...I...</td>\n",
              "      <td>NORTHERN CALIFORNIA</td>\n",
              "      <td>FALSO</td>\n",
              "      <td>100</td>\n",
              "    </tr>\n",
              "  </tbody>\n",
              "</table>\n",
              "</div>"
            ],
            "text/plain": [
              "     col_1       RECORD_CREATION_DATE  ...  PRESTAMO_INCUMPLIDO total\n",
              "0   2500.0  01May2014:09:24:27.000000  ...                FALSO   100\n",
              "1   2500.0  01May2014:09:48:36.000000  ...                FALSO   100\n",
              "2   6300.0  01May2014:10:10:36.000000  ...            VERDADERO   100\n",
              "3   4300.0  01May2014:10:31:25.000000  ...                FALSO   100\n",
              "4  20100.0  01May2014:10:46:54.000000  ...            VERDADERO   100\n",
              "5   6600.0  01May2014:11:14:12.000000  ...                FALSO   100\n",
              "6   2500.0  01May2014:11:23:11.000000  ...            VERDADERO   100\n",
              "7  10000.0  01May2014:11:53:24.000000  ...                FALSO   100\n",
              "8   8900.0  01May2014:12:18:53.000000  ...                FALSO   100\n",
              "9   2500.0  01May2014:12:32:41.000000  ...                FALSO   100\n",
              "\n",
              "[10 rows x 9 columns]"
            ]
          },
          "metadata": {
            "tags": []
          },
          "execution_count": 28
        }
      ]
    },
    {
      "cell_type": "markdown",
      "metadata": {
        "id": "PC9UU_ggy8tB"
      },
      "source": [
        "Insertando nuevas columnas"
      ]
    },
    {
      "cell_type": "code",
      "metadata": {
        "id": "gKhV3Ie_xlPg"
      },
      "source": [
        "df.insert(0,'col_1',df.mean(1))#al inicio\n",
        "df['total']= 100"
      ],
      "execution_count": 27,
      "outputs": []
    },
    {
      "cell_type": "markdown",
      "metadata": {
        "id": "4O_pE4Xyy5h9"
      },
      "source": [
        "Filtrado"
      ]
    },
    {
      "cell_type": "code",
      "metadata": {
        "colab": {
          "base_uri": "https://localhost:8080/"
        },
        "id": "phHRGpvvyoYy",
        "outputId": "9a8cf341-ad47-4cad-a1ed-beb75b470669"
      },
      "source": [
        "[df['total']>2000]"
      ],
      "execution_count": 29,
      "outputs": [
        {
          "output_type": "execute_result",
          "data": {
            "text/plain": [
              "[0       False\n",
              " 1       False\n",
              " 2       False\n",
              " 3       False\n",
              " 4       False\n",
              "         ...  \n",
              " 7995    False\n",
              " 7996    False\n",
              " 7997    False\n",
              " 7998    False\n",
              " 7999    False\n",
              " Name: total, Length: 8000, dtype: bool]"
            ]
          },
          "metadata": {
            "tags": []
          },
          "execution_count": 29
        }
      ]
    },
    {
      "cell_type": "code",
      "metadata": {
        "colab": {
          "base_uri": "https://localhost:8080/",
          "height": 609
        },
        "id": "FOlP09-PzCDE",
        "outputId": "f1e89e87-bc4d-4ccf-c3a7-e16687a85ee3"
      },
      "source": [
        "df [df['MONTO_DEL_PRESTAMO']> 2000]"
      ],
      "execution_count": 30,
      "outputs": [
        {
          "output_type": "execute_result",
          "data": {
            "text/html": [
              "<div>\n",
              "<style scoped>\n",
              "    .dataframe tbody tr th:only-of-type {\n",
              "        vertical-align: middle;\n",
              "    }\n",
              "\n",
              "    .dataframe tbody tr th {\n",
              "        vertical-align: top;\n",
              "    }\n",
              "\n",
              "    .dataframe thead th {\n",
              "        text-align: right;\n",
              "    }\n",
              "</style>\n",
              "<table border=\"1\" class=\"dataframe\">\n",
              "  <thead>\n",
              "    <tr style=\"text-align: right;\">\n",
              "      <th></th>\n",
              "      <th>col_1</th>\n",
              "      <th>RECORD_CREATION_DATE</th>\n",
              "      <th>MONTO_DEL_PRESTAMO</th>\n",
              "      <th>RANGO_DEL_CREDITO</th>\n",
              "      <th>DEUDA_EXISTENTE</th>\n",
              "      <th>NOTAS_DEL_AGENTE</th>\n",
              "      <th>UBICACION_DE_LA_OFICINA</th>\n",
              "      <th>PRESTAMO_INCUMPLIDO</th>\n",
              "      <th>total</th>\n",
              "    </tr>\n",
              "  </thead>\n",
              "  <tbody>\n",
              "    <tr>\n",
              "      <th>0</th>\n",
              "      <td>2500.0</td>\n",
              "      <td>01May2014:09:24:27.000000</td>\n",
              "      <td>2500</td>\n",
              "      <td>760-779</td>\n",
              "      <td>$10,001-$20,000</td>\n",
              "      <td>NaN</td>\n",
              "      <td>NORTHERN CALIFORNIA</td>\n",
              "      <td>FALSO</td>\n",
              "      <td>100</td>\n",
              "    </tr>\n",
              "    <tr>\n",
              "      <th>1</th>\n",
              "      <td>2500.0</td>\n",
              "      <td>01May2014:09:48:36.000000</td>\n",
              "      <td>2500</td>\n",
              "      <td>700-719</td>\n",
              "      <td>$1-$10,000</td>\n",
              "      <td>Ingreso anual neto: $25,400</td>\n",
              "      <td>SOUTHERN CALIFORNIA</td>\n",
              "      <td>FALSO</td>\n",
              "      <td>100</td>\n",
              "    </tr>\n",
              "    <tr>\n",
              "      <th>2</th>\n",
              "      <td>6300.0</td>\n",
              "      <td>01May2014:10:10:36.000000</td>\n",
              "      <td>6300</td>\n",
              "      <td>740-759</td>\n",
              "      <td>$100,000+</td>\n",
              "      <td>NaN</td>\n",
              "      <td>ARIZONA</td>\n",
              "      <td>VERDADERO</td>\n",
              "      <td>100</td>\n",
              "    </tr>\n",
              "    <tr>\n",
              "      <th>3</th>\n",
              "      <td>4300.0</td>\n",
              "      <td>01May2014:10:31:25.000000</td>\n",
              "      <td>4300</td>\n",
              "      <td>780-799</td>\n",
              "      <td>$1-$10,000</td>\n",
              "      <td>Ingreso anual neto: $191,900</td>\n",
              "      <td>SOUTHERN CALIFORNIA</td>\n",
              "      <td>FALSO</td>\n",
              "      <td>100</td>\n",
              "    </tr>\n",
              "    <tr>\n",
              "      <th>4</th>\n",
              "      <td>20100.0</td>\n",
              "      <td>01May2014:10:46:54.000000</td>\n",
              "      <td>20100</td>\n",
              "      <td>780-799</td>\n",
              "      <td>$90,001-$100,000</td>\n",
              "      <td>Pagos mensuales de deuda verificados: $1,700</td>\n",
              "      <td>SOUTHERN CALIFORNIA</td>\n",
              "      <td>VERDADERO</td>\n",
              "      <td>100</td>\n",
              "    </tr>\n",
              "    <tr>\n",
              "      <th>...</th>\n",
              "      <td>...</td>\n",
              "      <td>...</td>\n",
              "      <td>...</td>\n",
              "      <td>...</td>\n",
              "      <td>...</td>\n",
              "      <td>...</td>\n",
              "      <td>...</td>\n",
              "      <td>...</td>\n",
              "      <td>...</td>\n",
              "    </tr>\n",
              "    <tr>\n",
              "      <th>7995</th>\n",
              "      <td>3500.0</td>\n",
              "      <td>07May2015:16:04:54.000000</td>\n",
              "      <td>3500</td>\n",
              "      <td>700-719</td>\n",
              "      <td>NaN</td>\n",
              "      <td>El cliente no tiene deuda...Ingreso anual neto...</td>\n",
              "      <td>SOUTHERN CALIFORNIA</td>\n",
              "      <td>FALSO</td>\n",
              "      <td>100</td>\n",
              "    </tr>\n",
              "    <tr>\n",
              "      <th>7996</th>\n",
              "      <td>2500.0</td>\n",
              "      <td>07May2015:16:38:22.000000</td>\n",
              "      <td>2500</td>\n",
              "      <td>700-719</td>\n",
              "      <td>$1-$10,000</td>\n",
              "      <td>Pagos mensuales de deuda verificados: $10</td>\n",
              "      <td>SOUTHERN CALIFORNIA</td>\n",
              "      <td>VERDADERO</td>\n",
              "      <td>100</td>\n",
              "    </tr>\n",
              "    <tr>\n",
              "      <th>7997</th>\n",
              "      <td>2500.0</td>\n",
              "      <td>07May2015:17:04:07.000000</td>\n",
              "      <td>2500</td>\n",
              "      <td>780-799</td>\n",
              "      <td>$10,001-$20,000</td>\n",
              "      <td>Ingreso mensual neto 2,870</td>\n",
              "      <td>SOUTHERN CALIFORNIA</td>\n",
              "      <td>FALSO</td>\n",
              "      <td>100</td>\n",
              "    </tr>\n",
              "    <tr>\n",
              "      <th>7998</th>\n",
              "      <td>2500.0</td>\n",
              "      <td>07May2015:17:37:18.000000</td>\n",
              "      <td>2500</td>\n",
              "      <td>800+</td>\n",
              "      <td>NaN</td>\n",
              "      <td>El cliente no tiene deuda</td>\n",
              "      <td>NEVADA</td>\n",
              "      <td>VERDADERO</td>\n",
              "      <td>100</td>\n",
              "    </tr>\n",
              "    <tr>\n",
              "      <th>7999</th>\n",
              "      <td>2500.0</td>\n",
              "      <td>07May2015:17:52:58.000000</td>\n",
              "      <td>2500</td>\n",
              "      <td>740-759</td>\n",
              "      <td>$40,001-$50,000</td>\n",
              "      <td>NaN</td>\n",
              "      <td>NORTHERN CALIFORNIA</td>\n",
              "      <td>VERDADERO</td>\n",
              "      <td>100</td>\n",
              "    </tr>\n",
              "  </tbody>\n",
              "</table>\n",
              "<p>8000 rows × 9 columns</p>\n",
              "</div>"
            ],
            "text/plain": [
              "        col_1       RECORD_CREATION_DATE  ...  PRESTAMO_INCUMPLIDO total\n",
              "0      2500.0  01May2014:09:24:27.000000  ...                FALSO   100\n",
              "1      2500.0  01May2014:09:48:36.000000  ...                FALSO   100\n",
              "2      6300.0  01May2014:10:10:36.000000  ...            VERDADERO   100\n",
              "3      4300.0  01May2014:10:31:25.000000  ...                FALSO   100\n",
              "4     20100.0  01May2014:10:46:54.000000  ...            VERDADERO   100\n",
              "...       ...                        ...  ...                  ...   ...\n",
              "7995   3500.0  07May2015:16:04:54.000000  ...                FALSO   100\n",
              "7996   2500.0  07May2015:16:38:22.000000  ...            VERDADERO   100\n",
              "7997   2500.0  07May2015:17:04:07.000000  ...                FALSO   100\n",
              "7998   2500.0  07May2015:17:37:18.000000  ...            VERDADERO   100\n",
              "7999   2500.0  07May2015:17:52:58.000000  ...            VERDADERO   100\n",
              "\n",
              "[8000 rows x 9 columns]"
            ]
          },
          "metadata": {
            "tags": []
          },
          "execution_count": 30
        }
      ]
    },
    {
      "cell_type": "markdown",
      "metadata": {
        "id": "CQ_ZmU-QPk8S"
      },
      "source": [
        "##Eliminar datos nulos\n"
      ]
    },
    {
      "cell_type": "code",
      "metadata": {
        "colab": {
          "base_uri": "https://localhost:8080/",
          "height": 677
        },
        "id": "02ycSmgwPrEA",
        "outputId": "55bfdb93-cd75-4927-e940-8ac53e0558e6"
      },
      "source": [
        "df.dropna()"
      ],
      "execution_count": 31,
      "outputs": [
        {
          "output_type": "execute_result",
          "data": {
            "text/html": [
              "<div>\n",
              "<style scoped>\n",
              "    .dataframe tbody tr th:only-of-type {\n",
              "        vertical-align: middle;\n",
              "    }\n",
              "\n",
              "    .dataframe tbody tr th {\n",
              "        vertical-align: top;\n",
              "    }\n",
              "\n",
              "    .dataframe thead th {\n",
              "        text-align: right;\n",
              "    }\n",
              "</style>\n",
              "<table border=\"1\" class=\"dataframe\">\n",
              "  <thead>\n",
              "    <tr style=\"text-align: right;\">\n",
              "      <th></th>\n",
              "      <th>col_1</th>\n",
              "      <th>RECORD_CREATION_DATE</th>\n",
              "      <th>MONTO_DEL_PRESTAMO</th>\n",
              "      <th>RANGO_DEL_CREDITO</th>\n",
              "      <th>DEUDA_EXISTENTE</th>\n",
              "      <th>NOTAS_DEL_AGENTE</th>\n",
              "      <th>UBICACION_DE_LA_OFICINA</th>\n",
              "      <th>PRESTAMO_INCUMPLIDO</th>\n",
              "      <th>total</th>\n",
              "    </tr>\n",
              "  </thead>\n",
              "  <tbody>\n",
              "    <tr>\n",
              "      <th>1</th>\n",
              "      <td>2500.0</td>\n",
              "      <td>01May2014:09:48:36.000000</td>\n",
              "      <td>2500</td>\n",
              "      <td>700-719</td>\n",
              "      <td>$1-$10,000</td>\n",
              "      <td>Ingreso anual neto: $25,400</td>\n",
              "      <td>SOUTHERN CALIFORNIA</td>\n",
              "      <td>FALSO</td>\n",
              "      <td>100</td>\n",
              "    </tr>\n",
              "    <tr>\n",
              "      <th>3</th>\n",
              "      <td>4300.0</td>\n",
              "      <td>01May2014:10:31:25.000000</td>\n",
              "      <td>4300</td>\n",
              "      <td>780-799</td>\n",
              "      <td>$1-$10,000</td>\n",
              "      <td>Ingreso anual neto: $191,900</td>\n",
              "      <td>SOUTHERN CALIFORNIA</td>\n",
              "      <td>FALSO</td>\n",
              "      <td>100</td>\n",
              "    </tr>\n",
              "    <tr>\n",
              "      <th>4</th>\n",
              "      <td>20100.0</td>\n",
              "      <td>01May2014:10:46:54.000000</td>\n",
              "      <td>20100</td>\n",
              "      <td>780-799</td>\n",
              "      <td>$90,001-$100,000</td>\n",
              "      <td>Pagos mensuales de deuda verificados: $1,700</td>\n",
              "      <td>SOUTHERN CALIFORNIA</td>\n",
              "      <td>VERDADERO</td>\n",
              "      <td>100</td>\n",
              "    </tr>\n",
              "    <tr>\n",
              "      <th>6</th>\n",
              "      <td>2500.0</td>\n",
              "      <td>01May2014:11:23:11.000000</td>\n",
              "      <td>2500</td>\n",
              "      <td>700-719</td>\n",
              "      <td>$100,000+</td>\n",
              "      <td>Ingreso anual neto: $63,100</td>\n",
              "      <td>ARIZONA</td>\n",
              "      <td>VERDADERO</td>\n",
              "      <td>100</td>\n",
              "    </tr>\n",
              "    <tr>\n",
              "      <th>9</th>\n",
              "      <td>2500.0</td>\n",
              "      <td>01May2014:12:32:41.000000</td>\n",
              "      <td>2500</td>\n",
              "      <td>760-779</td>\n",
              "      <td>$30,001-$40,000</td>\n",
              "      <td>Pagos mensuales de deuda verificados: $590...I...</td>\n",
              "      <td>NORTHERN CALIFORNIA</td>\n",
              "      <td>FALSO</td>\n",
              "      <td>100</td>\n",
              "    </tr>\n",
              "    <tr>\n",
              "      <th>...</th>\n",
              "      <td>...</td>\n",
              "      <td>...</td>\n",
              "      <td>...</td>\n",
              "      <td>...</td>\n",
              "      <td>...</td>\n",
              "      <td>...</td>\n",
              "      <td>...</td>\n",
              "      <td>...</td>\n",
              "      <td>...</td>\n",
              "    </tr>\n",
              "    <tr>\n",
              "      <th>7990</th>\n",
              "      <td>7000.0</td>\n",
              "      <td>07May2015:14:08:44.000000</td>\n",
              "      <td>7000</td>\n",
              "      <td>700-719</td>\n",
              "      <td>$30,001-$40,000</td>\n",
              "      <td>Ingreso mensual neto 1,430</td>\n",
              "      <td>OREGON</td>\n",
              "      <td>VERDADERO</td>\n",
              "      <td>100</td>\n",
              "    </tr>\n",
              "    <tr>\n",
              "      <th>7992</th>\n",
              "      <td>2500.0</td>\n",
              "      <td>07May2015:14:43:58.000000</td>\n",
              "      <td>2500</td>\n",
              "      <td>720-739</td>\n",
              "      <td>$20,001-$30,000</td>\n",
              "      <td>Ingreso mensual neto 1,660</td>\n",
              "      <td>NORTHERN CALIFORNIA</td>\n",
              "      <td>VERDADERO</td>\n",
              "      <td>100</td>\n",
              "    </tr>\n",
              "    <tr>\n",
              "      <th>7993</th>\n",
              "      <td>4400.0</td>\n",
              "      <td>07May2015:15:10:02.000000</td>\n",
              "      <td>4400</td>\n",
              "      <td>700-719</td>\n",
              "      <td>$30,001-$40,000</td>\n",
              "      <td>Ingreso mensual neto 1,790</td>\n",
              "      <td>OREGON</td>\n",
              "      <td>VERDADERO</td>\n",
              "      <td>100</td>\n",
              "    </tr>\n",
              "    <tr>\n",
              "      <th>7996</th>\n",
              "      <td>2500.0</td>\n",
              "      <td>07May2015:16:38:22.000000</td>\n",
              "      <td>2500</td>\n",
              "      <td>700-719</td>\n",
              "      <td>$1-$10,000</td>\n",
              "      <td>Pagos mensuales de deuda verificados: $10</td>\n",
              "      <td>SOUTHERN CALIFORNIA</td>\n",
              "      <td>VERDADERO</td>\n",
              "      <td>100</td>\n",
              "    </tr>\n",
              "    <tr>\n",
              "      <th>7997</th>\n",
              "      <td>2500.0</td>\n",
              "      <td>07May2015:17:04:07.000000</td>\n",
              "      <td>2500</td>\n",
              "      <td>780-799</td>\n",
              "      <td>$10,001-$20,000</td>\n",
              "      <td>Ingreso mensual neto 2,870</td>\n",
              "      <td>SOUTHERN CALIFORNIA</td>\n",
              "      <td>FALSO</td>\n",
              "      <td>100</td>\n",
              "    </tr>\n",
              "  </tbody>\n",
              "</table>\n",
              "<p>3674 rows × 9 columns</p>\n",
              "</div>"
            ],
            "text/plain": [
              "        col_1       RECORD_CREATION_DATE  ...  PRESTAMO_INCUMPLIDO total\n",
              "1      2500.0  01May2014:09:48:36.000000  ...                FALSO   100\n",
              "3      4300.0  01May2014:10:31:25.000000  ...                FALSO   100\n",
              "4     20100.0  01May2014:10:46:54.000000  ...            VERDADERO   100\n",
              "6      2500.0  01May2014:11:23:11.000000  ...            VERDADERO   100\n",
              "9      2500.0  01May2014:12:32:41.000000  ...                FALSO   100\n",
              "...       ...                        ...  ...                  ...   ...\n",
              "7990   7000.0  07May2015:14:08:44.000000  ...            VERDADERO   100\n",
              "7992   2500.0  07May2015:14:43:58.000000  ...            VERDADERO   100\n",
              "7993   4400.0  07May2015:15:10:02.000000  ...            VERDADERO   100\n",
              "7996   2500.0  07May2015:16:38:22.000000  ...            VERDADERO   100\n",
              "7997   2500.0  07May2015:17:04:07.000000  ...                FALSO   100\n",
              "\n",
              "[3674 rows x 9 columns]"
            ]
          },
          "metadata": {
            "tags": []
          },
          "execution_count": 31
        }
      ]
    },
    {
      "cell_type": "markdown",
      "metadata": {
        "id": "bcCqOcoPPwWa"
      },
      "source": [
        "##Graficos"
      ]
    },
    {
      "cell_type": "code",
      "metadata": {
        "colab": {
          "base_uri": "https://localhost:8080/",
          "height": 265
        },
        "id": "Z_ZYD2sKPzKX",
        "outputId": "5d4e65de-9f59-4130-b12b-8be2e9d43d35"
      },
      "source": [
        "import matplotlib.pyplot as plt\n",
        "df['MONTO_DEL_PRESTAMO'].plot()\n",
        "plt.show()"
      ],
      "execution_count": 32,
      "outputs": [
        {
          "output_type": "display_data",
          "data": {
            "image/png": "[encoded data removed]",
            "text/plain": [
              "<Figure size 432x288 with 1 Axes>"
            ]
          },
          "metadata": {
            "tags": [],
            "needs_background": "light"
          }
        }
      ]
    },
    {
      "cell_type": "code",
      "metadata": {
        "colab": {
          "base_uri": "https://localhost:8080/",
          "height": 280
        },
        "id": "-lLBj9loo_Do",
        "outputId": "1d3ef4fc-c121-4dc8-8bee-1b02ede78cfc"
      },
      "source": [
        "df.plot(kind=\"scatter\", x=\"MONTO_DEL_PRESTAMO\", y=\"total\")\n",
        "plt.show()"
      ],
      "execution_count": 36,
      "outputs": [
        {
          "output_type": "display_data",
          "data": {
            "image/png": "[encoded data removed]",
            "text/plain": [
              "<Figure size 432x288 with 1 Axes>"
            ]
          },
          "metadata": {
            "tags": [],
            "needs_background": "light"
          }
        }
      ]
    },
    {
      "cell_type": "markdown",
      "metadata": {
        "id": "8L9U1jHKFAtC"
      },
      "source": [
        "#Ejercicio 2\n"
      ]
    },
    {
      "cell_type": "markdown",
      "metadata": {
        "id": "6-6C51rzGNtP"
      },
      "source": [
        "##Cargar datos"
      ]
    },
    {
      "cell_type": "code",
      "metadata": {
        "colab": {
          "base_uri": "https://localhost:8080/",
          "height": 359
        },
        "id": "L_ldF3ccFDfU",
        "outputId": "3fb04581-75bc-4ee4-8e2f-b07798701b48"
      },
      "source": [
        "import pandas as pd\n",
        "import matplotlib.pyplot as plt\n",
        "df = pd.read_csv(\"https://raw.githubusercontent.com/luisFernandoCastellanosG/Machine_learning/master/DataScience/DataSet's/user_timestamp.csv\")\n",
        "df.head(10)\n",
        "#print(df.shape)"
      ],
      "execution_count": 38,
      "outputs": [
        {
          "output_type": "execute_result",
          "data": {
            "text/html": [
              "<div>\n",
              "<style scoped>\n",
              "    .dataframe tbody tr th:only-of-type {\n",
              "        vertical-align: middle;\n",
              "    }\n",
              "\n",
              "    .dataframe tbody tr th {\n",
              "        vertical-align: top;\n",
              "    }\n",
              "\n",
              "    .dataframe thead th {\n",
              "        text-align: right;\n",
              "    }\n",
              "</style>\n",
              "<table border=\"1\" class=\"dataframe\">\n",
              "  <thead>\n",
              "    <tr style=\"text-align: right;\">\n",
              "      <th></th>\n",
              "      <th>user_id</th>\n",
              "      <th>timestamp</th>\n",
              "    </tr>\n",
              "  </thead>\n",
              "  <tbody>\n",
              "    <tr>\n",
              "      <th>0</th>\n",
              "      <td>621.0</td>\n",
              "      <td>0:00:02</td>\n",
              "    </tr>\n",
              "    <tr>\n",
              "      <th>1</th>\n",
              "      <td>818.0</td>\n",
              "      <td>0:00:10</td>\n",
              "    </tr>\n",
              "    <tr>\n",
              "      <th>2</th>\n",
              "      <td>4.0</td>\n",
              "      <td>0:00:21</td>\n",
              "    </tr>\n",
              "    <tr>\n",
              "      <th>3</th>\n",
              "      <td>563.0</td>\n",
              "      <td>0:00:21</td>\n",
              "    </tr>\n",
              "    <tr>\n",
              "      <th>4</th>\n",
              "      <td>671.0</td>\n",
              "      <td>0:00:26</td>\n",
              "    </tr>\n",
              "    <tr>\n",
              "      <th>5</th>\n",
              "      <td>780.0</td>\n",
              "      <td>0:00:28</td>\n",
              "    </tr>\n",
              "    <tr>\n",
              "      <th>6</th>\n",
              "      <td>136.0</td>\n",
              "      <td>0:00:33</td>\n",
              "    </tr>\n",
              "    <tr>\n",
              "      <th>7</th>\n",
              "      <td>621.0</td>\n",
              "      <td>0:00:58</td>\n",
              "    </tr>\n",
              "    <tr>\n",
              "      <th>8</th>\n",
              "      <td>136.0</td>\n",
              "      <td>0:01:00</td>\n",
              "    </tr>\n",
              "    <tr>\n",
              "      <th>9</th>\n",
              "      <td>831.0</td>\n",
              "      <td>0:01:04</td>\n",
              "    </tr>\n",
              "  </tbody>\n",
              "</table>\n",
              "</div>"
            ],
            "text/plain": [
              "   user_id timestamp\n",
              "0    621.0   0:00:02\n",
              "1    818.0   0:00:10\n",
              "2      4.0   0:00:21\n",
              "3    563.0   0:00:21\n",
              "4    671.0   0:00:26\n",
              "5    780.0   0:00:28\n",
              "6    136.0   0:00:33\n",
              "7    621.0   0:00:58\n",
              "8    136.0   0:01:00\n",
              "9    831.0   0:01:04"
            ]
          },
          "metadata": {
            "tags": []
          },
          "execution_count": 38
        }
      ]
    },
    {
      "cell_type": "markdown",
      "metadata": {
        "id": "CFeK_e42GV7M"
      },
      "source": [
        "##Eliminar datos nulos\n"
      ]
    },
    {
      "cell_type": "code",
      "metadata": {
        "colab": {
          "base_uri": "https://localhost:8080/",
          "height": 419
        },
        "id": "eSXUCZwiGY4w",
        "outputId": "f37f6b67-dd47-4a2e-9bdf-e71e6bd3387c"
      },
      "source": [
        "df.dropna()"
      ],
      "execution_count": 39,
      "outputs": [
        {
          "output_type": "execute_result",
          "data": {
            "text/html": [
              "<div>\n",
              "<style scoped>\n",
              "    .dataframe tbody tr th:only-of-type {\n",
              "        vertical-align: middle;\n",
              "    }\n",
              "\n",
              "    .dataframe tbody tr th {\n",
              "        vertical-align: top;\n",
              "    }\n",
              "\n",
              "    .dataframe thead th {\n",
              "        text-align: right;\n",
              "    }\n",
              "</style>\n",
              "<table border=\"1\" class=\"dataframe\">\n",
              "  <thead>\n",
              "    <tr style=\"text-align: right;\">\n",
              "      <th></th>\n",
              "      <th>user_id</th>\n",
              "      <th>timestamp</th>\n",
              "    </tr>\n",
              "  </thead>\n",
              "  <tbody>\n",
              "    <tr>\n",
              "      <th>0</th>\n",
              "      <td>621.0</td>\n",
              "      <td>0:00:02</td>\n",
              "    </tr>\n",
              "    <tr>\n",
              "      <th>1</th>\n",
              "      <td>818.0</td>\n",
              "      <td>0:00:10</td>\n",
              "    </tr>\n",
              "    <tr>\n",
              "      <th>2</th>\n",
              "      <td>4.0</td>\n",
              "      <td>0:00:21</td>\n",
              "    </tr>\n",
              "    <tr>\n",
              "      <th>3</th>\n",
              "      <td>563.0</td>\n",
              "      <td>0:00:21</td>\n",
              "    </tr>\n",
              "    <tr>\n",
              "      <th>4</th>\n",
              "      <td>671.0</td>\n",
              "      <td>0:00:26</td>\n",
              "    </tr>\n",
              "    <tr>\n",
              "      <th>...</th>\n",
              "      <td>...</td>\n",
              "      <td>...</td>\n",
              "    </tr>\n",
              "    <tr>\n",
              "      <th>61577</th>\n",
              "      <td>12.0</td>\n",
              "      <td>23:59:18</td>\n",
              "    </tr>\n",
              "    <tr>\n",
              "      <th>61578</th>\n",
              "      <td>646.0</td>\n",
              "      <td>23:59:20</td>\n",
              "    </tr>\n",
              "    <tr>\n",
              "      <th>61579</th>\n",
              "      <td>458.0</td>\n",
              "      <td>23:59:34</td>\n",
              "    </tr>\n",
              "    <tr>\n",
              "      <th>61580</th>\n",
              "      <td>968.0</td>\n",
              "      <td>23:59:53</td>\n",
              "    </tr>\n",
              "    <tr>\n",
              "      <th>61581</th>\n",
              "      <td>775.0</td>\n",
              "      <td>23:59:59</td>\n",
              "    </tr>\n",
              "  </tbody>\n",
              "</table>\n",
              "<p>61582 rows × 2 columns</p>\n",
              "</div>"
            ],
            "text/plain": [
              "       user_id timestamp\n",
              "0        621.0   0:00:02\n",
              "1        818.0   0:00:10\n",
              "2          4.0   0:00:21\n",
              "3        563.0   0:00:21\n",
              "4        671.0   0:00:26\n",
              "...        ...       ...\n",
              "61577     12.0  23:59:18\n",
              "61578    646.0  23:59:20\n",
              "61579    458.0  23:59:34\n",
              "61580    968.0  23:59:53\n",
              "61581    775.0  23:59:59\n",
              "\n",
              "[61582 rows x 2 columns]"
            ]
          },
          "metadata": {
            "tags": []
          },
          "execution_count": 39
        }
      ]
    },
    {
      "cell_type": "markdown",
      "metadata": {
        "id": "fLfWox75wamQ"
      },
      "source": [
        "##Filtrado\n"
      ]
    },
    {
      "cell_type": "code",
      "metadata": {
        "colab": {
          "base_uri": "https://localhost:8080/"
        },
        "id": "brssuJUPwfdw",
        "outputId": "43c8eab8-5f30-4946-f708-c53f60adab9b"
      },
      "source": [
        "[df['user_id']>10]"
      ],
      "execution_count": 40,
      "outputs": [
        {
          "output_type": "execute_result",
          "data": {
            "text/plain": [
              "[0         True\n",
              " 1         True\n",
              " 2        False\n",
              " 3         True\n",
              " 4         True\n",
              "          ...  \n",
              " 71991    False\n",
              " 71992    False\n",
              " 71993    False\n",
              " 71994    False\n",
              " 71995    False\n",
              " Name: user_id, Length: 71996, dtype: bool]"
            ]
          },
          "metadata": {
            "tags": []
          },
          "execution_count": 40
        }
      ]
    },
    {
      "cell_type": "markdown",
      "metadata": {
        "id": "ffGypyiJG1Gu"
      },
      "source": [
        "##Estadisticas_graficas"
      ]
    },
    {
      "cell_type": "code",
      "metadata": {
        "colab": {
          "base_uri": "https://localhost:8080/",
          "height": 265
        },
        "id": "OVtkmElHG5u2",
        "outputId": "37b37c53-b622-4474-c8ce-7e622bad09fb"
      },
      "source": [
        "import matplotlib.pyplot as plt\n",
        "df['user_id'].plot()\n",
        "plt.show()\n",
        "#plt.plot(user_id,timestamp)\n",
        "#plt.show()\n",
        "#df.groupby('user_id')['timestamp'].sum().plot(kind='bar', legend='Reverse')"
      ],
      "execution_count": 41,
      "outputs": [
        {
          "output_type": "display_data",
          "data": {
            "image/png": "[encoded data removed]",
            "text/plain": [
              "<Figure size 432x288 with 1 Axes>"
            ]
          },
          "metadata": {
            "tags": [],
            "needs_background": "light"
          }
        }
      ]
    },
    {
      "cell_type": "code",
      "metadata": {
        "id": "9Sxm6awFvDfL"
      },
      "source": [
        "##df.plot(kind=\"scatter\", x=\"user_id\", y=\"timestamp\")\n",
        "##plt.show()"
      ],
      "execution_count": 43,
      "outputs": []
    }
  ]
}