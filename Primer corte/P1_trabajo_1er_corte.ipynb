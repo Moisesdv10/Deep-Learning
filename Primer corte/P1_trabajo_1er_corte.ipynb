{
  "nbformat": 4,
  "nbformat_minor": 0,
  "metadata": {
    "colab": {
      "name": "P1_trabajo_1er_corte.ipynb",
      "provenance": [],
      "collapsed_sections": []
    },
    "kernelspec": {
      "name": "python3",
      "display_name": "Python 3"
    },
    "language_info": {
      "name": "python"
    }
  },
  "cells": [
    {
      "cell_type": "markdown",
      "metadata": {
        "id": "4yuNYWcd5RUX"
      },
      "source": [
        "#DATOS DE MERCADEO DE VALORES (Acciones de Bitcoins)"
      ]
    },
    {
      "cell_type": "markdown",
      "metadata": {
        "id": "iffSAzM2q60W"
      },
      "source": [
        "##Instalando librerías"
      ]
    },
    {
      "cell_type": "code",
      "metadata": {
        "colab": {
          "base_uri": "https://localhost:8080/"
        },
        "id": "hzsORl3-qfFS",
        "outputId": "984b5ff4-be83-45d8-851f-93ec4e8b8599"
      },
      "source": [
        "!pip install fsspec\n",
        "!pip install beautifulsoup4 "
      ],
      "execution_count": 198,
      "outputs": [
        {
          "output_type": "stream",
          "name": "stdout",
          "text": [
            "Requirement already satisfied: fsspec in /usr/local/lib/python3.7/dist-packages (2021.9.0)\n",
            "Requirement already satisfied: beautifulsoup4 in /usr/local/lib/python3.7/dist-packages (4.6.3)\n"
          ]
        }
      ]
    },
    {
      "cell_type": "markdown",
      "metadata": {
        "id": "7Vf8BjtarCgb"
      },
      "source": [
        "##Importando librebrías"
      ]
    },
    {
      "cell_type": "code",
      "metadata": {
        "id": "RMw73RUFqqrI"
      },
      "source": [
        "import numpy as np\n",
        "import pandas as pd\n",
        "from sklearn.cluster import KMeans\n",
        "from sklearn import preprocessing  #para normalizar los datos antes de aplicar al algoritmo\n",
        "from sklearn.metrics import pairwise_distances_argmin_min\n",
        "\n",
        "import matplotlib.pyplot as plt\n",
        "import seaborn as sb\n",
        "from mpl_toolkits.mplot3d import Axes3D   #para graficas en 3D\n",
        "\n",
        "import requests                           # libreria para manejar pedidos internet\n",
        "from bs4 import BeautifulSoup             # libreria para parsear documentos HTML\n",
        "\n",
        "#from wikitables import import_tables    # para descargar tablas de Wikipedia\n",
        "from sklearn.decomposition import PCA   # Análisis de componentes principales (PCA).\n",
        "\n",
        "#configuraciones basicas para PLT\n",
        "%matplotlib inline\n",
        "plt.rcParams['figure.figsize'] = (16, 9)\n",
        "plt.style.use('ggplot')"
      ],
      "execution_count": 199,
      "outputs": []
    },
    {
      "cell_type": "markdown",
      "metadata": {
        "id": "vjjNzD6v6g1Q"
      },
      "source": [
        "##Importando dataset"
      ]
    },
    {
      "cell_type": "markdown",
      "metadata": {
        "id": "GaOIez4NGpn2"
      },
      "source": [
        "https://github.com/Moisesdv10/Deep-Learning/blob/main/Databases/BTC-USD.csv"
      ]
    },
    {
      "cell_type": "code",
      "metadata": {
        "colab": {
          "base_uri": "https://localhost:8080/",
          "height": 824
        },
        "id": "N1c4oe6iGqfq",
        "outputId": "f91af025-7ebe-4e28-e651-3111585c73ce"
      },
      "source": [
        "df_bitcoins = pd.read_csv(\"https://raw.githubusercontent.com/Moisesdv10/Deep-Learning/main/Databases/BTC-USD.csv\")\n",
        "df_bitcoins.head(25)"
      ],
      "execution_count": 200,
      "outputs": [
        {
          "output_type": "execute_result",
          "data": {
            "text/html": [
              "<div>\n",
              "<style scoped>\n",
              "    .dataframe tbody tr th:only-of-type {\n",
              "        vertical-align: middle;\n",
              "    }\n",
              "\n",
              "    .dataframe tbody tr th {\n",
              "        vertical-align: top;\n",
              "    }\n",
              "\n",
              "    .dataframe thead th {\n",
              "        text-align: right;\n",
              "    }\n",
              "</style>\n",
              "<table border=\"1\" class=\"dataframe\">\n",
              "  <thead>\n",
              "    <tr style=\"text-align: right;\">\n",
              "      <th></th>\n",
              "      <th>Date</th>\n",
              "      <th>Open</th>\n",
              "      <th>High</th>\n",
              "      <th>Low</th>\n",
              "      <th>Close</th>\n",
              "      <th>Adj Close</th>\n",
              "      <th>Volume</th>\n",
              "    </tr>\n",
              "  </thead>\n",
              "  <tbody>\n",
              "    <tr>\n",
              "      <th>0</th>\n",
              "      <td>2014-09-17</td>\n",
              "      <td>465.864014</td>\n",
              "      <td>468.174011</td>\n",
              "      <td>452.421997</td>\n",
              "      <td>457.334015</td>\n",
              "      <td>457.334015</td>\n",
              "      <td>21056800.0</td>\n",
              "    </tr>\n",
              "    <tr>\n",
              "      <th>1</th>\n",
              "      <td>2014-09-18</td>\n",
              "      <td>456.859985</td>\n",
              "      <td>456.859985</td>\n",
              "      <td>413.104004</td>\n",
              "      <td>424.440002</td>\n",
              "      <td>424.440002</td>\n",
              "      <td>34483200.0</td>\n",
              "    </tr>\n",
              "    <tr>\n",
              "      <th>2</th>\n",
              "      <td>2014-09-19</td>\n",
              "      <td>424.102997</td>\n",
              "      <td>427.834991</td>\n",
              "      <td>384.532013</td>\n",
              "      <td>394.795990</td>\n",
              "      <td>394.795990</td>\n",
              "      <td>37919700.0</td>\n",
              "    </tr>\n",
              "    <tr>\n",
              "      <th>3</th>\n",
              "      <td>2014-09-20</td>\n",
              "      <td>394.673004</td>\n",
              "      <td>423.295990</td>\n",
              "      <td>389.882996</td>\n",
              "      <td>408.903992</td>\n",
              "      <td>408.903992</td>\n",
              "      <td>36863600.0</td>\n",
              "    </tr>\n",
              "    <tr>\n",
              "      <th>4</th>\n",
              "      <td>2014-09-21</td>\n",
              "      <td>408.084991</td>\n",
              "      <td>412.425995</td>\n",
              "      <td>393.181000</td>\n",
              "      <td>398.821014</td>\n",
              "      <td>398.821014</td>\n",
              "      <td>26580100.0</td>\n",
              "    </tr>\n",
              "    <tr>\n",
              "      <th>5</th>\n",
              "      <td>2014-09-22</td>\n",
              "      <td>399.100006</td>\n",
              "      <td>406.915985</td>\n",
              "      <td>397.130005</td>\n",
              "      <td>402.152008</td>\n",
              "      <td>402.152008</td>\n",
              "      <td>24127600.0</td>\n",
              "    </tr>\n",
              "    <tr>\n",
              "      <th>6</th>\n",
              "      <td>2014-09-23</td>\n",
              "      <td>402.092010</td>\n",
              "      <td>441.557007</td>\n",
              "      <td>396.196991</td>\n",
              "      <td>435.790985</td>\n",
              "      <td>435.790985</td>\n",
              "      <td>45099500.0</td>\n",
              "    </tr>\n",
              "    <tr>\n",
              "      <th>7</th>\n",
              "      <td>2014-09-24</td>\n",
              "      <td>435.751007</td>\n",
              "      <td>436.112000</td>\n",
              "      <td>421.131989</td>\n",
              "      <td>423.204987</td>\n",
              "      <td>423.204987</td>\n",
              "      <td>30627700.0</td>\n",
              "    </tr>\n",
              "    <tr>\n",
              "      <th>8</th>\n",
              "      <td>2014-09-25</td>\n",
              "      <td>423.156006</td>\n",
              "      <td>423.519989</td>\n",
              "      <td>409.467987</td>\n",
              "      <td>411.574005</td>\n",
              "      <td>411.574005</td>\n",
              "      <td>26814400.0</td>\n",
              "    </tr>\n",
              "    <tr>\n",
              "      <th>9</th>\n",
              "      <td>2014-09-26</td>\n",
              "      <td>411.428986</td>\n",
              "      <td>414.937988</td>\n",
              "      <td>400.009003</td>\n",
              "      <td>404.424988</td>\n",
              "      <td>404.424988</td>\n",
              "      <td>21460800.0</td>\n",
              "    </tr>\n",
              "    <tr>\n",
              "      <th>10</th>\n",
              "      <td>2014-09-27</td>\n",
              "      <td>403.556000</td>\n",
              "      <td>406.622986</td>\n",
              "      <td>397.372009</td>\n",
              "      <td>399.519989</td>\n",
              "      <td>399.519989</td>\n",
              "      <td>15029300.0</td>\n",
              "    </tr>\n",
              "    <tr>\n",
              "      <th>11</th>\n",
              "      <td>2014-09-28</td>\n",
              "      <td>399.471008</td>\n",
              "      <td>401.016998</td>\n",
              "      <td>374.332001</td>\n",
              "      <td>377.181000</td>\n",
              "      <td>377.181000</td>\n",
              "      <td>23613300.0</td>\n",
              "    </tr>\n",
              "    <tr>\n",
              "      <th>12</th>\n",
              "      <td>2014-09-29</td>\n",
              "      <td>376.928009</td>\n",
              "      <td>385.210999</td>\n",
              "      <td>372.239990</td>\n",
              "      <td>375.467010</td>\n",
              "      <td>375.467010</td>\n",
              "      <td>32497700.0</td>\n",
              "    </tr>\n",
              "    <tr>\n",
              "      <th>13</th>\n",
              "      <td>2014-09-30</td>\n",
              "      <td>376.088013</td>\n",
              "      <td>390.976990</td>\n",
              "      <td>373.442993</td>\n",
              "      <td>386.944000</td>\n",
              "      <td>386.944000</td>\n",
              "      <td>34707300.0</td>\n",
              "    </tr>\n",
              "    <tr>\n",
              "      <th>14</th>\n",
              "      <td>2014-10-01</td>\n",
              "      <td>387.427002</td>\n",
              "      <td>391.378998</td>\n",
              "      <td>380.779999</td>\n",
              "      <td>383.614990</td>\n",
              "      <td>383.614990</td>\n",
              "      <td>26229400.0</td>\n",
              "    </tr>\n",
              "    <tr>\n",
              "      <th>15</th>\n",
              "      <td>2014-10-02</td>\n",
              "      <td>383.988007</td>\n",
              "      <td>385.497009</td>\n",
              "      <td>372.946014</td>\n",
              "      <td>375.071991</td>\n",
              "      <td>375.071991</td>\n",
              "      <td>21777700.0</td>\n",
              "    </tr>\n",
              "    <tr>\n",
              "      <th>16</th>\n",
              "      <td>2014-10-03</td>\n",
              "      <td>375.181000</td>\n",
              "      <td>377.695007</td>\n",
              "      <td>357.859009</td>\n",
              "      <td>359.511993</td>\n",
              "      <td>359.511993</td>\n",
              "      <td>30901200.0</td>\n",
              "    </tr>\n",
              "    <tr>\n",
              "      <th>17</th>\n",
              "      <td>2014-10-04</td>\n",
              "      <td>359.891998</td>\n",
              "      <td>364.487000</td>\n",
              "      <td>325.885986</td>\n",
              "      <td>328.865997</td>\n",
              "      <td>328.865997</td>\n",
              "      <td>47236500.0</td>\n",
              "    </tr>\n",
              "    <tr>\n",
              "      <th>18</th>\n",
              "      <td>2014-10-05</td>\n",
              "      <td>328.915985</td>\n",
              "      <td>341.800995</td>\n",
              "      <td>289.295990</td>\n",
              "      <td>320.510010</td>\n",
              "      <td>320.510010</td>\n",
              "      <td>83308096.0</td>\n",
              "    </tr>\n",
              "    <tr>\n",
              "      <th>19</th>\n",
              "      <td>2014-10-06</td>\n",
              "      <td>320.389008</td>\n",
              "      <td>345.134003</td>\n",
              "      <td>302.559998</td>\n",
              "      <td>330.079010</td>\n",
              "      <td>330.079010</td>\n",
              "      <td>79011800.0</td>\n",
              "    </tr>\n",
              "    <tr>\n",
              "      <th>20</th>\n",
              "      <td>2014-10-07</td>\n",
              "      <td>330.584015</td>\n",
              "      <td>339.247009</td>\n",
              "      <td>320.481995</td>\n",
              "      <td>336.187012</td>\n",
              "      <td>336.187012</td>\n",
              "      <td>49199900.0</td>\n",
              "    </tr>\n",
              "    <tr>\n",
              "      <th>21</th>\n",
              "      <td>2014-10-08</td>\n",
              "      <td>336.115997</td>\n",
              "      <td>354.364014</td>\n",
              "      <td>327.187988</td>\n",
              "      <td>352.940002</td>\n",
              "      <td>352.940002</td>\n",
              "      <td>54736300.0</td>\n",
              "    </tr>\n",
              "    <tr>\n",
              "      <th>22</th>\n",
              "      <td>2014-10-09</td>\n",
              "      <td>352.747986</td>\n",
              "      <td>382.726013</td>\n",
              "      <td>347.687012</td>\n",
              "      <td>365.026001</td>\n",
              "      <td>365.026001</td>\n",
              "      <td>83641104.0</td>\n",
              "    </tr>\n",
              "    <tr>\n",
              "      <th>23</th>\n",
              "      <td>2014-10-10</td>\n",
              "      <td>364.687012</td>\n",
              "      <td>375.066986</td>\n",
              "      <td>352.963013</td>\n",
              "      <td>361.562012</td>\n",
              "      <td>361.562012</td>\n",
              "      <td>43665700.0</td>\n",
              "    </tr>\n",
              "    <tr>\n",
              "      <th>24</th>\n",
              "      <td>2014-10-11</td>\n",
              "      <td>361.362000</td>\n",
              "      <td>367.191010</td>\n",
              "      <td>355.950989</td>\n",
              "      <td>362.299011</td>\n",
              "      <td>362.299011</td>\n",
              "      <td>13345200.0</td>\n",
              "    </tr>\n",
              "  </tbody>\n",
              "</table>\n",
              "</div>"
            ],
            "text/plain": [
              "          Date        Open        High  ...       Close   Adj Close      Volume\n",
              "0   2014-09-17  465.864014  468.174011  ...  457.334015  457.334015  21056800.0\n",
              "1   2014-09-18  456.859985  456.859985  ...  424.440002  424.440002  34483200.0\n",
              "2   2014-09-19  424.102997  427.834991  ...  394.795990  394.795990  37919700.0\n",
              "3   2014-09-20  394.673004  423.295990  ...  408.903992  408.903992  36863600.0\n",
              "4   2014-09-21  408.084991  412.425995  ...  398.821014  398.821014  26580100.0\n",
              "5   2014-09-22  399.100006  406.915985  ...  402.152008  402.152008  24127600.0\n",
              "6   2014-09-23  402.092010  441.557007  ...  435.790985  435.790985  45099500.0\n",
              "7   2014-09-24  435.751007  436.112000  ...  423.204987  423.204987  30627700.0\n",
              "8   2014-09-25  423.156006  423.519989  ...  411.574005  411.574005  26814400.0\n",
              "9   2014-09-26  411.428986  414.937988  ...  404.424988  404.424988  21460800.0\n",
              "10  2014-09-27  403.556000  406.622986  ...  399.519989  399.519989  15029300.0\n",
              "11  2014-09-28  399.471008  401.016998  ...  377.181000  377.181000  23613300.0\n",
              "12  2014-09-29  376.928009  385.210999  ...  375.467010  375.467010  32497700.0\n",
              "13  2014-09-30  376.088013  390.976990  ...  386.944000  386.944000  34707300.0\n",
              "14  2014-10-01  387.427002  391.378998  ...  383.614990  383.614990  26229400.0\n",
              "15  2014-10-02  383.988007  385.497009  ...  375.071991  375.071991  21777700.0\n",
              "16  2014-10-03  375.181000  377.695007  ...  359.511993  359.511993  30901200.0\n",
              "17  2014-10-04  359.891998  364.487000  ...  328.865997  328.865997  47236500.0\n",
              "18  2014-10-05  328.915985  341.800995  ...  320.510010  320.510010  83308096.0\n",
              "19  2014-10-06  320.389008  345.134003  ...  330.079010  330.079010  79011800.0\n",
              "20  2014-10-07  330.584015  339.247009  ...  336.187012  336.187012  49199900.0\n",
              "21  2014-10-08  336.115997  354.364014  ...  352.940002  352.940002  54736300.0\n",
              "22  2014-10-09  352.747986  382.726013  ...  365.026001  365.026001  83641104.0\n",
              "23  2014-10-10  364.687012  375.066986  ...  361.562012  361.562012  43665700.0\n",
              "24  2014-10-11  361.362000  367.191010  ...  362.299011  362.299011  13345200.0\n",
              "\n",
              "[25 rows x 7 columns]"
            ]
          },
          "metadata": {},
          "execution_count": 200
        }
      ]
    },
    {
      "cell_type": "code",
      "metadata": {
        "colab": {
          "base_uri": "https://localhost:8080/"
        },
        "id": "Rj64DvNbNdc0",
        "outputId": "12bb3302-e4bb-49c5-9a97-705c94253516"
      },
      "source": [
        "df_bitcoins.info()"
      ],
      "execution_count": 201,
      "outputs": [
        {
          "output_type": "stream",
          "name": "stdout",
          "text": [
            "<class 'pandas.core.frame.DataFrame'>\n",
            "RangeIndex: 2566 entries, 0 to 2565\n",
            "Data columns (total 7 columns):\n",
            " #   Column     Non-Null Count  Dtype  \n",
            "---  ------     --------------  -----  \n",
            " 0   Date       2566 non-null   object \n",
            " 1   Open       2562 non-null   float64\n",
            " 2   High       2562 non-null   float64\n",
            " 3   Low        2562 non-null   float64\n",
            " 4   Close      2562 non-null   float64\n",
            " 5   Adj Close  2562 non-null   float64\n",
            " 6   Volume     2562 non-null   float64\n",
            "dtypes: float64(6), object(1)\n",
            "memory usage: 140.5+ KB\n"
          ]
        }
      ]
    },
    {
      "cell_type": "markdown",
      "metadata": {
        "id": "7hP6xtrE6mVv"
      },
      "source": [
        "## Conociendo y Preprocesando los datos"
      ]
    },
    {
      "cell_type": "code",
      "metadata": {
        "colab": {
          "base_uri": "https://localhost:8080/"
        },
        "id": "Yxi23ye3G9wk",
        "outputId": "ee760647-b98a-4994-b2f4-2a62560a6d96"
      },
      "source": [
        "#df_bitcoins.info()\n",
        "#df_bitcoins.describe()\n",
        "df_bitcoins.isnull().sum()"
      ],
      "execution_count": 202,
      "outputs": [
        {
          "output_type": "execute_result",
          "data": {
            "text/plain": [
              "Date         0\n",
              "Open         4\n",
              "High         4\n",
              "Low          4\n",
              "Close        4\n",
              "Adj Close    4\n",
              "Volume       4\n",
              "dtype: int64"
            ]
          },
          "metadata": {},
          "execution_count": 202
        }
      ]
    },
    {
      "cell_type": "markdown",
      "metadata": {
        "id": "hvWmQ7w782is"
      },
      "source": [
        "##Eliminando filas vacías"
      ]
    },
    {
      "cell_type": "code",
      "metadata": {
        "id": "zIPCoIbU80wE"
      },
      "source": [
        "df_bitcoins = df_bitcoins.dropna()\n",
        "df_bitcoins = df_bitcoins.reset_index(drop=True)"
      ],
      "execution_count": 203,
      "outputs": []
    },
    {
      "cell_type": "markdown",
      "metadata": {
        "id": "nWj0Ox4j6YwJ"
      },
      "source": [
        "##cambiando el tipo de dato de Date a DATATIME"
      ]
    },
    {
      "cell_type": "code",
      "metadata": {
        "id": "KVRqIkvW1_ng",
        "colab": {
          "base_uri": "https://localhost:8080/",
          "height": 204
        },
        "outputId": "f0b5030f-af62-4a0a-ed4d-79de601280f1"
      },
      "source": [
        "df_bitcoins['Date']=pd.to_datetime(df_bitcoins['Date'])       # Convertimos el campo DATE en tipo fecha\n",
        "df_bitcoins = df_bitcoins.rename(columns={'Name':'symbol'})   #cambiamos el nombre la col de NAME a  SYMBOL\n",
        "df_bitcoins.head()"
      ],
      "execution_count": 205,
      "outputs": [
        {
          "output_type": "execute_result",
          "data": {
            "text/html": [
              "<div>\n",
              "<style scoped>\n",
              "    .dataframe tbody tr th:only-of-type {\n",
              "        vertical-align: middle;\n",
              "    }\n",
              "\n",
              "    .dataframe tbody tr th {\n",
              "        vertical-align: top;\n",
              "    }\n",
              "\n",
              "    .dataframe thead th {\n",
              "        text-align: right;\n",
              "    }\n",
              "</style>\n",
              "<table border=\"1\" class=\"dataframe\">\n",
              "  <thead>\n",
              "    <tr style=\"text-align: right;\">\n",
              "      <th></th>\n",
              "      <th>Date</th>\n",
              "      <th>Open</th>\n",
              "      <th>High</th>\n",
              "      <th>Low</th>\n",
              "      <th>Close</th>\n",
              "      <th>Adj Close</th>\n",
              "      <th>Volume</th>\n",
              "    </tr>\n",
              "  </thead>\n",
              "  <tbody>\n",
              "    <tr>\n",
              "      <th>0</th>\n",
              "      <td>2014-09-17</td>\n",
              "      <td>465.864014</td>\n",
              "      <td>468.174011</td>\n",
              "      <td>452.421997</td>\n",
              "      <td>457.334015</td>\n",
              "      <td>457.334015</td>\n",
              "      <td>21056800.0</td>\n",
              "    </tr>\n",
              "    <tr>\n",
              "      <th>1</th>\n",
              "      <td>2014-09-18</td>\n",
              "      <td>456.859985</td>\n",
              "      <td>456.859985</td>\n",
              "      <td>413.104004</td>\n",
              "      <td>424.440002</td>\n",
              "      <td>424.440002</td>\n",
              "      <td>34483200.0</td>\n",
              "    </tr>\n",
              "    <tr>\n",
              "      <th>2</th>\n",
              "      <td>2014-09-19</td>\n",
              "      <td>424.102997</td>\n",
              "      <td>427.834991</td>\n",
              "      <td>384.532013</td>\n",
              "      <td>394.795990</td>\n",
              "      <td>394.795990</td>\n",
              "      <td>37919700.0</td>\n",
              "    </tr>\n",
              "    <tr>\n",
              "      <th>3</th>\n",
              "      <td>2014-09-20</td>\n",
              "      <td>394.673004</td>\n",
              "      <td>423.295990</td>\n",
              "      <td>389.882996</td>\n",
              "      <td>408.903992</td>\n",
              "      <td>408.903992</td>\n",
              "      <td>36863600.0</td>\n",
              "    </tr>\n",
              "    <tr>\n",
              "      <th>4</th>\n",
              "      <td>2014-09-21</td>\n",
              "      <td>408.084991</td>\n",
              "      <td>412.425995</td>\n",
              "      <td>393.181000</td>\n",
              "      <td>398.821014</td>\n",
              "      <td>398.821014</td>\n",
              "      <td>26580100.0</td>\n",
              "    </tr>\n",
              "  </tbody>\n",
              "</table>\n",
              "</div>"
            ],
            "text/plain": [
              "        Date        Open        High  ...       Close   Adj Close      Volume\n",
              "0 2014-09-17  465.864014  468.174011  ...  457.334015  457.334015  21056800.0\n",
              "1 2014-09-18  456.859985  456.859985  ...  424.440002  424.440002  34483200.0\n",
              "2 2014-09-19  424.102997  427.834991  ...  394.795990  394.795990  37919700.0\n",
              "3 2014-09-20  394.673004  423.295990  ...  408.903992  408.903992  36863600.0\n",
              "4 2014-09-21  408.084991  412.425995  ...  398.821014  398.821014  26580100.0\n",
              "\n",
              "[5 rows x 7 columns]"
            ]
          },
          "metadata": {},
          "execution_count": 205
        }
      ]
    },
    {
      "cell_type": "code",
      "metadata": {
        "colab": {
          "base_uri": "https://localhost:8080/"
        },
        "id": "sFK91FieN4u9",
        "outputId": "86ca085f-d6bf-473b-f073-60180d4ed750"
      },
      "source": [
        "df_bitcoins.info()"
      ],
      "execution_count": 206,
      "outputs": [
        {
          "output_type": "stream",
          "name": "stdout",
          "text": [
            "<class 'pandas.core.frame.DataFrame'>\n",
            "RangeIndex: 2562 entries, 0 to 2561\n",
            "Data columns (total 7 columns):\n",
            " #   Column     Non-Null Count  Dtype         \n",
            "---  ------     --------------  -----         \n",
            " 0   Date       2562 non-null   datetime64[ns]\n",
            " 1   Open       2562 non-null   float64       \n",
            " 2   High       2562 non-null   float64       \n",
            " 3   Low        2562 non-null   float64       \n",
            " 4   Close      2562 non-null   float64       \n",
            " 5   Adj Close  2562 non-null   float64       \n",
            " 6   Volume     2562 non-null   float64       \n",
            "dtypes: datetime64[ns](1), float64(6)\n",
            "memory usage: 140.2 KB\n"
          ]
        }
      ]
    },
    {
      "cell_type": "code",
      "metadata": {
        "colab": {
          "base_uri": "https://localhost:8080/"
        },
        "id": "Uln_nsuAOHbj",
        "outputId": "2eafa41e-b865-434c-cb13-bb483a62876b"
      },
      "source": [
        "df_bitcoins.isnull().sum()"
      ],
      "execution_count": 207,
      "outputs": [
        {
          "output_type": "execute_result",
          "data": {
            "text/plain": [
              "Date         0\n",
              "Open         0\n",
              "High         0\n",
              "Low          0\n",
              "Close        0\n",
              "Adj Close    0\n",
              "Volume       0\n",
              "dtype: int64"
            ]
          },
          "metadata": {},
          "execution_count": 207
        }
      ]
    },
    {
      "cell_type": "markdown",
      "metadata": {
        "id": "eGVR4jCs-D7K"
      },
      "source": [
        "##Definidiendo que columnas usaremos para el ejercicio"
      ]
    },
    {
      "cell_type": "code",
      "metadata": {
        "colab": {
          "base_uri": "https://localhost:8080/",
          "height": 235
        },
        "id": "0Pc_A7HT8rbq",
        "outputId": "7d6e1991-b438-497d-91a1-f20b2dc3bc59"
      },
      "source": [
        "df_bitcoins = df_bitcoins[['Close','Volume']]\n",
        "df_bitcoins.head()"
      ],
      "execution_count": 215,
      "outputs": [
        {
          "output_type": "execute_result",
          "data": {
            "text/html": [
              "<div>\n",
              "<style scoped>\n",
              "    .dataframe tbody tr th:only-of-type {\n",
              "        vertical-align: middle;\n",
              "    }\n",
              "\n",
              "    .dataframe tbody tr th {\n",
              "        vertical-align: top;\n",
              "    }\n",
              "\n",
              "    .dataframe thead th {\n",
              "        text-align: right;\n",
              "    }\n",
              "</style>\n",
              "<table border=\"1\" class=\"dataframe\">\n",
              "  <thead>\n",
              "    <tr style=\"text-align: right;\">\n",
              "      <th></th>\n",
              "      <th>Close</th>\n",
              "      <th>Volume</th>\n",
              "    </tr>\n",
              "    <tr>\n",
              "      <th>Date</th>\n",
              "      <th></th>\n",
              "      <th></th>\n",
              "    </tr>\n",
              "  </thead>\n",
              "  <tbody>\n",
              "    <tr>\n",
              "      <th>2014-09-21</th>\n",
              "      <td>398.821014</td>\n",
              "      <td>26580100.0</td>\n",
              "    </tr>\n",
              "    <tr>\n",
              "      <th>2014-09-28</th>\n",
              "      <td>377.181000</td>\n",
              "      <td>23613300.0</td>\n",
              "    </tr>\n",
              "    <tr>\n",
              "      <th>2014-10-05</th>\n",
              "      <td>320.510010</td>\n",
              "      <td>83308096.0</td>\n",
              "    </tr>\n",
              "    <tr>\n",
              "      <th>2014-10-12</th>\n",
              "      <td>378.549011</td>\n",
              "      <td>17552800.0</td>\n",
              "    </tr>\n",
              "    <tr>\n",
              "      <th>2014-10-19</th>\n",
              "      <td>389.545990</td>\n",
              "      <td>5914570.0</td>\n",
              "    </tr>\n",
              "  </tbody>\n",
              "</table>\n",
              "</div>"
            ],
            "text/plain": [
              "                 Close      Volume\n",
              "Date                              \n",
              "2014-09-21  398.821014  26580100.0\n",
              "2014-09-28  377.181000  23613300.0\n",
              "2014-10-05  320.510010  83308096.0\n",
              "2014-10-12  378.549011  17552800.0\n",
              "2014-10-19  389.545990   5914570.0"
            ]
          },
          "metadata": {},
          "execution_count": 215
        }
      ]
    },
    {
      "cell_type": "markdown",
      "metadata": {
        "id": "6RllnvG_Uzsm"
      },
      "source": [
        "###Normalización de los datos usando como base la fecha\n",
        "\n",
        "---\n",
        "Puede decidir volver a muestrear los datos:\n",
        "\n",
        "*  W - para datos semanales\n",
        "*  M - para datos mensuales\n",
        "*  Q - para el trimestre\n",
        "*  A - por año"
      ]
    },
    {
      "cell_type": "code",
      "metadata": {
        "colab": {
          "base_uri": "https://localhost:8080/",
          "height": 235
        },
        "id": "GLbw5ds0Uloy",
        "outputId": "ab9b1cec-6032-401f-840c-d3277fdc702b"
      },
      "source": [
        "df_bitcoins = df_bitcoins.resample('W').last()\n",
        "df_bitcoins.head()\n",
        "#df['date'] = pd.to_datetime(df['date'])\n",
        "#weekly_summary = df.story_point.resample('W', on='date').sum()"
      ],
      "execution_count": 216,
      "outputs": [
        {
          "output_type": "execute_result",
          "data": {
            "text/html": [
              "<div>\n",
              "<style scoped>\n",
              "    .dataframe tbody tr th:only-of-type {\n",
              "        vertical-align: middle;\n",
              "    }\n",
              "\n",
              "    .dataframe tbody tr th {\n",
              "        vertical-align: top;\n",
              "    }\n",
              "\n",
              "    .dataframe thead th {\n",
              "        text-align: right;\n",
              "    }\n",
              "</style>\n",
              "<table border=\"1\" class=\"dataframe\">\n",
              "  <thead>\n",
              "    <tr style=\"text-align: right;\">\n",
              "      <th></th>\n",
              "      <th>Close</th>\n",
              "      <th>Volume</th>\n",
              "    </tr>\n",
              "    <tr>\n",
              "      <th>Date</th>\n",
              "      <th></th>\n",
              "      <th></th>\n",
              "    </tr>\n",
              "  </thead>\n",
              "  <tbody>\n",
              "    <tr>\n",
              "      <th>2014-09-21</th>\n",
              "      <td>398.821014</td>\n",
              "      <td>26580100.0</td>\n",
              "    </tr>\n",
              "    <tr>\n",
              "      <th>2014-09-28</th>\n",
              "      <td>377.181000</td>\n",
              "      <td>23613300.0</td>\n",
              "    </tr>\n",
              "    <tr>\n",
              "      <th>2014-10-05</th>\n",
              "      <td>320.510010</td>\n",
              "      <td>83308096.0</td>\n",
              "    </tr>\n",
              "    <tr>\n",
              "      <th>2014-10-12</th>\n",
              "      <td>378.549011</td>\n",
              "      <td>17552800.0</td>\n",
              "    </tr>\n",
              "    <tr>\n",
              "      <th>2014-10-19</th>\n",
              "      <td>389.545990</td>\n",
              "      <td>5914570.0</td>\n",
              "    </tr>\n",
              "  </tbody>\n",
              "</table>\n",
              "</div>"
            ],
            "text/plain": [
              "                 Close      Volume\n",
              "Date                              \n",
              "2014-09-21  398.821014  26580100.0\n",
              "2014-09-28  377.181000  23613300.0\n",
              "2014-10-05  320.510010  83308096.0\n",
              "2014-10-12  378.549011  17552800.0\n",
              "2014-10-19  389.545990   5914570.0"
            ]
          },
          "metadata": {},
          "execution_count": 216
        }
      ]
    },
    {
      "cell_type": "code",
      "metadata": {
        "id": "Y0G0NnYQJ7Oc",
        "colab": {
          "base_uri": "https://localhost:8080/",
          "height": 571
        },
        "outputId": "0e689f0d-abbe-4773-f5c3-9ba36a928c2d"
      },
      "source": [
        "plot_stock('Close')\n",
        "plot_stock('Volume')\n",
        "plt.title('Valor de Cierre de las acciones')\n",
        "plt.legend();"
      ],
      "execution_count": 224,
      "outputs": [
        {
          "output_type": "display_data",
          "data": {
            "image/png": "[encoded data removed]",
            "text/plain": [
              "<Figure size 1152x648 with 1 Axes>"
            ]
          },
          "metadata": {}
        }
      ]
    },
    {
      "cell_type": "code",
      "metadata": {
        "colab": {
          "base_uri": "https://localhost:8080/",
          "height": 588
        },
        "id": "5VqBzRzpL16y",
        "outputId": "ff8a0735-c315-4fe7-8548-76a6e1a660eb"
      },
      "source": [
        "#%% Representación gráfica de los datos.\n",
        "x = df_escalado['Close'].values\n",
        "y = df_escalado['Volume'].values\n",
        "plt.xlabel('apertura de precios')\n",
        "plt.ylabel('Volumen')\n",
        "plt.title('Bitcoins CIERRE vs. VOLUMEN')\n",
        "plt.plot(x,y,'o',markersize=1)"
      ],
      "execution_count": 251,
      "outputs": [
        {
          "output_type": "execute_result",
          "data": {
            "text/plain": [
              "[<matplotlib.lines.Line2D at 0x7faf41995750>]"
            ]
          },
          "metadata": {},
          "execution_count": 251
        },
        {
          "output_type": "display_data",
          "data": {
            "image/png": "[encoded data removed]",
            "text/plain": [
              "<Figure size 1152x648 with 1 Axes>"
            ]
          },
          "metadata": {}
        }
      ]
    },
    {
      "cell_type": "markdown",
      "metadata": {
        "id": "9i-6m4dEXk12"
      },
      "source": [
        "##Aplicación de k-means."
      ]
    },
    {
      "cell_type": "code",
      "metadata": {
        "colab": {
          "base_uri": "https://localhost:8080/",
          "height": 582
        },
        "id": "JHAVfTZOXgzj",
        "outputId": "94182640-6c79-4bbf-f87e-05791866fca0"
      },
      "source": [
        "#%% Curva elbow para determinar valor óptimo de k.\n",
        "nc = range(1, 30) # El número de iteraciones que queremos hacer.\n",
        "kmeans = [KMeans(n_clusters=i) for i in nc]\n",
        "score = [kmeans[i].fit(df_bitcoins).score(df_bitcoins) for i in range(len(kmeans))]\n",
        "score\n",
        "plt.xlabel('Número de clústeres (k)')\n",
        "plt.ylabel('Suma de los errores cuadráticos')\n",
        "plt.plot(nc,score)"
      ],
      "execution_count": 226,
      "outputs": [
        {
          "output_type": "execute_result",
          "data": {
            "text/plain": [
              "[<matplotlib.lines.Line2D at 0x7faf4201c790>]"
            ]
          },
          "metadata": {},
          "execution_count": 226
        },
        {
          "output_type": "display_data",
          "data": {
            "image/png": "[encoded data removed]",
            "text/plain": [
              "<Figure size 1152x648 with 1 Axes>"
            ]
          },
          "metadata": {}
        }
      ]
    },
    {
      "cell_type": "code",
      "metadata": {
        "colab": {
          "base_uri": "https://localhost:8080/"
        },
        "id": "TMH0subVXz_q",
        "outputId": "6572f2fd-7969-4b73-fda0-f846ffeefc19"
      },
      "source": [
        "#%% Aplicación de k-means con k = 5.\n",
        "kmeans = KMeans(n_clusters=5).fit(df_bitcoins)\n",
        "centroids = kmeans.cluster_centers_\n",
        "print(centroids)   #coordenadas de los centroides"
      ],
      "execution_count": 228,
      "outputs": [
        {
          "output_type": "stream",
          "name": "stdout",
          "text": [
            "[[2.45840036e+03 1.50334841e+09]\n",
            " [3.57166110e+04 4.53956982e+10]\n",
            " [1.07041596e+04 1.51346189e+10]\n",
            " [1.91653678e+04 2.89650786e+10]\n",
            " [3.89463062e+04 7.31093183e+10]]\n"
          ]
        }
      ]
    },
    {
      "cell_type": "code",
      "metadata": {
        "colab": {
          "base_uri": "https://localhost:8080/",
          "height": 571
        },
        "id": "EYpA0mCJYK89",
        "outputId": "f597bd37-3165-4649-875e-1d85a9e15a17"
      },
      "source": [
        "#%% Plot k-means clustering.\n",
        "colores=['red','green','blue','yellow','fuchsia']\n",
        "asignar=[]\n",
        "for row in labels:\n",
        "     asignar.append(colores[row])\n",
        "plt.scatter(x, y, c=asignar, s=1)\n",
        "plt.scatter(centroids[:, 0], centroids[:, 1], marker='*', c='black', s=20) # Marco centroides.\n",
        "plt.xlabel('Precio de cierre')\n",
        "plt.ylabel('Volumen')\n",
        "plt.title('Bitcoins k-means clustering')\n",
        "plt.show()"
      ],
      "execution_count": 246,
      "outputs": [
        {
          "output_type": "display_data",
          "data": {
            "image/png": "[encoded data removed]",
            "text/plain": [
              "<Figure size 1152x648 with 1 Axes>"
            ]
          },
          "metadata": {}
        }
      ]
    },
    {
      "cell_type": "code",
      "metadata": {
        "colab": {
          "base_uri": "https://localhost:8080/",
          "height": 204
        },
        "id": "5be46X8ZaS0V",
        "outputId": "7cc20137-62be-4f1b-aa53-246854a0a5ad"
      },
      "source": [
        "df_cluster = pd.DataFrame()\n",
        "df_cluster['data_index']= df_bitcoins.index.values\n",
        "df_cluster['data_index']= df_bitcoins.Close\n",
        "df_cluster['cluster']=kmeans.labels_\n",
        "df_cluster.head()"
      ],
      "execution_count": 254,
      "outputs": [
        {
          "output_type": "execute_result",
          "data": {
            "text/html": [
              "<div>\n",
              "<style scoped>\n",
              "    .dataframe tbody tr th:only-of-type {\n",
              "        vertical-align: middle;\n",
              "    }\n",
              "\n",
              "    .dataframe tbody tr th {\n",
              "        vertical-align: top;\n",
              "    }\n",
              "\n",
              "    .dataframe thead th {\n",
              "        text-align: right;\n",
              "    }\n",
              "</style>\n",
              "<table border=\"1\" class=\"dataframe\">\n",
              "  <thead>\n",
              "    <tr style=\"text-align: right;\">\n",
              "      <th></th>\n",
              "      <th>data_index</th>\n",
              "      <th>cluster</th>\n",
              "    </tr>\n",
              "  </thead>\n",
              "  <tbody>\n",
              "    <tr>\n",
              "      <th>0</th>\n",
              "      <td>NaN</td>\n",
              "      <td>0</td>\n",
              "    </tr>\n",
              "    <tr>\n",
              "      <th>1</th>\n",
              "      <td>NaN</td>\n",
              "      <td>0</td>\n",
              "    </tr>\n",
              "    <tr>\n",
              "      <th>2</th>\n",
              "      <td>NaN</td>\n",
              "      <td>0</td>\n",
              "    </tr>\n",
              "    <tr>\n",
              "      <th>3</th>\n",
              "      <td>NaN</td>\n",
              "      <td>0</td>\n",
              "    </tr>\n",
              "    <tr>\n",
              "      <th>4</th>\n",
              "      <td>NaN</td>\n",
              "      <td>0</td>\n",
              "    </tr>\n",
              "  </tbody>\n",
              "</table>\n",
              "</div>"
            ],
            "text/plain": [
              "   data_index  cluster\n",
              "0         NaN        0\n",
              "1         NaN        0\n",
              "2         NaN        0\n",
              "3         NaN        0\n",
              "4         NaN        0"
            ]
          },
          "metadata": {},
          "execution_count": 254
        }
      ]
    },
    {
      "cell_type": "code",
      "metadata": {
        "colab": {
          "base_uri": "https://localhost:8080/",
          "height": 419
        },
        "id": "_2XjOPPwazPB",
        "outputId": "0c3cff89-5b96-4135-c8e7-4bcf35899252"
      },
      "source": [
        "df_cluster[df_cluster.cluster == 2]"
      ],
      "execution_count": 249,
      "outputs": [
        {
          "output_type": "execute_result",
          "data": {
            "text/html": [
              "<div>\n",
              "<style scoped>\n",
              "    .dataframe tbody tr th:only-of-type {\n",
              "        vertical-align: middle;\n",
              "    }\n",
              "\n",
              "    .dataframe tbody tr th {\n",
              "        vertical-align: top;\n",
              "    }\n",
              "\n",
              "    .dataframe thead th {\n",
              "        text-align: right;\n",
              "    }\n",
              "</style>\n",
              "<table border=\"1\" class=\"dataframe\">\n",
              "  <thead>\n",
              "    <tr style=\"text-align: right;\">\n",
              "      <th></th>\n",
              "      <th>data_index</th>\n",
              "      <th>cluster</th>\n",
              "    </tr>\n",
              "  </thead>\n",
              "  <tbody>\n",
              "    <tr>\n",
              "      <th>164</th>\n",
              "      <td>NaN</td>\n",
              "      <td>2</td>\n",
              "    </tr>\n",
              "    <tr>\n",
              "      <th>168</th>\n",
              "      <td>NaN</td>\n",
              "      <td>2</td>\n",
              "    </tr>\n",
              "    <tr>\n",
              "      <th>169</th>\n",
              "      <td>NaN</td>\n",
              "      <td>2</td>\n",
              "    </tr>\n",
              "    <tr>\n",
              "      <th>170</th>\n",
              "      <td>NaN</td>\n",
              "      <td>2</td>\n",
              "    </tr>\n",
              "    <tr>\n",
              "      <th>171</th>\n",
              "      <td>NaN</td>\n",
              "      <td>2</td>\n",
              "    </tr>\n",
              "    <tr>\n",
              "      <th>...</th>\n",
              "      <td>...</td>\n",
              "      <td>...</td>\n",
              "    </tr>\n",
              "    <tr>\n",
              "      <th>316</th>\n",
              "      <td>NaN</td>\n",
              "      <td>2</td>\n",
              "    </tr>\n",
              "    <tr>\n",
              "      <th>317</th>\n",
              "      <td>NaN</td>\n",
              "      <td>2</td>\n",
              "    </tr>\n",
              "    <tr>\n",
              "      <th>355</th>\n",
              "      <td>NaN</td>\n",
              "      <td>2</td>\n",
              "    </tr>\n",
              "    <tr>\n",
              "      <th>356</th>\n",
              "      <td>NaN</td>\n",
              "      <td>2</td>\n",
              "    </tr>\n",
              "    <tr>\n",
              "      <th>357</th>\n",
              "      <td>NaN</td>\n",
              "      <td>2</td>\n",
              "    </tr>\n",
              "  </tbody>\n",
              "</table>\n",
              "<p>63 rows × 2 columns</p>\n",
              "</div>"
            ],
            "text/plain": [
              "     data_index  cluster\n",
              "164         NaN        2\n",
              "168         NaN        2\n",
              "169         NaN        2\n",
              "170         NaN        2\n",
              "171         NaN        2\n",
              "..          ...      ...\n",
              "316         NaN        2\n",
              "317         NaN        2\n",
              "355         NaN        2\n",
              "356         NaN        2\n",
              "357         NaN        2\n",
              "\n",
              "[63 rows x 2 columns]"
            ]
          },
          "metadata": {},
          "execution_count": 249
        }
      ]
    }
  ]
}